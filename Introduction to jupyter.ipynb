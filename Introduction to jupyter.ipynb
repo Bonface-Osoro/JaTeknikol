{
 "cells": [
  {
   "cell_type": "code",
   "execution_count": null,
   "id": "2b595116",
   "metadata": {},
   "outputs": [],
   "source": [
    "africa = {'country': ['Kenya', 'Nigeria', 'Ethiopia', \n",
    "                    'Namibia', 'South Sudan', 'Senegal', \n",
    "                    'Chad', 'Angola', 'DRC', 'Mozambique', 'Liberia'],\n",
    "        'independence': ['12/12/63', '6/1/61', 'NA', '21/03/1990', \n",
    "                '9/7/11', '4/4/60', '11/8/60', '11/11/75', \n",
    "                '30/06/1960', '25/06/1975', '26/07/1847'],\n",
    "       'colonizer': ['Britain', 'Britain', 'NA', 'Germany', 'NA', \n",
    "                     'France', 'France', 'Portugal', 'Belgium', \n",
    "                     'Portugal', 'NA'],\n",
    "       'coups': [1, 8, 5, 0, 1, 1, 7, 1, 4, 1, 4],\n",
    "       'succesful': [0, 6, 5, '-', 0, 0, 2, 0, 2, 1, 1]}"
   ]
  },
  {
   "cell_type": "markdown",
   "id": "515d3f7f",
   "metadata": {},
   "source": [
    "# Introduction to Data Types "
   ]
  },
  {
   "cell_type": "markdown",
   "id": "e560b495",
   "metadata": {},
   "source": [
    "In this tutorial, we are going to discuss:\n",
    "\n",
    "1. String\n",
    "2. Lists\n",
    "3. Tuples\n",
    "4. Arrays\n",
    "5. Dictionaries"
   ]
  },
  {
   "cell_type": "markdown",
   "id": "d8012b9b",
   "metadata": {},
   "source": [
    "### 1. String "
   ]
  },
  {
   "cell_type": "code",
   "execution_count": 5,
   "id": "c7b5a3a4",
   "metadata": {},
   "outputs": [],
   "source": [
    "a = \"I am from\"\n",
    "b = \"United States of Africa\""
   ]
  },
  {
   "cell_type": "code",
   "execution_count": 12,
   "id": "8d591191",
   "metadata": {},
   "outputs": [],
   "source": [
    "c = a + \" \" + b"
   ]
  },
  {
   "cell_type": "code",
   "execution_count": 14,
   "id": "07feda31",
   "metadata": {},
   "outputs": [],
   "source": [
    "a = '789'\n",
    "b = '56'"
   ]
  },
  {
   "cell_type": "code",
   "execution_count": 15,
   "id": "3be75774",
   "metadata": {},
   "outputs": [],
   "source": [
    "c = a + b"
   ]
  },
  {
   "cell_type": "code",
   "execution_count": 16,
   "id": "d86b7887",
   "metadata": {},
   "outputs": [
    {
     "data": {
      "text/plain": [
       "'78956'"
      ]
     },
     "execution_count": 16,
     "metadata": {},
     "output_type": "execute_result"
    }
   ],
   "source": [
    "c"
   ]
  },
  {
   "cell_type": "markdown",
   "id": "7c083774",
   "metadata": {},
   "source": [
    "### 2. Lists"
   ]
  },
  {
   "cell_type": "code",
   "execution_count": 27,
   "id": "90b517ef",
   "metadata": {},
   "outputs": [],
   "source": [
    "height = [2, 1.5, 6.1, 7, 4]\n",
    "details = [550, 13.5, 'Starlink', 2+0j, 'USA']"
   ]
  },
  {
   "cell_type": "code",
   "execution_count": 29,
   "id": "670460cd",
   "metadata": {},
   "outputs": [
    {
     "data": {
      "text/plain": [
       "[550, 13.5, 'Starlink', (2+0j), 'USA']"
      ]
     },
     "execution_count": 29,
     "metadata": {},
     "output_type": "execute_result"
    }
   ],
   "source": [
    "details"
   ]
  },
  {
   "cell_type": "code",
   "execution_count": 30,
   "id": "af54659d",
   "metadata": {},
   "outputs": [],
   "source": [
    "details[4] = 'South Africa'"
   ]
  },
  {
   "cell_type": "code",
   "execution_count": 31,
   "id": "410510d1",
   "metadata": {},
   "outputs": [
    {
     "data": {
      "text/plain": [
       "[550, 13.5, 'Starlink', (2+0j), 'South Africa']"
      ]
     },
     "execution_count": 31,
     "metadata": {},
     "output_type": "execute_result"
    }
   ],
   "source": [
    "details"
   ]
  },
  {
   "cell_type": "code",
   "execution_count": 32,
   "id": "b40396aa",
   "metadata": {},
   "outputs": [],
   "source": [
    "details[0] = 549"
   ]
  },
  {
   "cell_type": "code",
   "execution_count": 33,
   "id": "b36e0583",
   "metadata": {},
   "outputs": [
    {
     "data": {
      "text/plain": [
       "[549, 13.5, 'Starlink', (2+0j), 'South Africa']"
      ]
     },
     "execution_count": 33,
     "metadata": {},
     "output_type": "execute_result"
    }
   ],
   "source": [
    "details"
   ]
  },
  {
   "cell_type": "code",
   "execution_count": 34,
   "id": "bf3dedba",
   "metadata": {},
   "outputs": [],
   "source": [
    "details.append('Elon Musk')"
   ]
  },
  {
   "cell_type": "code",
   "execution_count": 35,
   "id": "9bb2a741",
   "metadata": {},
   "outputs": [
    {
     "data": {
      "text/plain": [
       "[549, 13.5, 'Starlink', (2+0j), 'South Africa', 'Elon Musk']"
      ]
     },
     "execution_count": 35,
     "metadata": {},
     "output_type": "execute_result"
    }
   ],
   "source": [
    "details"
   ]
  },
  {
   "cell_type": "code",
   "execution_count": 36,
   "id": "bc54039f",
   "metadata": {},
   "outputs": [],
   "source": [
    "details.remove(2+0j)"
   ]
  },
  {
   "cell_type": "code",
   "execution_count": 37,
   "id": "5279a5cd",
   "metadata": {},
   "outputs": [
    {
     "data": {
      "text/plain": [
       "[549, 13.5, 'Starlink', 'South Africa', 'Elon Musk']"
      ]
     },
     "execution_count": 37,
     "metadata": {},
     "output_type": "execute_result"
    }
   ],
   "source": [
    "details"
   ]
  },
  {
   "cell_type": "code",
   "execution_count": 38,
   "id": "31e76ad5",
   "metadata": {},
   "outputs": [
    {
     "data": {
      "text/plain": [
       "13.5"
      ]
     },
     "execution_count": 38,
     "metadata": {},
     "output_type": "execute_result"
    }
   ],
   "source": [
    "details.pop(1)"
   ]
  },
  {
   "cell_type": "code",
   "execution_count": 39,
   "id": "720b7b3e",
   "metadata": {},
   "outputs": [
    {
     "data": {
      "text/plain": [
       "[549, 'Starlink', 'South Africa', 'Elon Musk']"
      ]
     },
     "execution_count": 39,
     "metadata": {},
     "output_type": "execute_result"
    }
   ],
   "source": [
    "details"
   ]
  },
  {
   "cell_type": "code",
   "execution_count": 40,
   "id": "254faed0",
   "metadata": {},
   "outputs": [],
   "source": [
    "del details[0]"
   ]
  },
  {
   "cell_type": "code",
   "execution_count": 41,
   "id": "02fcfe3b",
   "metadata": {},
   "outputs": [
    {
     "data": {
      "text/plain": [
       "['Starlink', 'South Africa', 'Elon Musk']"
      ]
     },
     "execution_count": 41,
     "metadata": {},
     "output_type": "execute_result"
    }
   ],
   "source": [
    "details"
   ]
  },
  {
   "cell_type": "code",
   "execution_count": 5,
   "id": "5285bc2b",
   "metadata": {},
   "outputs": [],
   "source": [
    "a = [3, 4, 5]\n",
    "b = [2, 1, 2]\n",
    "c = a + b"
   ]
  },
  {
   "cell_type": "code",
   "execution_count": 43,
   "id": "ac9171d2",
   "metadata": {},
   "outputs": [
    {
     "data": {
      "text/plain": [
       "[3, 4, 5, 2, 1, 2]"
      ]
     },
     "execution_count": 43,
     "metadata": {},
     "output_type": "execute_result"
    }
   ],
   "source": [
    "c"
   ]
  },
  {
   "cell_type": "code",
   "execution_count": 33,
   "id": "682ff7b7",
   "metadata": {},
   "outputs": [
    {
     "data": {
      "text/plain": [
       "array([[ 1,  4,  9],\n",
       "       [16, 25, 36],\n",
       "       [ 1,  4, 16]])"
      ]
     },
     "execution_count": 33,
     "metadata": {},
     "output_type": "execute_result"
    }
   ],
   "source": [
    "a = np.array([[1, 2, 3], [4, 5, 6], [1, 2, 4]])\n",
    "b = np.array([[1, 2, 3], [4, 5, 6], [1, 2, 4]])\n",
    "a * b"
   ]
  },
  {
   "cell_type": "markdown",
   "id": "0efaf23e",
   "metadata": {},
   "source": [
    "### 3. Tuples"
   ]
  },
  {
   "cell_type": "code",
   "execution_count": 35,
   "id": "315c5d91",
   "metadata": {},
   "outputs": [],
   "source": [
    "detail = (\"Country\", 54.5, 1961, True)"
   ]
  },
  {
   "cell_type": "code",
   "execution_count": 36,
   "id": "655379e4",
   "metadata": {},
   "outputs": [
    {
     "data": {
      "text/plain": [
       "('Country', 54.5, 1961, True)"
      ]
     },
     "execution_count": 36,
     "metadata": {},
     "output_type": "execute_result"
    }
   ],
   "source": [
    "detail"
   ]
  },
  {
   "cell_type": "code",
   "execution_count": 37,
   "id": "9bb31f36",
   "metadata": {},
   "outputs": [
    {
     "data": {
      "text/plain": [
       "4"
      ]
     },
     "execution_count": 37,
     "metadata": {},
     "output_type": "execute_result"
    }
   ],
   "source": [
    "len(detail)"
   ]
  },
  {
   "cell_type": "code",
   "execution_count": 39,
   "id": "18c13a4b",
   "metadata": {},
   "outputs": [],
   "source": [
    "details = ('54',)"
   ]
  },
  {
   "cell_type": "code",
   "execution_count": 40,
   "id": "d1e416a0",
   "metadata": {},
   "outputs": [
    {
     "data": {
      "text/plain": [
       "('54',)"
      ]
     },
     "execution_count": 40,
     "metadata": {},
     "output_type": "execute_result"
    }
   ],
   "source": [
    "details"
   ]
  },
  {
   "cell_type": "markdown",
   "id": "c41aa28a",
   "metadata": {},
   "source": [
    "### 4. Arrays"
   ]
  },
  {
   "cell_type": "markdown",
   "id": "6577ccdc",
   "metadata": {},
   "source": [
    "Convert a list to array"
   ]
  },
  {
   "cell_type": "code",
   "execution_count": 44,
   "id": "b1c63c00",
   "metadata": {},
   "outputs": [
    {
     "data": {
      "text/plain": [
       "[0, 0, 1, 4, 7, 16, 31, 64, 127]"
      ]
     },
     "execution_count": 44,
     "metadata": {},
     "output_type": "execute_result"
    }
   ],
   "source": [
    "a = [0, 0, 1, 4, 7, 16, 31, 64, 127] \n",
    "a"
   ]
  },
  {
   "cell_type": "code",
   "execution_count": 45,
   "id": "d7f6e1de",
   "metadata": {},
   "outputs": [
    {
     "data": {
      "text/plain": [
       "list"
      ]
     },
     "execution_count": 45,
     "metadata": {},
     "output_type": "execute_result"
    }
   ],
   "source": [
    "type(a)"
   ]
  },
  {
   "cell_type": "code",
   "execution_count": 46,
   "id": "d8e2b9cc",
   "metadata": {},
   "outputs": [],
   "source": [
    "import numpy as np"
   ]
  },
  {
   "cell_type": "code",
   "execution_count": 47,
   "id": "c01cc10b",
   "metadata": {},
   "outputs": [
    {
     "data": {
      "text/plain": [
       "array([  0,   0,   1,   4,   7,  16,  31,  64, 127])"
      ]
     },
     "execution_count": 47,
     "metadata": {},
     "output_type": "execute_result"
    }
   ],
   "source": [
    "b = np.array(a)\n",
    "b"
   ]
  },
  {
   "cell_type": "code",
   "execution_count": 48,
   "id": "9b0b5737",
   "metadata": {},
   "outputs": [
    {
     "data": {
      "text/plain": [
       "numpy.ndarray"
      ]
     },
     "execution_count": 48,
     "metadata": {},
     "output_type": "execute_result"
    }
   ],
   "source": [
    "type(b)"
   ]
  },
  {
   "cell_type": "markdown",
   "id": "5a860076",
   "metadata": {},
   "source": [
    "Using function linspace or Logspace"
   ]
  },
  {
   "cell_type": "code",
   "execution_count": null,
   "id": "8ef380d6",
   "metadata": {},
   "outputs": [],
   "source": [
    "(start, stop, N)"
   ]
  },
  {
   "cell_type": "code",
   "execution_count": 49,
   "id": "aa209f67",
   "metadata": {},
   "outputs": [
    {
     "data": {
      "text/plain": [
       "array([ 0.,  2.,  4.,  6.,  8., 10.])"
      ]
     },
     "execution_count": 49,
     "metadata": {},
     "output_type": "execute_result"
    }
   ],
   "source": [
    "c = np.linspace(0, 10, 6)\n",
    "c"
   ]
  },
  {
   "cell_type": "code",
   "execution_count": 50,
   "id": "41bfee34",
   "metadata": {},
   "outputs": [
    {
     "data": {
      "text/plain": [
       "array([1.e+00, 1.e+02, 1.e+04, 1.e+06, 1.e+08, 1.e+10])"
      ]
     },
     "execution_count": 50,
     "metadata": {},
     "output_type": "execute_result"
    }
   ],
   "source": [
    "d = np.logspace(0, 10, 6)\n",
    "d"
   ]
  },
  {
   "cell_type": "markdown",
   "id": "b31380b2",
   "metadata": {},
   "source": [
    "Using Arange function"
   ]
  },
  {
   "cell_type": "code",
   "execution_count": null,
   "id": "2b3c91b2",
   "metadata": {},
   "outputs": [],
   "source": [
    "(start, stop, step)"
   ]
  },
  {
   "cell_type": "code",
   "execution_count": 65,
   "id": "113c4001",
   "metadata": {},
   "outputs": [
    {
     "data": {
      "text/plain": [
       "array([ 0,  1,  2,  3,  4,  5,  6,  7,  8,  9, 10, 11])"
      ]
     },
     "execution_count": 65,
     "metadata": {},
     "output_type": "execute_result"
    }
   ],
   "source": [
    "e = np.arange(12)\n",
    "e"
   ]
  },
  {
   "cell_type": "markdown",
   "id": "65b555cb",
   "metadata": {},
   "source": [
    "Using numpy zeros and ones"
   ]
  },
  {
   "cell_type": "code",
   "execution_count": 66,
   "id": "87b38cbe",
   "metadata": {},
   "outputs": [
    {
     "data": {
      "text/plain": [
       "array([0, 0, 0, 0, 0, 0, 0, 0])"
      ]
     },
     "execution_count": 66,
     "metadata": {},
     "output_type": "execute_result"
    }
   ],
   "source": [
    "f = np.zeros(8, dtype = int)\n",
    "f"
   ]
  },
  {
   "cell_type": "code",
   "execution_count": 67,
   "id": "26a642d6",
   "metadata": {},
   "outputs": [
    {
     "data": {
      "text/plain": [
       "array([1., 1., 1., 1., 1.])"
      ]
     },
     "execution_count": 67,
     "metadata": {},
     "output_type": "execute_result"
    }
   ],
   "source": [
    "g = np.ones(5, dtype = float)\n",
    "g"
   ]
  },
  {
   "cell_type": "code",
   "execution_count": 68,
   "id": "75ed20bb",
   "metadata": {},
   "outputs": [
    {
     "data": {
      "text/plain": [
       "5"
      ]
     },
     "execution_count": 68,
     "metadata": {},
     "output_type": "execute_result"
    }
   ],
   "source": [
    "len(g)"
   ]
  },
  {
   "cell_type": "markdown",
   "id": "87ea125c",
   "metadata": {},
   "source": [
    "### Mathematical Operations with Arrays"
   ]
  },
  {
   "cell_type": "code",
   "execution_count": 72,
   "id": "86b3f553",
   "metadata": {},
   "outputs": [
    {
     "data": {
      "text/plain": [
       "array([-1.,  0.,  1.,  2.,  3.,  4.,  5.])"
      ]
     },
     "execution_count": 72,
     "metadata": {},
     "output_type": "execute_result"
    }
   ],
   "source": [
    "numb = np.linspace(-1, 5, 7)\n",
    "numb"
   ]
  },
  {
   "cell_type": "code",
   "execution_count": 73,
   "id": "49ef9f85",
   "metadata": {},
   "outputs": [
    {
     "data": {
      "text/plain": [
       "array([-5.,  0.,  5., 10., 15., 20., 25.])"
      ]
     },
     "execution_count": 73,
     "metadata": {},
     "output_type": "execute_result"
    }
   ],
   "source": [
    "numb * 5"
   ]
  },
  {
   "cell_type": "code",
   "execution_count": 74,
   "id": "8b9268c5",
   "metadata": {},
   "outputs": [
    {
     "data": {
      "text/plain": [
       "array([-0.5,  0. ,  0.5,  1. ,  1.5,  2. ,  2.5])"
      ]
     },
     "execution_count": 74,
     "metadata": {},
     "output_type": "execute_result"
    }
   ],
   "source": [
    "numb / 2"
   ]
  },
  {
   "cell_type": "code",
   "execution_count": 75,
   "id": "3a5c7c05",
   "metadata": {},
   "outputs": [
    {
     "data": {
      "text/plain": [
       "array([ -1.,   0.,   1.,   8.,  27.,  64., 125.])"
      ]
     },
     "execution_count": 75,
     "metadata": {},
     "output_type": "execute_result"
    }
   ],
   "source": [
    "numb ** 3"
   ]
  },
  {
   "cell_type": "code",
   "execution_count": 76,
   "id": "f1414432",
   "metadata": {},
   "outputs": [
    {
     "data": {
      "text/plain": [
       "array([-21., -20., -19., -18., -17., -16., -15.])"
      ]
     },
     "execution_count": 76,
     "metadata": {},
     "output_type": "execute_result"
    }
   ],
   "source": [
    "numb - 20"
   ]
  },
  {
   "cell_type": "code",
   "execution_count": 77,
   "id": "2fccd42a",
   "metadata": {},
   "outputs": [
    {
     "data": {
      "text/plain": [
       "array([[1, 2, 3],\n",
       "       [3, 5, 6]])"
      ]
     },
     "execution_count": 77,
     "metadata": {},
     "output_type": "execute_result"
    }
   ],
   "source": [
    "array_2d = np.array([[1, 2, 3], [3, 5, 6]])\n",
    "array_2d"
   ]
  },
  {
   "cell_type": "code",
   "execution_count": 78,
   "id": "ed6e47e6",
   "metadata": {},
   "outputs": [
    {
     "data": {
      "text/plain": [
       "array([[2, 2, 2],\n",
       "       [2, 2, 2]])"
      ]
     },
     "execution_count": 78,
     "metadata": {},
     "output_type": "execute_result"
    }
   ],
   "source": [
    "array_2 = np.array([[2, 2, 2], [2, 2, 2]])\n",
    "array_2"
   ]
  },
  {
   "cell_type": "code",
   "execution_count": 79,
   "id": "c8d70789",
   "metadata": {},
   "outputs": [
    {
     "data": {
      "text/plain": [
       "array([[ 2,  4,  6],\n",
       "       [ 6, 10, 12]])"
      ]
     },
     "execution_count": 79,
     "metadata": {},
     "output_type": "execute_result"
    }
   ],
   "source": [
    "array_2d * array_2"
   ]
  },
  {
   "cell_type": "markdown",
   "id": "4ba52915",
   "metadata": {},
   "source": [
    "### 5. Dictionaries"
   ]
  },
  {
   "cell_type": "code",
   "execution_count": 92,
   "id": "698ddfc1",
   "metadata": {},
   "outputs": [],
   "source": [
    "country_a = {\"name\": \"Kenya\",\n",
    "            \"monarchy\": False,\n",
    "            \"year\": 1963,\n",
    "            \"formal_languages\": [\"Swahili\", \"English\"]}"
   ]
  },
  {
   "cell_type": "code",
   "execution_count": 93,
   "id": "84490949",
   "metadata": {},
   "outputs": [
    {
     "data": {
      "text/plain": [
       "{'name': 'Kenya',\n",
       " 'monarchy': False,\n",
       " 'year': 1963,\n",
       " 'formal_languages': ['Swahili', 'English']}"
      ]
     },
     "execution_count": 93,
     "metadata": {},
     "output_type": "execute_result"
    }
   ],
   "source": [
    "country_a"
   ]
  },
  {
   "cell_type": "code",
   "execution_count": 94,
   "id": "6b52fb6f",
   "metadata": {},
   "outputs": [
    {
     "data": {
      "text/plain": [
       "1963"
      ]
     },
     "execution_count": 94,
     "metadata": {},
     "output_type": "execute_result"
    }
   ],
   "source": [
    "country_a[\"year\"]"
   ]
  },
  {
   "cell_type": "markdown",
   "id": "bbfa137e",
   "metadata": {},
   "source": [
    "Dictionary of dictionaries"
   ]
  },
  {
   "cell_type": "code",
   "execution_count": 107,
   "id": "34d6fa54",
   "metadata": {},
   "outputs": [],
   "source": [
    "countries = {\n",
    "    'KEN': {\"name\": \"Kenya\",\n",
    "            \"monarchy\": False,\n",
    "            \"year\": 1963,\n",
    "            \"formal_languages\": [\"Swahili\", \"English\"]},\n",
    "    'GBR': {\"name\": \"Great Britain and Northern Island\",\n",
    "            \"monarchy\": True,\n",
    "            \"year\": 1800,\n",
    "            \"formal_languages\": [\"Scottish\", \"English\", \"Welsh\", \"Irish\"]}\n",
    "}"
   ]
  },
  {
   "cell_type": "code",
   "execution_count": 108,
   "id": "fb9e4ab8",
   "metadata": {},
   "outputs": [
    {
     "data": {
      "text/plain": [
       "{'KEN': {'name': 'Kenya',\n",
       "  'monarchy': False,\n",
       "  'year': 1963,\n",
       "  'formal_languages': ['Swahili', 'English']},\n",
       " 'GBR': {'name': 'Great Britain and Northern Island',\n",
       "  'monarchy': True,\n",
       "  'year': 1800,\n",
       "  'formal_languages': ['Scottish', 'English', 'Welsh', 'Irish']}}"
      ]
     },
     "execution_count": 108,
     "metadata": {},
     "output_type": "execute_result"
    }
   ],
   "source": [
    "countries"
   ]
  },
  {
   "cell_type": "code",
   "execution_count": 109,
   "id": "8daf7ddd",
   "metadata": {},
   "outputs": [
    {
     "data": {
      "text/plain": [
       "dict_items([('KEN', {'name': 'Kenya', 'monarchy': False, 'year': 1963, 'formal_languages': ['Swahili', 'English']}), ('GBR', {'name': 'Great Britain and Northern Island', 'monarchy': True, 'year': 1800, 'formal_languages': ['Scottish', 'English', 'Welsh', 'Irish']})])"
      ]
     },
     "execution_count": 109,
     "metadata": {},
     "output_type": "execute_result"
    }
   ],
   "source": [
    "countries.items()"
   ]
  },
  {
   "cell_type": "code",
   "execution_count": 112,
   "id": "46147d22",
   "metadata": {},
   "outputs": [
    {
     "data": {
      "text/plain": [
       "dict_items([('name', 'Great Britain and Northern Island'), ('monarchy', True), ('year', 1800), ('formal_languages', ['Scottish', 'English', 'Welsh', 'Irish'])])"
      ]
     },
     "execution_count": 112,
     "metadata": {},
     "output_type": "execute_result"
    }
   ],
   "source": [
    "countries['GBR'].items()"
   ]
  },
  {
   "cell_type": "markdown",
   "id": "5a217608",
   "metadata": {},
   "source": [
    "### Input "
   ]
  },
  {
   "cell_type": "code",
   "execution_count": 132,
   "id": "113d517d",
   "metadata": {},
   "outputs": [
    {
     "name": "stdout",
     "output_type": "stream",
     "text": [
      "Please Enter your Age: 5\n",
      "5\n"
     ]
    }
   ],
   "source": [
    "age = int(input(\"Please Enter your Age: \"))\n",
    "print(age)"
   ]
  },
  {
   "cell_type": "markdown",
   "id": "a2494d58",
   "metadata": {},
   "source": [
    "### For loops "
   ]
  },
  {
   "cell_type": "code",
   "execution_count": 138,
   "id": "c42d6d24",
   "metadata": {},
   "outputs": [
    {
     "name": "stdout",
     "output_type": "stream",
     "text": [
      "1\n",
      "2\n",
      "3\n",
      "4\n",
      "5\n",
      "6\n",
      "7\n",
      "8\n",
      "9\n",
      "10\n",
      "11\n",
      "12\n",
      "13\n",
      "14\n",
      "15\n",
      "16\n",
      "17\n",
      "18\n",
      "19\n"
     ]
    }
   ],
   "source": [
    "for anything in range(1, 20):\n",
    "    print(anything)"
   ]
  },
  {
   "cell_type": "code",
   "execution_count": 140,
   "id": "0f5adee1",
   "metadata": {},
   "outputs": [
    {
     "data": {
      "text/plain": [
       "['Kenya',\n",
       " 'USA',\n",
       " 'China',\n",
       " 'Russsia',\n",
       " 'Brazil',\n",
       " 'Australia',\n",
       " 'Fiji',\n",
       " 'India',\n",
       " 'Nigeria']"
      ]
     },
     "execution_count": 140,
     "metadata": {},
     "output_type": "execute_result"
    }
   ],
   "source": [
    "countries = ['Kenya', 'USA', 'China', 'Russsia', 'Brazil', 'Australia', 'Fiji', 'India', 'Nigeria']\n",
    "countries"
   ]
  },
  {
   "cell_type": "code",
   "execution_count": 142,
   "id": "76329026",
   "metadata": {},
   "outputs": [
    {
     "name": "stdout",
     "output_type": "stream",
     "text": [
      "Kenya\n",
      "USA\n",
      "China\n",
      "Russsia\n",
      "Brazil\n",
      "Australia\n",
      "Fiji\n",
      "India\n",
      "Nigeria\n"
     ]
    }
   ],
   "source": [
    "for country in countries:\n",
    "    print(country)"
   ]
  },
  {
   "cell_type": "code",
   "execution_count": 146,
   "id": "ab9cf3cf",
   "metadata": {},
   "outputs": [
    {
     "name": "stdout",
     "output_type": "stream",
     "text": [
      "0.01\n",
      "0.02\n",
      "0.03\n",
      "0.04\n",
      "0.05\n"
     ]
    }
   ],
   "source": [
    "numbers = [1, 2, 3, 4, 5]\n",
    "for n in numbers:\n",
    "    addition = n / 100\n",
    "    print(addition)"
   ]
  },
  {
   "cell_type": "markdown",
   "id": "9bd4fdd9",
   "metadata": {},
   "source": [
    "### If condition"
   ]
  },
  {
   "cell_type": "code",
   "execution_count": 149,
   "id": "e5f86c27",
   "metadata": {},
   "outputs": [
    {
     "name": "stdout",
     "output_type": "stream",
     "text": [
      "1\n",
      "2\n",
      "3\n",
      "4\n",
      "5\n",
      "6\n",
      "7\n",
      "8\n",
      "9\n",
      "10\n",
      "11\n",
      "12\n",
      "14\n",
      "15\n",
      "16\n",
      "17\n",
      "18\n",
      "19\n",
      "20\n"
     ]
    }
   ],
   "source": [
    "for number in range(1, 21):\n",
    "    if number == 13:\n",
    "        continue\n",
    "    else:\n",
    "        print(number)"
   ]
  },
  {
   "cell_type": "markdown",
   "id": "e889f026",
   "metadata": {},
   "source": [
    "### else and elif condition"
   ]
  },
  {
   "cell_type": "code",
   "execution_count": 150,
   "id": "2d6fff9c",
   "metadata": {},
   "outputs": [],
   "source": [
    "countries = ['Kenya', 'USA', 'China', 'Russsia', 'Brazil', 'Australia', 'Fiji', 'India', 'Nigeria']"
   ]
  },
  {
   "cell_type": "code",
   "execution_count": 158,
   "id": "8d46e87b",
   "metadata": {},
   "outputs": [
    {
     "name": "stdout",
     "output_type": "stream",
     "text": [
      "Kenya Africa\n",
      "USA Americas\n",
      "China Asia\n",
      "Russsia Oceania\n",
      "Brazil Americas\n",
      "Australia Oceania\n",
      "Fiji Oceania\n",
      "India Asia\n",
      "Nigeria Africa\n"
     ]
    }
   ],
   "source": [
    "for country in countries:\n",
    "    if country == 'Kenya' or country == 'Nigeria':\n",
    "        continent = 'Africa'\n",
    "    elif country == 'USA' or country == 'Brazil':\n",
    "        continent = 'Americas'\n",
    "    elif country == 'China' or country == 'India':\n",
    "        continent = 'Asia'\n",
    "    elif country == 'Russia':\n",
    "        continent = 'Europe'\n",
    "    else:\n",
    "        continent = 'Oceania'\n",
    "    print(country, continent)"
   ]
  },
  {
   "cell_type": "markdown",
   "id": "60e2f666",
   "metadata": {},
   "source": [
    "### Logical Operators "
   ]
  },
  {
   "cell_type": "markdown",
   "id": "8b65c28d",
   "metadata": {},
   "source": [
    "1. < less than\n",
    "2. <= less than or equal to\n",
    "3. .> greater than\n",
    "4. .>= greater than or equal to\n",
    "5. == equal\n",
    "6. != not equal\n",
    "7. and both must be true\n",
    "8. or one or both must be true"
   ]
  },
  {
   "cell_type": "code",
   "execution_count": 161,
   "id": "e61d074d",
   "metadata": {},
   "outputs": [],
   "source": [
    "a = 5\n",
    "b = 10"
   ]
  },
  {
   "cell_type": "code",
   "execution_count": 167,
   "id": "77c1a0c7",
   "metadata": {},
   "outputs": [
    {
     "data": {
      "text/plain": [
       "True"
      ]
     },
     "execution_count": 167,
     "metadata": {},
     "output_type": "execute_result"
    }
   ],
   "source": [
    "a > 2 and b < 20"
   ]
  },
  {
   "cell_type": "code",
   "execution_count": 168,
   "id": "6eb4c6d4",
   "metadata": {},
   "outputs": [
    {
     "data": {
      "text/plain": [
       "False"
      ]
     },
     "execution_count": 168,
     "metadata": {},
     "output_type": "execute_result"
    }
   ],
   "source": [
    "a > 2 and b > 10"
   ]
  },
  {
   "cell_type": "code",
   "execution_count": 169,
   "id": "4dbaebc6",
   "metadata": {},
   "outputs": [
    {
     "data": {
      "text/plain": [
       "True"
      ]
     },
     "execution_count": 169,
     "metadata": {},
     "output_type": "execute_result"
    }
   ],
   "source": [
    "a > 2 or b > 10"
   ]
  },
  {
   "cell_type": "code",
   "execution_count": 170,
   "id": "6b9416fe",
   "metadata": {},
   "outputs": [
    {
     "data": {
      "text/plain": [
       "False"
      ]
     },
     "execution_count": 170,
     "metadata": {},
     "output_type": "execute_result"
    }
   ],
   "source": [
    "a == 8"
   ]
  },
  {
   "cell_type": "markdown",
   "id": "3de4b853",
   "metadata": {},
   "source": [
    "#### Example of logical operators"
   ]
  },
  {
   "cell_type": "code",
   "execution_count": 179,
   "id": "387b62b1",
   "metadata": {},
   "outputs": [
    {
     "name": "stdout",
     "output_type": "stream",
     "text": [
      "Please Enter your mark between 0-100: -7\n",
      "The grade is E\n"
     ]
    }
   ],
   "source": [
    "marks = float(input(\"Please Enter your mark between 0-100: \"))\n",
    "if marks <= 29.99:\n",
    "    print(\"The grade is E\")\n",
    "elif marks >= 29.99 and marks <= 34.99:\n",
    "    print(\"The grade is D-\")\n",
    "elif marks >= 34.99 and marks <= 39.99:\n",
    "    print(\"The grade is D\")\n",
    "elif marks >= 39.99 and marks <= 44.99:\n",
    "    print(\"The grade is D+\")\n",
    "elif marks >= 44.99 and marks <= 49.99:\n",
    "    print(\"The grade is C-\")\n",
    "elif marks >= 49.99 and marks <= 54.99:\n",
    "    print(\"The grade is C\")\n",
    "elif marks >= 54.99 and marks <= 59.99:\n",
    "    print(\"The grade is C+\")\n",
    "elif marks >= 59.99 and marks <= 64.99:\n",
    "    print(\"The grade is B-\")\n",
    "elif marks >= 64.99 and marks <= 69.99:\n",
    "    print(\"The grade is B\")\n",
    "elif marks >= 69.99 and marks <= 74.99:\n",
    "    print(\"The grade is B+\")\n",
    "elif marks >= 74.99 and marks <= 79.99:\n",
    "    print(\"The grade is A-\")\n",
    "else:\n",
    "    print(\"A\")"
   ]
  },
  {
   "cell_type": "markdown",
   "id": "95ff3b19",
   "metadata": {},
   "source": [
    "### Functions "
   ]
  },
  {
   "cell_type": "code",
   "execution_count": 181,
   "id": "66cb78dc",
   "metadata": {},
   "outputs": [],
   "source": [
    "def area_rectangle(length, width):\n",
    "    \"\"\"\n",
    "    This function calculates the area of a rectangle.\n",
    "    \n",
    "    Parameter\n",
    "    ---------\n",
    "    length : float\n",
    "        Length of the rectangle\n",
    "    width : float\n",
    "        Width of the rectangle\n",
    "        \n",
    "    Returns\n",
    "    -------\n",
    "    area : float\n",
    "        Area of the rectangle\n",
    "    \"\"\"\n",
    "    area = length * width\n",
    "    \n",
    "    return area "
   ]
  },
  {
   "cell_type": "code",
   "execution_count": 183,
   "id": "c403f05f",
   "metadata": {},
   "outputs": [
    {
     "data": {
      "text/plain": [
       "5000"
      ]
     },
     "execution_count": 183,
     "metadata": {},
     "output_type": "execute_result"
    }
   ],
   "source": [
    "area_rectangle(100, 50)"
   ]
  },
  {
   "cell_type": "code",
   "execution_count": 184,
   "id": "b1e3f420",
   "metadata": {},
   "outputs": [],
   "source": [
    "def salary(gross_salary, tax):\n",
    "    \"\"\"\n",
    "    This function calculates net salary.\n",
    "    \n",
    "    Parameter\n",
    "    ---------\n",
    "    gross_salary : float\n",
    "        Total salary \n",
    "    tax : float\n",
    "        Percent of the tax\n",
    "        \n",
    "    Returns\n",
    "    -------\n",
    "    net_salary : float\n",
    "        Net salary\n",
    "    \"\"\"\n",
    "    taxable_income = (tax / 100) * gross_salary\n",
    "    net_salary = gross_salary - taxable_income\n",
    "    \n",
    "    return net_salary"
   ]
  },
  {
   "cell_type": "code",
   "execution_count": 187,
   "id": "9b24d52c",
   "metadata": {},
   "outputs": [
    {
     "data": {
      "text/plain": [
       "8000.0"
      ]
     },
     "execution_count": 187,
     "metadata": {},
     "output_type": "execute_result"
    }
   ],
   "source": [
    "amount = salary(10000, 20)\n",
    "amount"
   ]
  },
  {
   "cell_type": "code",
   "execution_count": 201,
   "id": "10fd6992",
   "metadata": {},
   "outputs": [
    {
     "name": "stdout",
     "output_type": "stream",
     "text": [
      "8000.0\n",
      "16000.0\n",
      "24000.0\n",
      "32000.0\n",
      "40000.0\n",
      "48000.0\n",
      "56000.0\n",
      "64000.0\n",
      "72000.0\n"
     ]
    }
   ],
   "source": [
    "for pay in range(10000, 100000, 10000):\n",
    "    amount = salary(pay, 20)\n",
    "    print(amount)"
   ]
  },
  {
   "cell_type": "markdown",
   "id": "964545f0",
   "metadata": {},
   "source": [
    "### Plotting"
   ]
  },
  {
   "cell_type": "markdown",
   "id": "15b2ced5",
   "metadata": {},
   "source": [
    "### a. Line plots "
   ]
  },
  {
   "cell_type": "code",
   "execution_count": 202,
   "id": "757982f5",
   "metadata": {},
   "outputs": [],
   "source": [
    "import matplotlib.pyplot as plt"
   ]
  },
  {
   "cell_type": "code",
   "execution_count": 209,
   "id": "6395cac2",
   "metadata": {},
   "outputs": [
    {
     "data": {
      "image/png": "[encoded data removed]",
      "text/plain": [
       "<Figure size 432x288 with 1 Axes>"
      ]
     },
     "metadata": {
      "needs_background": "light"
     },
     "output_type": "display_data"
    }
   ],
   "source": [
    "day = [1, 2, 3, 4, 5, 6, 7]\n",
    "temp = [23, 20, 19, 18, 24, 26, 27]\n",
    "plt.plot(day, temp)\n",
    "plt.xlabel(\"Day of the Week\")\n",
    "plt.ylabel(\"Temperature (C)\")\n",
    "plt.title(\"Weekly Temperature\")\n",
    "plt.show()"
   ]
  },
  {
   "cell_type": "markdown",
   "id": "a4ebbd78",
   "metadata": {},
   "source": [
    "#### b. Bar Plots "
   ]
  },
  {
   "cell_type": "code",
   "execution_count": 211,
   "id": "e3787f9f",
   "metadata": {},
   "outputs": [
    {
     "data": {
      "image/png": "[encoded data removed]",
      "text/plain": [
       "<Figure size 432x288 with 1 Axes>"
      ]
     },
     "metadata": {
      "needs_background": "light"
     },
     "output_type": "display_data"
    }
   ],
   "source": [
    "players = ['Haaland', 'Kane', 'Toney', 'Salah', 'Wilson']\n",
    "goals = [36, 30, 20, 19, 18]\n",
    "plt.bar(players, goals)\n",
    "plt.xlabel(\"Players Name\")\n",
    "plt.ylabel(\"Number of Goals\")\n",
    "plt.title(\"English Premier Top Scores\")\n",
    "plt.show()"
   ]
  },
  {
   "cell_type": "code",
   "execution_count": null,
   "id": "ade88b2a",
   "metadata": {},
   "outputs": [],
   "source": []
  }
 ],
 "metadata": {
  "kernelspec": {
   "display_name": "Python 3 (ipykernel)",
   "language": "python",
   "name": "python3"
  },
  "language_info": {
   "codemirror_mode": {
    "name": "ipython",
    "version": 3
   },
   "file_extension": ".py",
   "mimetype": "text/x-python",
   "name": "python",
   "nbconvert_exporter": "python",
   "pygments_lexer": "ipython3",
   "version": "3.9.12"
  }
 },
 "nbformat": 4,
 "nbformat_minor": 5
}
