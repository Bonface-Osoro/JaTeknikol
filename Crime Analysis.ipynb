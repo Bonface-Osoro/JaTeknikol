{
 "cells": [
  {
   "cell_type": "markdown",
   "id": "526c9b76",
   "metadata": {},
   "source": [
    "Lets import the necessary libraries to help in this analysis"
   ]
  },
  {
   "cell_type": "code",
   "execution_count": 133,
   "id": "693b32b2",
   "metadata": {},
   "outputs": [],
   "source": [
    "import numpy as np\n",
    "import pandas as pd\n",
    "import matplotlib.pyplot as plt\n",
    "import seaborn as sns\n",
    "%matplotlib inline"
   ]
  },
  {
   "cell_type": "markdown",
   "id": "be7188db",
   "metadata": {},
   "source": [
    "Then read the data from the csv file"
   ]
  },
  {
   "cell_type": "code",
   "execution_count": 134,
   "id": "633a1639",
   "metadata": {},
   "outputs": [
    {
     "data": {
      "text/html": [
       "<div>\n",
       "<style scoped>\n",
       "    .dataframe tbody tr th:only-of-type {\n",
       "        vertical-align: middle;\n",
       "    }\n",
       "\n",
       "    .dataframe tbody tr th {\n",
       "        vertical-align: top;\n",
       "    }\n",
       "\n",
       "    .dataframe thead th {\n",
       "        text-align: right;\n",
       "    }\n",
       "</style>\n",
       "<table border=\"1\" class=\"dataframe\">\n",
       "  <thead>\n",
       "    <tr style=\"text-align: right;\">\n",
       "      <th></th>\n",
       "      <th>Arrest Year</th>\n",
       "      <th>Arrest Date</th>\n",
       "      <th>Arrest Hour</th>\n",
       "      <th>Age</th>\n",
       "      <th>Defendant Race</th>\n",
       "      <th>Defendant Ethnicity</th>\n",
       "      <th>Defendant Sex</th>\n",
       "      <th>Arrest Category</th>\n",
       "      <th>Offense Latitude</th>\n",
       "      <th>Offense Longitude</th>\n",
       "    </tr>\n",
       "  </thead>\n",
       "  <tbody>\n",
       "    <tr>\n",
       "      <th>0</th>\n",
       "      <td>2021</td>\n",
       "      <td>1/1/21</td>\n",
       "      <td>0</td>\n",
       "      <td>38</td>\n",
       "      <td>BLACK</td>\n",
       "      <td>UNKNOWN</td>\n",
       "      <td>MALE</td>\n",
       "      <td>Damage to Property</td>\n",
       "      <td>38.927</td>\n",
       "      <td>-77.006</td>\n",
       "    </tr>\n",
       "    <tr>\n",
       "      <th>1</th>\n",
       "      <td>2021</td>\n",
       "      <td>1/1/21</td>\n",
       "      <td>0</td>\n",
       "      <td>31</td>\n",
       "      <td>BLACK</td>\n",
       "      <td>NOT HISPANIC</td>\n",
       "      <td>MALE</td>\n",
       "      <td>Simple Assault</td>\n",
       "      <td>38.925</td>\n",
       "      <td>-77.033</td>\n",
       "    </tr>\n",
       "    <tr>\n",
       "      <th>2</th>\n",
       "      <td>2021</td>\n",
       "      <td>1/1/21</td>\n",
       "      <td>0</td>\n",
       "      <td>35</td>\n",
       "      <td>BLACK</td>\n",
       "      <td>NOT HISPANIC</td>\n",
       "      <td>MALE</td>\n",
       "      <td>Weapon Violations</td>\n",
       "      <td>38.900</td>\n",
       "      <td>-76.930</td>\n",
       "    </tr>\n",
       "    <tr>\n",
       "      <th>3</th>\n",
       "      <td>2021</td>\n",
       "      <td>1/1/21</td>\n",
       "      <td>0</td>\n",
       "      <td>31</td>\n",
       "      <td>BLACK</td>\n",
       "      <td>NOT HISPANIC</td>\n",
       "      <td>MALE</td>\n",
       "      <td>Weapon Violations</td>\n",
       "      <td>38.849</td>\n",
       "      <td>-76.976</td>\n",
       "    </tr>\n",
       "    <tr>\n",
       "      <th>4</th>\n",
       "      <td>2021</td>\n",
       "      <td>1/1/21</td>\n",
       "      <td>0</td>\n",
       "      <td>21</td>\n",
       "      <td>BLACK</td>\n",
       "      <td>NOT HISPANIC</td>\n",
       "      <td>MALE</td>\n",
       "      <td>Weapon Violations</td>\n",
       "      <td>38.882</td>\n",
       "      <td>-76.925</td>\n",
       "    </tr>\n",
       "  </tbody>\n",
       "</table>\n",
       "</div>"
      ],
      "text/plain": [
       "   Arrest Year Arrest Date  Arrest Hour  Age Defendant Race  \\\n",
       "0         2021      1/1/21            0   38          BLACK   \n",
       "1         2021      1/1/21            0   31          BLACK   \n",
       "2         2021      1/1/21            0   35          BLACK   \n",
       "3         2021      1/1/21            0   31          BLACK   \n",
       "4         2021      1/1/21            0   21          BLACK   \n",
       "\n",
       "  Defendant Ethnicity Defendant Sex     Arrest Category  Offense Latitude  \\\n",
       "0             UNKNOWN          MALE  Damage to Property            38.927   \n",
       "1        NOT HISPANIC          MALE      Simple Assault            38.925   \n",
       "2        NOT HISPANIC          MALE   Weapon Violations            38.900   \n",
       "3        NOT HISPANIC          MALE   Weapon Violations            38.849   \n",
       "4        NOT HISPANIC          MALE   Weapon Violations            38.882   \n",
       "\n",
       "   Offense Longitude  \n",
       "0            -77.006  \n",
       "1            -77.033  \n",
       "2            -76.930  \n",
       "3            -76.976  \n",
       "4            -76.925  "
      ]
     },
     "execution_count": 134,
     "metadata": {},
     "output_type": "execute_result"
    }
   ],
   "source": [
    "df = pd.read_csv('crime_data.csv')\n",
    "df.head()"
   ]
  },
  {
   "cell_type": "markdown",
   "id": "c294d4e0",
   "metadata": {},
   "source": [
    "Inquire the number of datapoints and columns"
   ]
  },
  {
   "cell_type": "code",
   "execution_count": 135,
   "id": "fdbe2831",
   "metadata": {},
   "outputs": [
    {
     "data": {
      "text/plain": [
       "(15653, 10)"
      ]
     },
     "execution_count": 135,
     "metadata": {},
     "output_type": "execute_result"
    }
   ],
   "source": [
    "df.shape"
   ]
  },
  {
   "cell_type": "code",
   "execution_count": 136,
   "id": "b0842fa1",
   "metadata": {},
   "outputs": [
    {
     "data": {
      "text/plain": [
       "Index(['Arrest Year', 'Arrest Date', 'Arrest Hour', 'Age', 'Defendant Race',\n",
       "       'Defendant Ethnicity', 'Defendant Sex', 'Arrest Category',\n",
       "       'Offense Latitude', 'Offense Longitude'],\n",
       "      dtype='object')"
      ]
     },
     "execution_count": 136,
     "metadata": {},
     "output_type": "execute_result"
    }
   ],
   "source": [
    "df.columns"
   ]
  },
  {
   "cell_type": "markdown",
   "id": "60aba5b3",
   "metadata": {},
   "source": [
    "Let us check for any missing values"
   ]
  },
  {
   "cell_type": "code",
   "execution_count": 137,
   "id": "7c4a8a0a",
   "metadata": {},
   "outputs": [
    {
     "data": {
      "text/html": [
       "<div>\n",
       "<style scoped>\n",
       "    .dataframe tbody tr th:only-of-type {\n",
       "        vertical-align: middle;\n",
       "    }\n",
       "\n",
       "    .dataframe tbody tr th {\n",
       "        vertical-align: top;\n",
       "    }\n",
       "\n",
       "    .dataframe thead th {\n",
       "        text-align: right;\n",
       "    }\n",
       "</style>\n",
       "<table border=\"1\" class=\"dataframe\">\n",
       "  <thead>\n",
       "    <tr style=\"text-align: right;\">\n",
       "      <th></th>\n",
       "      <th>Arrest Year</th>\n",
       "      <th>Arrest Date</th>\n",
       "      <th>Arrest Hour</th>\n",
       "      <th>Age</th>\n",
       "      <th>Defendant Race</th>\n",
       "      <th>Defendant Ethnicity</th>\n",
       "      <th>Defendant Sex</th>\n",
       "      <th>Arrest Category</th>\n",
       "      <th>Offense Latitude</th>\n",
       "      <th>Offense Longitude</th>\n",
       "    </tr>\n",
       "  </thead>\n",
       "  <tbody>\n",
       "    <tr>\n",
       "      <th>0</th>\n",
       "      <td>False</td>\n",
       "      <td>False</td>\n",
       "      <td>False</td>\n",
       "      <td>False</td>\n",
       "      <td>False</td>\n",
       "      <td>False</td>\n",
       "      <td>False</td>\n",
       "      <td>False</td>\n",
       "      <td>False</td>\n",
       "      <td>False</td>\n",
       "    </tr>\n",
       "    <tr>\n",
       "      <th>1</th>\n",
       "      <td>False</td>\n",
       "      <td>False</td>\n",
       "      <td>False</td>\n",
       "      <td>False</td>\n",
       "      <td>False</td>\n",
       "      <td>False</td>\n",
       "      <td>False</td>\n",
       "      <td>False</td>\n",
       "      <td>False</td>\n",
       "      <td>False</td>\n",
       "    </tr>\n",
       "    <tr>\n",
       "      <th>2</th>\n",
       "      <td>False</td>\n",
       "      <td>False</td>\n",
       "      <td>False</td>\n",
       "      <td>False</td>\n",
       "      <td>False</td>\n",
       "      <td>False</td>\n",
       "      <td>False</td>\n",
       "      <td>False</td>\n",
       "      <td>False</td>\n",
       "      <td>False</td>\n",
       "    </tr>\n",
       "    <tr>\n",
       "      <th>3</th>\n",
       "      <td>False</td>\n",
       "      <td>False</td>\n",
       "      <td>False</td>\n",
       "      <td>False</td>\n",
       "      <td>False</td>\n",
       "      <td>False</td>\n",
       "      <td>False</td>\n",
       "      <td>False</td>\n",
       "      <td>False</td>\n",
       "      <td>False</td>\n",
       "    </tr>\n",
       "    <tr>\n",
       "      <th>4</th>\n",
       "      <td>False</td>\n",
       "      <td>False</td>\n",
       "      <td>False</td>\n",
       "      <td>False</td>\n",
       "      <td>False</td>\n",
       "      <td>False</td>\n",
       "      <td>False</td>\n",
       "      <td>False</td>\n",
       "      <td>False</td>\n",
       "      <td>False</td>\n",
       "    </tr>\n",
       "    <tr>\n",
       "      <th>...</th>\n",
       "      <td>...</td>\n",
       "      <td>...</td>\n",
       "      <td>...</td>\n",
       "      <td>...</td>\n",
       "      <td>...</td>\n",
       "      <td>...</td>\n",
       "      <td>...</td>\n",
       "      <td>...</td>\n",
       "      <td>...</td>\n",
       "      <td>...</td>\n",
       "    </tr>\n",
       "    <tr>\n",
       "      <th>15648</th>\n",
       "      <td>False</td>\n",
       "      <td>False</td>\n",
       "      <td>False</td>\n",
       "      <td>False</td>\n",
       "      <td>False</td>\n",
       "      <td>False</td>\n",
       "      <td>False</td>\n",
       "      <td>False</td>\n",
       "      <td>False</td>\n",
       "      <td>False</td>\n",
       "    </tr>\n",
       "    <tr>\n",
       "      <th>15649</th>\n",
       "      <td>False</td>\n",
       "      <td>False</td>\n",
       "      <td>False</td>\n",
       "      <td>False</td>\n",
       "      <td>False</td>\n",
       "      <td>False</td>\n",
       "      <td>False</td>\n",
       "      <td>False</td>\n",
       "      <td>False</td>\n",
       "      <td>False</td>\n",
       "    </tr>\n",
       "    <tr>\n",
       "      <th>15650</th>\n",
       "      <td>False</td>\n",
       "      <td>False</td>\n",
       "      <td>False</td>\n",
       "      <td>False</td>\n",
       "      <td>False</td>\n",
       "      <td>False</td>\n",
       "      <td>False</td>\n",
       "      <td>False</td>\n",
       "      <td>False</td>\n",
       "      <td>False</td>\n",
       "    </tr>\n",
       "    <tr>\n",
       "      <th>15651</th>\n",
       "      <td>False</td>\n",
       "      <td>False</td>\n",
       "      <td>False</td>\n",
       "      <td>False</td>\n",
       "      <td>False</td>\n",
       "      <td>False</td>\n",
       "      <td>False</td>\n",
       "      <td>False</td>\n",
       "      <td>False</td>\n",
       "      <td>False</td>\n",
       "    </tr>\n",
       "    <tr>\n",
       "      <th>15652</th>\n",
       "      <td>False</td>\n",
       "      <td>False</td>\n",
       "      <td>False</td>\n",
       "      <td>False</td>\n",
       "      <td>False</td>\n",
       "      <td>False</td>\n",
       "      <td>False</td>\n",
       "      <td>False</td>\n",
       "      <td>False</td>\n",
       "      <td>False</td>\n",
       "    </tr>\n",
       "  </tbody>\n",
       "</table>\n",
       "<p>15653 rows × 10 columns</p>\n",
       "</div>"
      ],
      "text/plain": [
       "       Arrest Year  Arrest Date  Arrest Hour    Age  Defendant Race  \\\n",
       "0            False        False        False  False           False   \n",
       "1            False        False        False  False           False   \n",
       "2            False        False        False  False           False   \n",
       "3            False        False        False  False           False   \n",
       "4            False        False        False  False           False   \n",
       "...            ...          ...          ...    ...             ...   \n",
       "15648        False        False        False  False           False   \n",
       "15649        False        False        False  False           False   \n",
       "15650        False        False        False  False           False   \n",
       "15651        False        False        False  False           False   \n",
       "15652        False        False        False  False           False   \n",
       "\n",
       "       Defendant Ethnicity  Defendant Sex  Arrest Category  Offense Latitude  \\\n",
       "0                    False          False            False             False   \n",
       "1                    False          False            False             False   \n",
       "2                    False          False            False             False   \n",
       "3                    False          False            False             False   \n",
       "4                    False          False            False             False   \n",
       "...                    ...            ...              ...               ...   \n",
       "15648                False          False            False             False   \n",
       "15649                False          False            False             False   \n",
       "15650                False          False            False             False   \n",
       "15651                False          False            False             False   \n",
       "15652                False          False            False             False   \n",
       "\n",
       "       Offense Longitude  \n",
       "0                  False  \n",
       "1                  False  \n",
       "2                  False  \n",
       "3                  False  \n",
       "4                  False  \n",
       "...                  ...  \n",
       "15648              False  \n",
       "15649              False  \n",
       "15650              False  \n",
       "15651              False  \n",
       "15652              False  \n",
       "\n",
       "[15653 rows x 10 columns]"
      ]
     },
     "execution_count": 137,
     "metadata": {},
     "output_type": "execute_result"
    }
   ],
   "source": [
    "df.isnull()"
   ]
  },
  {
   "cell_type": "code",
   "execution_count": 138,
   "id": "afa39e7d",
   "metadata": {},
   "outputs": [],
   "source": [
    "features = ['Arrest Year', 'Arrest Date', 'Arrest Hour', 'Age', 'Defendant Race',\n",
    "       'Defendant Ethnicity', 'Defendant Sex', 'Arrest Category',\n",
    "       'Offense Latitude', 'Offense Longitude']"
   ]
  },
  {
   "cell_type": "markdown",
   "id": "ff7b256c",
   "metadata": {},
   "source": [
    "Check for missing values in all columns"
   ]
  },
  {
   "cell_type": "code",
   "execution_count": 139,
   "id": "421c4f67",
   "metadata": {
    "scrolled": true
   },
   "outputs": [
    {
     "name": "stdout",
     "output_type": "stream",
     "text": [
      "Empty DataFrame\n",
      "Columns: [Arrest Year, Arrest Date, Arrest Hour, Age, Defendant Race, Defendant Ethnicity, Defendant Sex, Arrest Category, Offense Latitude, Offense Longitude]\n",
      "Index: []\n",
      "Empty DataFrame\n",
      "Columns: [Arrest Year, Arrest Date, Arrest Hour, Age, Defendant Race, Defendant Ethnicity, Defendant Sex, Arrest Category, Offense Latitude, Offense Longitude]\n",
      "Index: []\n",
      "Empty DataFrame\n",
      "Columns: [Arrest Year, Arrest Date, Arrest Hour, Age, Defendant Race, Defendant Ethnicity, Defendant Sex, Arrest Category, Offense Latitude, Offense Longitude]\n",
      "Index: []\n",
      "Empty DataFrame\n",
      "Columns: [Arrest Year, Arrest Date, Arrest Hour, Age, Defendant Race, Defendant Ethnicity, Defendant Sex, Arrest Category, Offense Latitude, Offense Longitude]\n",
      "Index: []\n",
      "Empty DataFrame\n",
      "Columns: [Arrest Year, Arrest Date, Arrest Hour, Age, Defendant Race, Defendant Ethnicity, Defendant Sex, Arrest Category, Offense Latitude, Offense Longitude]\n",
      "Index: []\n",
      "Empty DataFrame\n",
      "Columns: [Arrest Year, Arrest Date, Arrest Hour, Age, Defendant Race, Defendant Ethnicity, Defendant Sex, Arrest Category, Offense Latitude, Offense Longitude]\n",
      "Index: []\n",
      "Empty DataFrame\n",
      "Columns: [Arrest Year, Arrest Date, Arrest Hour, Age, Defendant Race, Defendant Ethnicity, Defendant Sex, Arrest Category, Offense Latitude, Offense Longitude]\n",
      "Index: []\n",
      "Empty DataFrame\n",
      "Columns: [Arrest Year, Arrest Date, Arrest Hour, Age, Defendant Race, Defendant Ethnicity, Defendant Sex, Arrest Category, Offense Latitude, Offense Longitude]\n",
      "Index: []\n",
      "       Arrest Year Arrest Date  Arrest Hour  Age Defendant Race  \\\n",
      "1353          2021     10/1/21           23   33          BLACK   \n",
      "1398          2021    10/11/21            8   50          BLACK   \n",
      "1529          2021    10/14/21           12   22          BLACK   \n",
      "1533          2021    10/14/21           13   42          BLACK   \n",
      "1554          2021    10/14/21           23   39          WHITE   \n",
      "1572          2021    10/15/21           12   60          BLACK   \n",
      "1684          2021    10/18/21            8   57          BLACK   \n",
      "1919          2021    10/22/21           19   26          BLACK   \n",
      "2108          2021    10/27/21           11   51          BLACK   \n",
      "2241          2021     10/3/21           17   41          BLACK   \n",
      "2503          2021     10/7/21           13   22          BLACK   \n",
      "3779          2021     12/1/21            7   37          BLACK   \n",
      "12624         2021     7/29/21            9   26          BLACK   \n",
      "13131         2021     8/10/21           17   30          BLACK   \n",
      "13359         2021     8/15/21           23   36          BLACK   \n",
      "13360         2021     8/15/21           23   57          BLACK   \n",
      "13432         2021     8/17/21           18   33          WHITE   \n",
      "13533         2021      8/2/21           10   28          BLACK   \n",
      "13760         2021     8/24/21            7   37          BLACK   \n",
      "15115         2021     9/25/21           17   35          BLACK   \n",
      "15179         2021     9/27/21            8   37          BLACK   \n",
      "\n",
      "      Defendant Ethnicity Defendant Sex                     Arrest Category  \\\n",
      "1353         NOT HISPANIC          MALE                      Simple Assault   \n",
      "1398              UNKNOWN          MALE                      Simple Assault   \n",
      "1529         NOT HISPANIC          MALE                           Narcotics   \n",
      "1533              UNKNOWN          MALE                   Weapon Violations   \n",
      "1554              UNKNOWN          MALE                      Simple Assault   \n",
      "1572              UNKNOWN          MALE                     Property Crimes   \n",
      "1684         NOT HISPANIC          MALE                             Robbery   \n",
      "1919         NOT HISPANIC          MALE                      Simple Assault   \n",
      "2108              UNKNOWN          MALE                            Homicide   \n",
      "2241         NOT HISPANIC          MALE   Driving/Boating While Intoxicated   \n",
      "2503              UNKNOWN          MALE                   Weapon Violations   \n",
      "3779         NOT HISPANIC          MALE   Release Violations/Fugitive (Fug)   \n",
      "12624        NOT HISPANIC          MALE                  Damage to Property   \n",
      "13131        NOT HISPANIC        FEMALE  Release Violations/Fugitive (Warr)   \n",
      "13359        NOT HISPANIC          MALE                      Simple Assault   \n",
      "13360        NOT HISPANIC        FEMALE                  Damage to Property   \n",
      "13432             UNKNOWN          MALE                      Simple Assault   \n",
      "13533        NOT HISPANIC        FEMALE     Assault with a Dangerous Weapon   \n",
      "13760        NOT HISPANIC        FEMALE                        Other Crimes   \n",
      "15115        NOT HISPANIC          MALE   Driving/Boating While Intoxicated   \n",
      "15179        NOT HISPANIC          MALE  Release Violations/Fugitive (Warr)   \n",
      "\n",
      "       Offense Latitude  Offense Longitude  \n",
      "1353                NaN                NaN  \n",
      "1398                NaN                NaN  \n",
      "1529                NaN                NaN  \n",
      "1533                NaN                NaN  \n",
      "1554                NaN                NaN  \n",
      "1572                NaN                NaN  \n",
      "1684                NaN                NaN  \n",
      "1919                NaN                NaN  \n",
      "2108                NaN                NaN  \n",
      "2241                NaN                NaN  \n",
      "2503                NaN                NaN  \n",
      "3779                NaN                NaN  \n",
      "12624               NaN                NaN  \n",
      "13131               NaN                NaN  \n",
      "13359               NaN                NaN  \n",
      "13360               NaN                NaN  \n",
      "13432               NaN                NaN  \n",
      "13533               NaN                NaN  \n",
      "13760               NaN                NaN  \n",
      "15115               NaN                NaN  \n",
      "15179               NaN                NaN  \n",
      "       Arrest Year Arrest Date  Arrest Hour  Age Defendant Race  \\\n",
      "1353          2021     10/1/21           23   33          BLACK   \n",
      "1398          2021    10/11/21            8   50          BLACK   \n",
      "1529          2021    10/14/21           12   22          BLACK   \n",
      "1533          2021    10/14/21           13   42          BLACK   \n",
      "1554          2021    10/14/21           23   39          WHITE   \n",
      "1572          2021    10/15/21           12   60          BLACK   \n",
      "1684          2021    10/18/21            8   57          BLACK   \n",
      "1919          2021    10/22/21           19   26          BLACK   \n",
      "2108          2021    10/27/21           11   51          BLACK   \n",
      "2241          2021     10/3/21           17   41          BLACK   \n",
      "2503          2021     10/7/21           13   22          BLACK   \n",
      "3779          2021     12/1/21            7   37          BLACK   \n",
      "12624         2021     7/29/21            9   26          BLACK   \n",
      "13131         2021     8/10/21           17   30          BLACK   \n",
      "13359         2021     8/15/21           23   36          BLACK   \n",
      "13360         2021     8/15/21           23   57          BLACK   \n",
      "13432         2021     8/17/21           18   33          WHITE   \n",
      "13533         2021      8/2/21           10   28          BLACK   \n",
      "13760         2021     8/24/21            7   37          BLACK   \n",
      "15115         2021     9/25/21           17   35          BLACK   \n",
      "15179         2021     9/27/21            8   37          BLACK   \n",
      "\n",
      "      Defendant Ethnicity Defendant Sex                     Arrest Category  \\\n",
      "1353         NOT HISPANIC          MALE                      Simple Assault   \n",
      "1398              UNKNOWN          MALE                      Simple Assault   \n",
      "1529         NOT HISPANIC          MALE                           Narcotics   \n",
      "1533              UNKNOWN          MALE                   Weapon Violations   \n",
      "1554              UNKNOWN          MALE                      Simple Assault   \n",
      "1572              UNKNOWN          MALE                     Property Crimes   \n",
      "1684         NOT HISPANIC          MALE                             Robbery   \n",
      "1919         NOT HISPANIC          MALE                      Simple Assault   \n",
      "2108              UNKNOWN          MALE                            Homicide   \n",
      "2241         NOT HISPANIC          MALE   Driving/Boating While Intoxicated   \n",
      "2503              UNKNOWN          MALE                   Weapon Violations   \n",
      "3779         NOT HISPANIC          MALE   Release Violations/Fugitive (Fug)   \n",
      "12624        NOT HISPANIC          MALE                  Damage to Property   \n",
      "13131        NOT HISPANIC        FEMALE  Release Violations/Fugitive (Warr)   \n",
      "13359        NOT HISPANIC          MALE                      Simple Assault   \n",
      "13360        NOT HISPANIC        FEMALE                  Damage to Property   \n",
      "13432             UNKNOWN          MALE                      Simple Assault   \n",
      "13533        NOT HISPANIC        FEMALE     Assault with a Dangerous Weapon   \n",
      "13760        NOT HISPANIC        FEMALE                        Other Crimes   \n",
      "15115        NOT HISPANIC          MALE   Driving/Boating While Intoxicated   \n",
      "15179        NOT HISPANIC          MALE  Release Violations/Fugitive (Warr)   \n",
      "\n",
      "       Offense Latitude  Offense Longitude  \n",
      "1353                NaN                NaN  \n",
      "1398                NaN                NaN  \n",
      "1529                NaN                NaN  \n",
      "1533                NaN                NaN  \n",
      "1554                NaN                NaN  \n",
      "1572                NaN                NaN  \n",
      "1684                NaN                NaN  \n",
      "1919                NaN                NaN  \n",
      "2108                NaN                NaN  \n",
      "2241                NaN                NaN  \n",
      "2503                NaN                NaN  \n",
      "3779                NaN                NaN  \n",
      "12624               NaN                NaN  \n",
      "13131               NaN                NaN  \n",
      "13359               NaN                NaN  \n",
      "13360               NaN                NaN  \n",
      "13432               NaN                NaN  \n",
      "13533               NaN                NaN  \n",
      "13760               NaN                NaN  \n",
      "15115               NaN                NaN  \n",
      "15179               NaN                NaN  \n"
     ]
    }
   ],
   "source": [
    "for feature in features:\n",
    "    null_check = pd.isnull(df[feature])\n",
    "    print(df[null_check])"
   ]
  },
  {
   "cell_type": "markdown",
   "id": "11d9e2fa",
   "metadata": {},
   "source": [
    "We then drop all the rows with missing values"
   ]
  },
  {
   "cell_type": "code",
   "execution_count": 140,
   "id": "900bc35d",
   "metadata": {},
   "outputs": [
    {
     "data": {
      "text/plain": [
       "(15632, 10)"
      ]
     },
     "execution_count": 140,
     "metadata": {},
     "output_type": "execute_result"
    }
   ],
   "source": [
    "df = df.dropna()\n",
    "df.shape"
   ]
  },
  {
   "cell_type": "markdown",
   "id": "f4e8cf27",
   "metadata": {},
   "source": [
    "#### Arrest Pattern"
   ]
  },
  {
   "cell_type": "markdown",
   "id": "c86ba4fd",
   "metadata": {},
   "source": [
    "##### Categorical Classification "
   ]
  },
  {
   "cell_type": "code",
   "execution_count": 141,
   "id": "b12923bc",
   "metadata": {},
   "outputs": [
    {
     "data": {
      "text/plain": [
       "array(['Damage to Property', 'Simple Assault', 'Weapon Violations',\n",
       "       'Narcotics', 'Other Crimes', 'Driving/Boating While Intoxicated',\n",
       "       'Traffic Violations', 'Sex Offenses', 'Theft', 'Property Crimes',\n",
       "       'Release Violations/Fugitive (Warr)',\n",
       "       'Release Violations/Fugitive (Fug)',\n",
       "       'Offenses Against Family & Children', 'Liquor Law Violations',\n",
       "       'Assault with a Dangerous Weapon', 'Homicide',\n",
       "       'Assault on a Police Officer', 'Burglary', 'Vending Violations',\n",
       "       'Robbery', 'Motor Vehicle Theft', 'Sex Abuse',\n",
       "       'Aggravated Assault', 'Disorderly Conduct', 'Gambling',\n",
       "       'Kidnapping', 'Fraud and Financial Crimes',\n",
       "       'Fraud and Financial Crimes (Frau)', 'Theft from Auto',\n",
       "       'Prostitution', 'Fraud and Financial Crimes (Forg)',\n",
       "       'Fraud and Financial Crimes (Coun)'], dtype=object)"
      ]
     },
     "execution_count": 141,
     "metadata": {},
     "output_type": "execute_result"
    }
   ],
   "source": [
    "df['Arrest Category'].unique()"
   ]
  },
  {
   "cell_type": "code",
   "execution_count": 142,
   "id": "6a2a6a37",
   "metadata": {},
   "outputs": [
    {
     "data": {
      "text/html": [
       "<div>\n",
       "<style scoped>\n",
       "    .dataframe tbody tr th:only-of-type {\n",
       "        vertical-align: middle;\n",
       "    }\n",
       "\n",
       "    .dataframe tbody tr th {\n",
       "        vertical-align: top;\n",
       "    }\n",
       "\n",
       "    .dataframe thead th {\n",
       "        text-align: right;\n",
       "    }\n",
       "</style>\n",
       "<table border=\"1\" class=\"dataframe\">\n",
       "  <thead>\n",
       "    <tr style=\"text-align: right;\">\n",
       "      <th></th>\n",
       "      <th>Defendant Sex</th>\n",
       "      <th>Numbers</th>\n",
       "    </tr>\n",
       "  </thead>\n",
       "  <tbody>\n",
       "    <tr>\n",
       "      <th>0</th>\n",
       "      <td>FEMALE</td>\n",
       "      <td>3419</td>\n",
       "    </tr>\n",
       "    <tr>\n",
       "      <th>1</th>\n",
       "      <td>MALE</td>\n",
       "      <td>12207</td>\n",
       "    </tr>\n",
       "    <tr>\n",
       "      <th>2</th>\n",
       "      <td>UNKNOWN</td>\n",
       "      <td>6</td>\n",
       "    </tr>\n",
       "  </tbody>\n",
       "</table>\n",
       "</div>"
      ],
      "text/plain": [
       "  Defendant Sex  Numbers\n",
       "0        FEMALE     3419\n",
       "1          MALE    12207\n",
       "2       UNKNOWN        6"
      ]
     },
     "execution_count": 142,
     "metadata": {},
     "output_type": "execute_result"
    }
   ],
   "source": [
    "df_sex = df.groupby('Defendant Sex').size().reset_index(name = 'Numbers')\n",
    "df_sex"
   ]
  },
  {
   "cell_type": "code",
   "execution_count": 143,
   "id": "3f3cd62d",
   "metadata": {},
   "outputs": [
    {
     "data": {
      "image/png": "[encoded data removed]",
      "text/plain": [
       "<Figure size 576x360 with 1 Axes>"
      ]
     },
     "metadata": {
      "needs_background": "light"
     },
     "output_type": "display_data"
    }
   ],
   "source": [
    "plt.figure(figsize = (8, 5))\n",
    "plt.xlabel('Defendant Sex')\n",
    "plt.title('Arrests by Sex')\n",
    "plt.ylabel('Numbers')\n",
    "x = df_sex['Defendant Sex']\n",
    "y = df_sex['Numbers']\n",
    "plt.bar(x, y)\n",
    "plt.grid(which = 'both', linestyle = ':')\n",
    "plt.savefig('defendant_sex.jpg', dpi = 480)"
   ]
  },
  {
   "cell_type": "markdown",
   "id": "82963d4b",
   "metadata": {},
   "source": [
    "###### Contionous Data Classification "
   ]
  },
  {
   "cell_type": "code",
   "execution_count": 144,
   "id": "da4aa60d",
   "metadata": {},
   "outputs": [
    {
     "data": {
      "text/html": [
       "<div>\n",
       "<style scoped>\n",
       "    .dataframe tbody tr th:only-of-type {\n",
       "        vertical-align: middle;\n",
       "    }\n",
       "\n",
       "    .dataframe tbody tr th {\n",
       "        vertical-align: top;\n",
       "    }\n",
       "\n",
       "    .dataframe thead th {\n",
       "        text-align: right;\n",
       "    }\n",
       "</style>\n",
       "<table border=\"1\" class=\"dataframe\">\n",
       "  <thead>\n",
       "    <tr style=\"text-align: right;\">\n",
       "      <th></th>\n",
       "      <th>Age</th>\n",
       "      <th>Numbers</th>\n",
       "    </tr>\n",
       "  </thead>\n",
       "  <tbody>\n",
       "    <tr>\n",
       "      <th>0</th>\n",
       "      <td>18</td>\n",
       "      <td>275</td>\n",
       "    </tr>\n",
       "    <tr>\n",
       "      <th>1</th>\n",
       "      <td>19</td>\n",
       "      <td>311</td>\n",
       "    </tr>\n",
       "    <tr>\n",
       "      <th>2</th>\n",
       "      <td>20</td>\n",
       "      <td>390</td>\n",
       "    </tr>\n",
       "    <tr>\n",
       "      <th>3</th>\n",
       "      <td>21</td>\n",
       "      <td>483</td>\n",
       "    </tr>\n",
       "    <tr>\n",
       "      <th>4</th>\n",
       "      <td>22</td>\n",
       "      <td>447</td>\n",
       "    </tr>\n",
       "    <tr>\n",
       "      <th>...</th>\n",
       "      <td>...</td>\n",
       "      <td>...</td>\n",
       "    </tr>\n",
       "    <tr>\n",
       "      <th>64</th>\n",
       "      <td>83</td>\n",
       "      <td>1</td>\n",
       "    </tr>\n",
       "    <tr>\n",
       "      <th>65</th>\n",
       "      <td>85</td>\n",
       "      <td>1</td>\n",
       "    </tr>\n",
       "    <tr>\n",
       "      <th>66</th>\n",
       "      <td>88</td>\n",
       "      <td>1</td>\n",
       "    </tr>\n",
       "    <tr>\n",
       "      <th>67</th>\n",
       "      <td>120</td>\n",
       "      <td>4</td>\n",
       "    </tr>\n",
       "    <tr>\n",
       "      <th>68</th>\n",
       "      <td>121</td>\n",
       "      <td>1</td>\n",
       "    </tr>\n",
       "  </tbody>\n",
       "</table>\n",
       "<p>69 rows × 2 columns</p>\n",
       "</div>"
      ],
      "text/plain": [
       "    Age  Numbers\n",
       "0    18      275\n",
       "1    19      311\n",
       "2    20      390\n",
       "3    21      483\n",
       "4    22      447\n",
       "..  ...      ...\n",
       "64   83        1\n",
       "65   85        1\n",
       "66   88        1\n",
       "67  120        4\n",
       "68  121        1\n",
       "\n",
       "[69 rows x 2 columns]"
      ]
     },
     "execution_count": 144,
     "metadata": {},
     "output_type": "execute_result"
    }
   ],
   "source": [
    "df_age = df.groupby('Age').size().reset_index(name = 'Numbers')\n",
    "df_age"
   ]
  },
  {
   "cell_type": "code",
   "execution_count": 145,
   "id": "81d2afc1",
   "metadata": {},
   "outputs": [
    {
     "data": {
      "image/png": "[encoded data removed]",
      "text/plain": [
       "<Figure size 576x360 with 1 Axes>"
      ]
     },
     "metadata": {
      "needs_background": "light"
     },
     "output_type": "display_data"
    }
   ],
   "source": [
    "plt.figure(figsize = (8, 5))\n",
    "plt.xlabel('Defendant Age')\n",
    "plt.title('Arrests by Age')\n",
    "plt.ylabel('Numbers')\n",
    "x = df_age['Age']\n",
    "y = df_age['Numbers']\n",
    "plt.bar(x, y)\n",
    "plt.grid(which = 'both', linestyle = ':')\n",
    "#plt.savefig('defendant_sex.jpg', dpi = 480)"
   ]
  },
  {
   "cell_type": "code",
   "execution_count": 146,
   "id": "d4b2a5bc",
   "metadata": {},
   "outputs": [
    {
     "data": {
      "text/plain": [
       "<seaborn.axisgrid.FacetGrid at 0x7fa1e2b16070>"
      ]
     },
     "execution_count": 146,
     "metadata": {},
     "output_type": "execute_result"
    },
    {
     "data": {
      "image/png": "[encoded data removed]",
      "text/plain": [
       "<Figure size 360x360 with 1 Axes>"
      ]
     },
     "metadata": {
      "needs_background": "light"
     },
     "output_type": "display_data"
    }
   ],
   "source": [
    "sns.displot(df['Age'], kde = True, bins = 8)"
   ]
  },
  {
   "cell_type": "code",
   "execution_count": 147,
   "id": "a3baae77",
   "metadata": {},
   "outputs": [
    {
     "name": "stdout",
     "output_type": "stream",
     "text": [
      "18 121\n"
     ]
    }
   ],
   "source": [
    "df_min = df['Age'].min()\n",
    "df_max = df['Age'].max()\n",
    "print(df_min, df_max)"
   ]
  },
  {
   "cell_type": "markdown",
   "id": "5b68f443",
   "metadata": {},
   "source": [
    "##### Detecting Anomalies"
   ]
  },
  {
   "cell_type": "markdown",
   "id": "0c438e5f",
   "metadata": {},
   "source": [
    "The easiest way to detect anomalies in your dataset, is to use boxplots or whiskers"
   ]
  },
  {
   "cell_type": "code",
   "execution_count": 148,
   "id": "6d70d51c",
   "metadata": {},
   "outputs": [
    {
     "name": "stderr",
     "output_type": "stream",
     "text": [
      "/Users/osoro/anaconda3/envs/OpenStreetMap/lib/python3.9/site-packages/seaborn/_decorators.py:36: FutureWarning: Pass the following variable as a keyword arg: x. From version 0.12, the only valid positional argument will be `data`, and passing other arguments without an explicit keyword will result in an error or misinterpretation.\n",
      "  warnings.warn(\n"
     ]
    },
    {
     "data": {
      "text/plain": [
       "<AxesSubplot:xlabel='Age'>"
      ]
     },
     "execution_count": 148,
     "metadata": {},
     "output_type": "execute_result"
    },
    {
     "data": {
      "image/png": "[encoded data removed]",
      "text/plain": [
       "<Figure size 432x288 with 1 Axes>"
      ]
     },
     "metadata": {
      "needs_background": "light"
     },
     "output_type": "display_data"
    }
   ],
   "source": [
    "sns.boxplot(df['Age'])"
   ]
  },
  {
   "cell_type": "markdown",
   "id": "458ffebe",
   "metadata": {},
   "source": [
    "Calculate the upper and the lower limits"
   ]
  },
  {
   "cell_type": "code",
   "execution_count": 149,
   "id": "62020595",
   "metadata": {},
   "outputs": [],
   "source": [
    "q_1 = df['Age'].quantile(0.25)\n",
    "q_3 = df['Age'].quantile(0.75)\n",
    "iqr = q_3 - q_1\n",
    "lower = q_1 - 1.5 * iqr\n",
    "upper = q_3 + 1.5 * iqr"
   ]
  },
  {
   "cell_type": "markdown",
   "id": "d84f8bba",
   "metadata": {},
   "source": [
    "Create a boolean values to show outliers"
   ]
  },
  {
   "cell_type": "code",
   "execution_count": 150,
   "id": "f2f14704",
   "metadata": {},
   "outputs": [],
   "source": [
    "upper_array = np.where(df['Age'] >= upper)[0]\n",
    "lower_array = np.where(df['Age'] <= lower)[0]"
   ]
  },
  {
   "cell_type": "markdown",
   "id": "6eea2695",
   "metadata": {},
   "source": [
    "Eliminate Outliers"
   ]
  },
  {
   "cell_type": "code",
   "execution_count": 151,
   "id": "c98b4f8b",
   "metadata": {},
   "outputs": [],
   "source": [
    "df.drop(index = upper_array, inplace = True)\n",
    "df.drop(index = lower_array, inplace = True)"
   ]
  },
  {
   "cell_type": "code",
   "execution_count": 152,
   "id": "929b6d30",
   "metadata": {},
   "outputs": [
    {
     "data": {
      "text/plain": [
       "(15401, 10)"
      ]
     },
     "execution_count": 152,
     "metadata": {},
     "output_type": "execute_result"
    }
   ],
   "source": [
    "df.shape"
   ]
  }
 ],
 "metadata": {
  "kernelspec": {
   "display_name": "Python 3 (ipykernel)",
   "language": "python",
   "name": "python3"
  },
  "language_info": {
   "codemirror_mode": {
    "name": "ipython",
    "version": 3
   },
   "file_extension": ".py",
   "mimetype": "text/x-python",
   "name": "python",
   "nbconvert_exporter": "python",
   "pygments_lexer": "ipython3",
   "version": "3.9.12"
  }
 },
 "nbformat": 4,
 "nbformat_minor": 5
}
