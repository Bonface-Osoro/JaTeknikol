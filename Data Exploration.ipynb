{
 "cells": [
  {
   "cell_type": "markdown",
   "id": "d9bc5446",
   "metadata": {},
   "source": [
    "### 1. Group By "
   ]
  },
  {
   "cell_type": "code",
   "execution_count": 1,
   "id": "f39c550b",
   "metadata": {},
   "outputs": [],
   "source": [
    "import pandas as pd"
   ]
  },
  {
   "cell_type": "code",
   "execution_count": 3,
   "id": "fad12a7a",
   "metadata": {},
   "outputs": [
    {
     "data": {
      "text/html": [
       "<div>\n",
       "<style scoped>\n",
       "    .dataframe tbody tr th:only-of-type {\n",
       "        vertical-align: middle;\n",
       "    }\n",
       "\n",
       "    .dataframe tbody tr th {\n",
       "        vertical-align: top;\n",
       "    }\n",
       "\n",
       "    .dataframe thead th {\n",
       "        text-align: right;\n",
       "    }\n",
       "</style>\n",
       "<table border=\"1\" class=\"dataframe\">\n",
       "  <thead>\n",
       "    <tr style=\"text-align: right;\">\n",
       "      <th></th>\n",
       "      <th>total_amount</th>\n",
       "      <th>speed</th>\n",
       "      <th>day</th>\n",
       "      <th>gender</th>\n",
       "      <th>age</th>\n",
       "      <th>previous_offenses</th>\n",
       "      <th>driving_experience</th>\n",
       "    </tr>\n",
       "  </thead>\n",
       "  <tbody>\n",
       "    <tr>\n",
       "      <th>0</th>\n",
       "      <td>1000</td>\n",
       "      <td>90</td>\n",
       "      <td>Saturday</td>\n",
       "      <td>Female</td>\n",
       "      <td>25</td>\n",
       "      <td>6</td>\n",
       "      <td>7</td>\n",
       "    </tr>\n",
       "    <tr>\n",
       "      <th>1</th>\n",
       "      <td>1500</td>\n",
       "      <td>100</td>\n",
       "      <td>Saturday</td>\n",
       "      <td>Male</td>\n",
       "      <td>21</td>\n",
       "      <td>8</td>\n",
       "      <td>3</td>\n",
       "    </tr>\n",
       "    <tr>\n",
       "      <th>2</th>\n",
       "      <td>500</td>\n",
       "      <td>60</td>\n",
       "      <td>Monday</td>\n",
       "      <td>Female</td>\n",
       "      <td>48</td>\n",
       "      <td>2</td>\n",
       "      <td>30</td>\n",
       "    </tr>\n",
       "    <tr>\n",
       "      <th>3</th>\n",
       "      <td>2500</td>\n",
       "      <td>125</td>\n",
       "      <td>Friday</td>\n",
       "      <td>Male</td>\n",
       "      <td>34</td>\n",
       "      <td>10</td>\n",
       "      <td>16</td>\n",
       "    </tr>\n",
       "    <tr>\n",
       "      <th>4</th>\n",
       "      <td>800</td>\n",
       "      <td>80</td>\n",
       "      <td>Monday</td>\n",
       "      <td>Female</td>\n",
       "      <td>35</td>\n",
       "      <td>10</td>\n",
       "      <td>17</td>\n",
       "    </tr>\n",
       "  </tbody>\n",
       "</table>\n",
       "</div>"
      ],
      "text/plain": [
       "   total_amount  speed       day  gender  age  previous_offenses  \\\n",
       "0          1000     90  Saturday  Female   25                  6   \n",
       "1          1500    100  Saturday    Male   21                  8   \n",
       "2           500     60    Monday  Female   48                  2   \n",
       "3          2500    125    Friday    Male   34                 10   \n",
       "4           800     80    Monday  Female   35                 10   \n",
       "\n",
       "   driving_experience  \n",
       "0                   7  \n",
       "1                   3  \n",
       "2                  30  \n",
       "3                  16  \n",
       "4                  17  "
      ]
     },
     "execution_count": 3,
     "metadata": {},
     "output_type": "execute_result"
    }
   ],
   "source": [
    "df = pd.read_csv('traffic.csv')\n",
    "df.head(5)"
   ]
  },
  {
   "cell_type": "code",
   "execution_count": 4,
   "id": "4fc8cf1e",
   "metadata": {},
   "outputs": [
    {
     "data": {
      "text/plain": [
       "day\n",
       "Friday       114.700000\n",
       "Monday        76.142857\n",
       "Saturday     107.444444\n",
       "Sunday       102.200000\n",
       "Thursday     103.250000\n",
       "Tuesday       78.500000\n",
       "Wednesday    100.750000\n",
       "Name: speed, dtype: float64"
      ]
     },
     "execution_count": 4,
     "metadata": {},
     "output_type": "execute_result"
    }
   ],
   "source": [
    "df.groupby('day').speed.mean()"
   ]
  },
  {
   "cell_type": "code",
   "execution_count": 5,
   "id": "28a274cd",
   "metadata": {},
   "outputs": [
    {
     "data": {
      "text/html": [
       "<div>\n",
       "<style scoped>\n",
       "    .dataframe tbody tr th:only-of-type {\n",
       "        vertical-align: middle;\n",
       "    }\n",
       "\n",
       "    .dataframe tbody tr th {\n",
       "        vertical-align: top;\n",
       "    }\n",
       "\n",
       "    .dataframe thead th {\n",
       "        text-align: right;\n",
       "    }\n",
       "</style>\n",
       "<table border=\"1\" class=\"dataframe\">\n",
       "  <thead>\n",
       "    <tr style=\"text-align: right;\">\n",
       "      <th></th>\n",
       "      <th>total_amount</th>\n",
       "      <th>speed</th>\n",
       "      <th>day</th>\n",
       "      <th>gender</th>\n",
       "      <th>age</th>\n",
       "      <th>previous_offenses</th>\n",
       "      <th>driving_experience</th>\n",
       "    </tr>\n",
       "  </thead>\n",
       "  <tbody>\n",
       "    <tr>\n",
       "      <th>0</th>\n",
       "      <td>1000</td>\n",
       "      <td>90</td>\n",
       "      <td>Saturday</td>\n",
       "      <td>Female</td>\n",
       "      <td>25</td>\n",
       "      <td>6</td>\n",
       "      <td>7</td>\n",
       "    </tr>\n",
       "    <tr>\n",
       "      <th>2</th>\n",
       "      <td>500</td>\n",
       "      <td>60</td>\n",
       "      <td>Monday</td>\n",
       "      <td>Female</td>\n",
       "      <td>48</td>\n",
       "      <td>2</td>\n",
       "      <td>30</td>\n",
       "    </tr>\n",
       "    <tr>\n",
       "      <th>4</th>\n",
       "      <td>800</td>\n",
       "      <td>80</td>\n",
       "      <td>Monday</td>\n",
       "      <td>Female</td>\n",
       "      <td>35</td>\n",
       "      <td>10</td>\n",
       "      <td>17</td>\n",
       "    </tr>\n",
       "    <tr>\n",
       "      <th>7</th>\n",
       "      <td>250</td>\n",
       "      <td>90</td>\n",
       "      <td>Monday</td>\n",
       "      <td>Female</td>\n",
       "      <td>55</td>\n",
       "      <td>2</td>\n",
       "      <td>37</td>\n",
       "    </tr>\n",
       "    <tr>\n",
       "      <th>9</th>\n",
       "      <td>1800</td>\n",
       "      <td>105</td>\n",
       "      <td>Thursday</td>\n",
       "      <td>Female</td>\n",
       "      <td>32</td>\n",
       "      <td>7</td>\n",
       "      <td>14</td>\n",
       "    </tr>\n",
       "    <tr>\n",
       "      <th>11</th>\n",
       "      <td>1300</td>\n",
       "      <td>100</td>\n",
       "      <td>Thursday</td>\n",
       "      <td>Female</td>\n",
       "      <td>31</td>\n",
       "      <td>3</td>\n",
       "      <td>13</td>\n",
       "    </tr>\n",
       "    <tr>\n",
       "      <th>14</th>\n",
       "      <td>1500</td>\n",
       "      <td>107</td>\n",
       "      <td>Wednesday</td>\n",
       "      <td>Female</td>\n",
       "      <td>35</td>\n",
       "      <td>9</td>\n",
       "      <td>17</td>\n",
       "    </tr>\n",
       "    <tr>\n",
       "      <th>15</th>\n",
       "      <td>500</td>\n",
       "      <td>70</td>\n",
       "      <td>Tuesday</td>\n",
       "      <td>Female</td>\n",
       "      <td>44</td>\n",
       "      <td>10</td>\n",
       "      <td>26</td>\n",
       "    </tr>\n",
       "    <tr>\n",
       "      <th>18</th>\n",
       "      <td>2000</td>\n",
       "      <td>102</td>\n",
       "      <td>Saturday</td>\n",
       "      <td>Female</td>\n",
       "      <td>23</td>\n",
       "      <td>11</td>\n",
       "      <td>5</td>\n",
       "    </tr>\n",
       "    <tr>\n",
       "      <th>19</th>\n",
       "      <td>1000</td>\n",
       "      <td>107</td>\n",
       "      <td>Sunday</td>\n",
       "      <td>Female</td>\n",
       "      <td>26</td>\n",
       "      <td>10</td>\n",
       "      <td>8</td>\n",
       "    </tr>\n",
       "    <tr>\n",
       "      <th>22</th>\n",
       "      <td>1800</td>\n",
       "      <td>95</td>\n",
       "      <td>Saturday</td>\n",
       "      <td>Female</td>\n",
       "      <td>45</td>\n",
       "      <td>9</td>\n",
       "      <td>27</td>\n",
       "    </tr>\n",
       "    <tr>\n",
       "      <th>24</th>\n",
       "      <td>1300</td>\n",
       "      <td>108</td>\n",
       "      <td>Thursday</td>\n",
       "      <td>Female</td>\n",
       "      <td>36</td>\n",
       "      <td>11</td>\n",
       "      <td>18</td>\n",
       "    </tr>\n",
       "    <tr>\n",
       "      <th>25</th>\n",
       "      <td>1500</td>\n",
       "      <td>106</td>\n",
       "      <td>Wednesday</td>\n",
       "      <td>Female</td>\n",
       "      <td>39</td>\n",
       "      <td>10</td>\n",
       "      <td>21</td>\n",
       "    </tr>\n",
       "    <tr>\n",
       "      <th>27</th>\n",
       "      <td>2500</td>\n",
       "      <td>112</td>\n",
       "      <td>Friday</td>\n",
       "      <td>Female</td>\n",
       "      <td>26</td>\n",
       "      <td>8</td>\n",
       "      <td>8</td>\n",
       "    </tr>\n",
       "    <tr>\n",
       "      <th>28</th>\n",
       "      <td>3200</td>\n",
       "      <td>138</td>\n",
       "      <td>Saturday</td>\n",
       "      <td>Female</td>\n",
       "      <td>54</td>\n",
       "      <td>14</td>\n",
       "      <td>36</td>\n",
       "    </tr>\n",
       "    <tr>\n",
       "      <th>30</th>\n",
       "      <td>5000</td>\n",
       "      <td>50</td>\n",
       "      <td>Friday</td>\n",
       "      <td>Female</td>\n",
       "      <td>26</td>\n",
       "      <td>2</td>\n",
       "      <td>8</td>\n",
       "    </tr>\n",
       "    <tr>\n",
       "      <th>32</th>\n",
       "      <td>600</td>\n",
       "      <td>78</td>\n",
       "      <td>Monday</td>\n",
       "      <td>Female</td>\n",
       "      <td>43</td>\n",
       "      <td>5</td>\n",
       "      <td>25</td>\n",
       "    </tr>\n",
       "    <tr>\n",
       "      <th>33</th>\n",
       "      <td>700</td>\n",
       "      <td>86</td>\n",
       "      <td>Sunday</td>\n",
       "      <td>Female</td>\n",
       "      <td>40</td>\n",
       "      <td>4</td>\n",
       "      <td>22</td>\n",
       "    </tr>\n",
       "    <tr>\n",
       "      <th>37</th>\n",
       "      <td>1500</td>\n",
       "      <td>100</td>\n",
       "      <td>Saturday</td>\n",
       "      <td>Female</td>\n",
       "      <td>28</td>\n",
       "      <td>5</td>\n",
       "      <td>10</td>\n",
       "    </tr>\n",
       "    <tr>\n",
       "      <th>39</th>\n",
       "      <td>800</td>\n",
       "      <td>89</td>\n",
       "      <td>Tuesday</td>\n",
       "      <td>Female</td>\n",
       "      <td>38</td>\n",
       "      <td>3</td>\n",
       "      <td>20</td>\n",
       "    </tr>\n",
       "    <tr>\n",
       "      <th>41</th>\n",
       "      <td>2500</td>\n",
       "      <td>110</td>\n",
       "      <td>Friday</td>\n",
       "      <td>Female</td>\n",
       "      <td>28</td>\n",
       "      <td>8</td>\n",
       "      <td>10</td>\n",
       "    </tr>\n",
       "    <tr>\n",
       "      <th>42</th>\n",
       "      <td>2000</td>\n",
       "      <td>100</td>\n",
       "      <td>Saturday</td>\n",
       "      <td>Female</td>\n",
       "      <td>27</td>\n",
       "      <td>13</td>\n",
       "      <td>9</td>\n",
       "    </tr>\n",
       "  </tbody>\n",
       "</table>\n",
       "</div>"
      ],
      "text/plain": [
       "    total_amount  speed        day  gender  age  previous_offenses  \\\n",
       "0           1000     90   Saturday  Female   25                  6   \n",
       "2            500     60     Monday  Female   48                  2   \n",
       "4            800     80     Monday  Female   35                 10   \n",
       "7            250     90     Monday  Female   55                  2   \n",
       "9           1800    105   Thursday  Female   32                  7   \n",
       "11          1300    100   Thursday  Female   31                  3   \n",
       "14          1500    107  Wednesday  Female   35                  9   \n",
       "15           500     70    Tuesday  Female   44                 10   \n",
       "18          2000    102   Saturday  Female   23                 11   \n",
       "19          1000    107     Sunday  Female   26                 10   \n",
       "22          1800     95   Saturday  Female   45                  9   \n",
       "24          1300    108   Thursday  Female   36                 11   \n",
       "25          1500    106  Wednesday  Female   39                 10   \n",
       "27          2500    112     Friday  Female   26                  8   \n",
       "28          3200    138   Saturday  Female   54                 14   \n",
       "30          5000     50     Friday  Female   26                  2   \n",
       "32           600     78     Monday  Female   43                  5   \n",
       "33           700     86     Sunday  Female   40                  4   \n",
       "37          1500    100   Saturday  Female   28                  5   \n",
       "39           800     89    Tuesday  Female   38                  3   \n",
       "41          2500    110     Friday  Female   28                  8   \n",
       "42          2000    100   Saturday  Female   27                 13   \n",
       "\n",
       "    driving_experience  \n",
       "0                    7  \n",
       "2                   30  \n",
       "4                   17  \n",
       "7                   37  \n",
       "9                   14  \n",
       "11                  13  \n",
       "14                  17  \n",
       "15                  26  \n",
       "18                   5  \n",
       "19                   8  \n",
       "22                  27  \n",
       "24                  18  \n",
       "25                  21  \n",
       "27                   8  \n",
       "28                  36  \n",
       "30                   8  \n",
       "32                  25  \n",
       "33                  22  \n",
       "37                  10  \n",
       "39                  20  \n",
       "41                  10  \n",
       "42                   9  "
      ]
     },
     "execution_count": 5,
     "metadata": {},
     "output_type": "execute_result"
    }
   ],
   "source": [
    "df[df.gender == 'Female']"
   ]
  },
  {
   "cell_type": "code",
   "execution_count": 6,
   "id": "edec00b2",
   "metadata": {},
   "outputs": [
    {
     "data": {
      "text/plain": [
       "94.68181818181819"
      ]
     },
     "execution_count": 6,
     "metadata": {},
     "output_type": "execute_result"
    }
   ],
   "source": [
    "df[df.gender == 'Female'].speed.mean()"
   ]
  },
  {
   "cell_type": "code",
   "execution_count": 7,
   "id": "b3c22904",
   "metadata": {},
   "outputs": [
    {
     "data": {
      "text/plain": [
       "138"
      ]
     },
     "execution_count": 7,
     "metadata": {},
     "output_type": "execute_result"
    }
   ],
   "source": [
    "df[df.gender == 'Female'].speed.max()"
   ]
  },
  {
   "cell_type": "code",
   "execution_count": 8,
   "id": "a56935f2",
   "metadata": {},
   "outputs": [
    {
     "data": {
      "text/plain": [
       "50"
      ]
     },
     "execution_count": 8,
     "metadata": {},
     "output_type": "execute_result"
    }
   ],
   "source": [
    "df[df.gender == 'Female'].speed.min()"
   ]
  },
  {
   "cell_type": "code",
   "execution_count": 10,
   "id": "0ddad0a4",
   "metadata": {},
   "outputs": [
    {
     "data": {
      "text/html": [
       "<div>\n",
       "<style scoped>\n",
       "    .dataframe tbody tr th:only-of-type {\n",
       "        vertical-align: middle;\n",
       "    }\n",
       "\n",
       "    .dataframe tbody tr th {\n",
       "        vertical-align: top;\n",
       "    }\n",
       "\n",
       "    .dataframe thead th {\n",
       "        text-align: right;\n",
       "    }\n",
       "</style>\n",
       "<table border=\"1\" class=\"dataframe\">\n",
       "  <thead>\n",
       "    <tr style=\"text-align: right;\">\n",
       "      <th></th>\n",
       "      <th>count</th>\n",
       "      <th>mean</th>\n",
       "      <th>max</th>\n",
       "      <th>min</th>\n",
       "    </tr>\n",
       "    <tr>\n",
       "      <th>gender</th>\n",
       "      <th></th>\n",
       "      <th></th>\n",
       "      <th></th>\n",
       "      <th></th>\n",
       "    </tr>\n",
       "  </thead>\n",
       "  <tbody>\n",
       "    <tr>\n",
       "      <th>Female</th>\n",
       "      <td>22</td>\n",
       "      <td>94.681818</td>\n",
       "      <td>138</td>\n",
       "      <td>50</td>\n",
       "    </tr>\n",
       "    <tr>\n",
       "      <th>Male</th>\n",
       "      <td>21</td>\n",
       "      <td>105.000000</td>\n",
       "      <td>140</td>\n",
       "      <td>50</td>\n",
       "    </tr>\n",
       "  </tbody>\n",
       "</table>\n",
       "</div>"
      ],
      "text/plain": [
       "        count        mean  max  min\n",
       "gender                             \n",
       "Female     22   94.681818  138   50\n",
       "Male       21  105.000000  140   50"
      ]
     },
     "execution_count": 10,
     "metadata": {},
     "output_type": "execute_result"
    }
   ],
   "source": [
    "df.groupby('gender').speed.agg(['count', 'mean', 'max', 'min'])"
   ]
  },
  {
   "cell_type": "code",
   "execution_count": 11,
   "id": "d85bb6f0",
   "metadata": {},
   "outputs": [
    {
     "data": {
      "text/html": [
       "<div>\n",
       "<style scoped>\n",
       "    .dataframe tbody tr th:only-of-type {\n",
       "        vertical-align: middle;\n",
       "    }\n",
       "\n",
       "    .dataframe tbody tr th {\n",
       "        vertical-align: top;\n",
       "    }\n",
       "\n",
       "    .dataframe thead th {\n",
       "        text-align: right;\n",
       "    }\n",
       "</style>\n",
       "<table border=\"1\" class=\"dataframe\">\n",
       "  <thead>\n",
       "    <tr style=\"text-align: right;\">\n",
       "      <th></th>\n",
       "      <th>total_amount</th>\n",
       "      <th>speed</th>\n",
       "      <th>age</th>\n",
       "      <th>previous_offenses</th>\n",
       "      <th>driving_experience</th>\n",
       "    </tr>\n",
       "    <tr>\n",
       "      <th>day</th>\n",
       "      <th></th>\n",
       "      <th></th>\n",
       "      <th></th>\n",
       "      <th></th>\n",
       "      <th></th>\n",
       "    </tr>\n",
       "  </thead>\n",
       "  <tbody>\n",
       "    <tr>\n",
       "      <th>Friday</th>\n",
       "      <td>2970.000000</td>\n",
       "      <td>114.700000</td>\n",
       "      <td>29.200000</td>\n",
       "      <td>8.700000</td>\n",
       "      <td>11.200000</td>\n",
       "    </tr>\n",
       "    <tr>\n",
       "      <th>Monday</th>\n",
       "      <td>514.285714</td>\n",
       "      <td>76.142857</td>\n",
       "      <td>41.857143</td>\n",
       "      <td>4.571429</td>\n",
       "      <td>23.857143</td>\n",
       "    </tr>\n",
       "    <tr>\n",
       "      <th>Saturday</th>\n",
       "      <td>1888.888889</td>\n",
       "      <td>107.444444</td>\n",
       "      <td>31.222222</td>\n",
       "      <td>9.666667</td>\n",
       "      <td>13.222222</td>\n",
       "    </tr>\n",
       "    <tr>\n",
       "      <th>Sunday</th>\n",
       "      <td>920.000000</td>\n",
       "      <td>102.200000</td>\n",
       "      <td>41.800000</td>\n",
       "      <td>7.400000</td>\n",
       "      <td>23.800000</td>\n",
       "    </tr>\n",
       "    <tr>\n",
       "      <th>Thursday</th>\n",
       "      <td>1550.000000</td>\n",
       "      <td>103.250000</td>\n",
       "      <td>33.000000</td>\n",
       "      <td>6.750000</td>\n",
       "      <td>15.000000</td>\n",
       "    </tr>\n",
       "    <tr>\n",
       "      <th>Tuesday</th>\n",
       "      <td>550.000000</td>\n",
       "      <td>78.500000</td>\n",
       "      <td>44.750000</td>\n",
       "      <td>5.750000</td>\n",
       "      <td>26.750000</td>\n",
       "    </tr>\n",
       "    <tr>\n",
       "      <th>Wednesday</th>\n",
       "      <td>1250.000000</td>\n",
       "      <td>100.750000</td>\n",
       "      <td>37.500000</td>\n",
       "      <td>6.750000</td>\n",
       "      <td>19.500000</td>\n",
       "    </tr>\n",
       "  </tbody>\n",
       "</table>\n",
       "</div>"
      ],
      "text/plain": [
       "           total_amount       speed        age  previous_offenses  \\\n",
       "day                                                                 \n",
       "Friday      2970.000000  114.700000  29.200000           8.700000   \n",
       "Monday       514.285714   76.142857  41.857143           4.571429   \n",
       "Saturday    1888.888889  107.444444  31.222222           9.666667   \n",
       "Sunday       920.000000  102.200000  41.800000           7.400000   \n",
       "Thursday    1550.000000  103.250000  33.000000           6.750000   \n",
       "Tuesday      550.000000   78.500000  44.750000           5.750000   \n",
       "Wednesday   1250.000000  100.750000  37.500000           6.750000   \n",
       "\n",
       "           driving_experience  \n",
       "day                            \n",
       "Friday              11.200000  \n",
       "Monday              23.857143  \n",
       "Saturday            13.222222  \n",
       "Sunday              23.800000  \n",
       "Thursday            15.000000  \n",
       "Tuesday             26.750000  \n",
       "Wednesday           19.500000  "
      ]
     },
     "execution_count": 11,
     "metadata": {},
     "output_type": "execute_result"
    }
   ],
   "source": [
    "df.groupby('day').mean()"
   ]
  },
  {
   "cell_type": "markdown",
   "id": "8ee22a68",
   "metadata": {},
   "source": [
    "### 2. GroupBy and Plot data "
   ]
  },
  {
   "cell_type": "code",
   "execution_count": 12,
   "id": "3e717a46",
   "metadata": {},
   "outputs": [
    {
     "data": {
      "text/html": [
       "<div>\n",
       "<style scoped>\n",
       "    .dataframe tbody tr th:only-of-type {\n",
       "        vertical-align: middle;\n",
       "    }\n",
       "\n",
       "    .dataframe tbody tr th {\n",
       "        vertical-align: top;\n",
       "    }\n",
       "\n",
       "    .dataframe thead th {\n",
       "        text-align: right;\n",
       "    }\n",
       "</style>\n",
       "<table border=\"1\" class=\"dataframe\">\n",
       "  <thead>\n",
       "    <tr style=\"text-align: right;\">\n",
       "      <th></th>\n",
       "      <th>total_amount</th>\n",
       "      <th>speed</th>\n",
       "      <th>day</th>\n",
       "      <th>gender</th>\n",
       "      <th>age</th>\n",
       "      <th>previous_offenses</th>\n",
       "      <th>driving_experience</th>\n",
       "    </tr>\n",
       "  </thead>\n",
       "  <tbody>\n",
       "    <tr>\n",
       "      <th>0</th>\n",
       "      <td>1000</td>\n",
       "      <td>90</td>\n",
       "      <td>Saturday</td>\n",
       "      <td>Female</td>\n",
       "      <td>25</td>\n",
       "      <td>6</td>\n",
       "      <td>7</td>\n",
       "    </tr>\n",
       "    <tr>\n",
       "      <th>1</th>\n",
       "      <td>1500</td>\n",
       "      <td>100</td>\n",
       "      <td>Saturday</td>\n",
       "      <td>Male</td>\n",
       "      <td>21</td>\n",
       "      <td>8</td>\n",
       "      <td>3</td>\n",
       "    </tr>\n",
       "    <tr>\n",
       "      <th>2</th>\n",
       "      <td>500</td>\n",
       "      <td>60</td>\n",
       "      <td>Monday</td>\n",
       "      <td>Female</td>\n",
       "      <td>48</td>\n",
       "      <td>2</td>\n",
       "      <td>30</td>\n",
       "    </tr>\n",
       "    <tr>\n",
       "      <th>3</th>\n",
       "      <td>2500</td>\n",
       "      <td>125</td>\n",
       "      <td>Friday</td>\n",
       "      <td>Male</td>\n",
       "      <td>34</td>\n",
       "      <td>10</td>\n",
       "      <td>16</td>\n",
       "    </tr>\n",
       "    <tr>\n",
       "      <th>4</th>\n",
       "      <td>800</td>\n",
       "      <td>80</td>\n",
       "      <td>Monday</td>\n",
       "      <td>Female</td>\n",
       "      <td>35</td>\n",
       "      <td>10</td>\n",
       "      <td>17</td>\n",
       "    </tr>\n",
       "  </tbody>\n",
       "</table>\n",
       "</div>"
      ],
      "text/plain": [
       "   total_amount  speed       day  gender  age  previous_offenses  \\\n",
       "0          1000     90  Saturday  Female   25                  6   \n",
       "1          1500    100  Saturday    Male   21                  8   \n",
       "2           500     60    Monday  Female   48                  2   \n",
       "3          2500    125    Friday    Male   34                 10   \n",
       "4           800     80    Monday  Female   35                 10   \n",
       "\n",
       "   driving_experience  \n",
       "0                   7  \n",
       "1                   3  \n",
       "2                  30  \n",
       "3                  16  \n",
       "4                  17  "
      ]
     },
     "execution_count": 12,
     "metadata": {},
     "output_type": "execute_result"
    }
   ],
   "source": [
    "df = pd.read_csv('traffic.csv')\n",
    "df.head(5)"
   ]
  },
  {
   "cell_type": "code",
   "execution_count": 14,
   "id": "683f3eb7",
   "metadata": {},
   "outputs": [
    {
     "data": {
      "text/plain": [
       "<AxesSubplot:xlabel='day'>"
      ]
     },
     "execution_count": 14,
     "metadata": {},
     "output_type": "execute_result"
    },
    {
     "data": {
      "image/png": "[encoded data removed]",
      "text/plain": [
       "<Figure size 432x288 with 1 Axes>"
      ]
     },
     "metadata": {
      "needs_background": "light"
     },
     "output_type": "display_data"
    }
   ],
   "source": [
    "%matplotlib inline\n",
    "df.groupby('day').mean().plot(kind = 'bar')"
   ]
  },
  {
   "cell_type": "code",
   "execution_count": 15,
   "id": "fd2c6252",
   "metadata": {},
   "outputs": [],
   "source": [
    "df = df[['day', 'speed', 'age', 'previous_offenses', 'driving_experience']]"
   ]
  },
  {
   "cell_type": "code",
   "execution_count": 16,
   "id": "b1a40cf4",
   "metadata": {},
   "outputs": [
    {
     "data": {
      "text/plain": [
       "<AxesSubplot:xlabel='day'>"
      ]
     },
     "execution_count": 16,
     "metadata": {},
     "output_type": "execute_result"
    },
    {
     "data": {
      "image/png": "[encoded data removed]",
      "text/plain": [
       "<Figure size 432x288 with 1 Axes>"
      ]
     },
     "metadata": {
      "needs_background": "light"
     },
     "output_type": "display_data"
    }
   ],
   "source": [
    "df.groupby('day').mean().plot(kind = 'bar')"
   ]
  },
  {
   "cell_type": "code",
   "execution_count": 17,
   "id": "2a430447",
   "metadata": {},
   "outputs": [],
   "source": [
    "import matplotlib.pyplot as plt"
   ]
  },
  {
   "cell_type": "code",
   "execution_count": 22,
   "id": "9f5377f4",
   "metadata": {},
   "outputs": [],
   "source": [
    "df = df.groupby(['day']).size().reset_index(name = 'Number')"
   ]
  },
  {
   "cell_type": "code",
   "execution_count": 23,
   "id": "b91e9ed4",
   "metadata": {},
   "outputs": [
    {
     "data": {
      "text/html": [
       "<div>\n",
       "<style scoped>\n",
       "    .dataframe tbody tr th:only-of-type {\n",
       "        vertical-align: middle;\n",
       "    }\n",
       "\n",
       "    .dataframe tbody tr th {\n",
       "        vertical-align: top;\n",
       "    }\n",
       "\n",
       "    .dataframe thead th {\n",
       "        text-align: right;\n",
       "    }\n",
       "</style>\n",
       "<table border=\"1\" class=\"dataframe\">\n",
       "  <thead>\n",
       "    <tr style=\"text-align: right;\">\n",
       "      <th></th>\n",
       "      <th>day</th>\n",
       "      <th>Number</th>\n",
       "    </tr>\n",
       "  </thead>\n",
       "  <tbody>\n",
       "    <tr>\n",
       "      <th>0</th>\n",
       "      <td>Friday</td>\n",
       "      <td>10</td>\n",
       "    </tr>\n",
       "    <tr>\n",
       "      <th>1</th>\n",
       "      <td>Monday</td>\n",
       "      <td>7</td>\n",
       "    </tr>\n",
       "    <tr>\n",
       "      <th>2</th>\n",
       "      <td>Saturday</td>\n",
       "      <td>9</td>\n",
       "    </tr>\n",
       "    <tr>\n",
       "      <th>3</th>\n",
       "      <td>Sunday</td>\n",
       "      <td>5</td>\n",
       "    </tr>\n",
       "    <tr>\n",
       "      <th>4</th>\n",
       "      <td>Thursday</td>\n",
       "      <td>4</td>\n",
       "    </tr>\n",
       "    <tr>\n",
       "      <th>5</th>\n",
       "      <td>Tuesday</td>\n",
       "      <td>4</td>\n",
       "    </tr>\n",
       "    <tr>\n",
       "      <th>6</th>\n",
       "      <td>Wednesday</td>\n",
       "      <td>4</td>\n",
       "    </tr>\n",
       "  </tbody>\n",
       "</table>\n",
       "</div>"
      ],
      "text/plain": [
       "         day  Number\n",
       "0     Friday      10\n",
       "1     Monday       7\n",
       "2   Saturday       9\n",
       "3     Sunday       5\n",
       "4   Thursday       4\n",
       "5    Tuesday       4\n",
       "6  Wednesday       4"
      ]
     },
     "execution_count": 23,
     "metadata": {},
     "output_type": "execute_result"
    }
   ],
   "source": [
    "df"
   ]
  },
  {
   "cell_type": "code",
   "execution_count": 33,
   "id": "0cf61f44",
   "metadata": {},
   "outputs": [
    {
     "data": {
      "image/png": "[encoded data removed]",
      "text/plain": [
       "<Figure size 720x720 with 1 Axes>"
      ]
     },
     "metadata": {
      "needs_background": "light"
     },
     "output_type": "display_data"
    }
   ],
   "source": [
    "plt.figure(figsize = (10, 10))\n",
    "x = df['day']\n",
    "y = df['Number']\n",
    "plt.xlabel('Days')\n",
    "plt.ylabel('Number of offenses')\n",
    "plt.title('Number of Offenses by Day')\n",
    "plt.grid(which = 'both', linestyle = ':')\n",
    "plt.bar(x, y, color = 'blue')\n",
    "plt.savefig('traffic_offense.png')"
   ]
  },
  {
   "cell_type": "markdown",
   "id": "19cd7093",
   "metadata": {},
   "source": [
    "### 2. Plotting in Seaborn"
   ]
  },
  {
   "cell_type": "code",
   "execution_count": 37,
   "id": "874bf2d5",
   "metadata": {},
   "outputs": [],
   "source": [
    "import pandas as pd\n",
    "import seaborn as sns"
   ]
  },
  {
   "cell_type": "code",
   "execution_count": 38,
   "id": "48ebace9",
   "metadata": {},
   "outputs": [
    {
     "data": {
      "text/html": [
       "<div>\n",
       "<style scoped>\n",
       "    .dataframe tbody tr th:only-of-type {\n",
       "        vertical-align: middle;\n",
       "    }\n",
       "\n",
       "    .dataframe tbody tr th {\n",
       "        vertical-align: top;\n",
       "    }\n",
       "\n",
       "    .dataframe thead th {\n",
       "        text-align: right;\n",
       "    }\n",
       "</style>\n",
       "<table border=\"1\" class=\"dataframe\">\n",
       "  <thead>\n",
       "    <tr style=\"text-align: right;\">\n",
       "      <th></th>\n",
       "      <th>total_amount</th>\n",
       "      <th>speed</th>\n",
       "      <th>day</th>\n",
       "      <th>gender</th>\n",
       "      <th>age</th>\n",
       "      <th>previous_offenses</th>\n",
       "      <th>driving_experience</th>\n",
       "    </tr>\n",
       "  </thead>\n",
       "  <tbody>\n",
       "    <tr>\n",
       "      <th>0</th>\n",
       "      <td>1000</td>\n",
       "      <td>90</td>\n",
       "      <td>Saturday</td>\n",
       "      <td>Female</td>\n",
       "      <td>25</td>\n",
       "      <td>6</td>\n",
       "      <td>7</td>\n",
       "    </tr>\n",
       "    <tr>\n",
       "      <th>1</th>\n",
       "      <td>1500</td>\n",
       "      <td>100</td>\n",
       "      <td>Saturday</td>\n",
       "      <td>Male</td>\n",
       "      <td>21</td>\n",
       "      <td>8</td>\n",
       "      <td>3</td>\n",
       "    </tr>\n",
       "    <tr>\n",
       "      <th>2</th>\n",
       "      <td>500</td>\n",
       "      <td>60</td>\n",
       "      <td>Monday</td>\n",
       "      <td>Female</td>\n",
       "      <td>48</td>\n",
       "      <td>2</td>\n",
       "      <td>30</td>\n",
       "    </tr>\n",
       "    <tr>\n",
       "      <th>3</th>\n",
       "      <td>2500</td>\n",
       "      <td>125</td>\n",
       "      <td>Friday</td>\n",
       "      <td>Male</td>\n",
       "      <td>34</td>\n",
       "      <td>10</td>\n",
       "      <td>16</td>\n",
       "    </tr>\n",
       "    <tr>\n",
       "      <th>4</th>\n",
       "      <td>800</td>\n",
       "      <td>80</td>\n",
       "      <td>Monday</td>\n",
       "      <td>Female</td>\n",
       "      <td>35</td>\n",
       "      <td>10</td>\n",
       "      <td>17</td>\n",
       "    </tr>\n",
       "  </tbody>\n",
       "</table>\n",
       "</div>"
      ],
      "text/plain": [
       "   total_amount  speed       day  gender  age  previous_offenses  \\\n",
       "0          1000     90  Saturday  Female   25                  6   \n",
       "1          1500    100  Saturday    Male   21                  8   \n",
       "2           500     60    Monday  Female   48                  2   \n",
       "3          2500    125    Friday    Male   34                 10   \n",
       "4           800     80    Monday  Female   35                 10   \n",
       "\n",
       "   driving_experience  \n",
       "0                   7  \n",
       "1                   3  \n",
       "2                  30  \n",
       "3                  16  \n",
       "4                  17  "
      ]
     },
     "execution_count": 38,
     "metadata": {},
     "output_type": "execute_result"
    }
   ],
   "source": [
    "df = pd.read_csv('traffic.csv')\n",
    "df.head(5)"
   ]
  },
  {
   "cell_type": "markdown",
   "id": "a1cb0f4c",
   "metadata": {},
   "source": [
    "#### 1. Scatterplots "
   ]
  },
  {
   "cell_type": "code",
   "execution_count": 42,
   "id": "03d499a9",
   "metadata": {},
   "outputs": [
    {
     "data": {
      "text/plain": [
       "<AxesSubplot:xlabel='age', ylabel='speed'>"
      ]
     },
     "execution_count": 42,
     "metadata": {},
     "output_type": "execute_result"
    },
    {
     "data": {
      "image/png": "[encoded data removed]",
      "text/plain": [
       "<Figure size 432x288 with 1 Axes>"
      ]
     },
     "metadata": {
      "needs_background": "light"
     },
     "output_type": "display_data"
    }
   ],
   "source": [
    "sns.scatterplot(x = 'age', y = 'speed', data = df, hue = 'day', size = 'gender', palette = 'prism')"
   ]
  },
  {
   "cell_type": "markdown",
   "id": "c9bd5c62",
   "metadata": {},
   "source": [
    "#### 2. Histograms"
   ]
  },
  {
   "cell_type": "code",
   "execution_count": 43,
   "id": "317e9f8d",
   "metadata": {},
   "outputs": [],
   "source": [
    "import seaborn as sns"
   ]
  },
  {
   "cell_type": "code",
   "execution_count": 44,
   "id": "9168d16e",
   "metadata": {},
   "outputs": [
    {
     "data": {
      "text/html": [
       "<div>\n",
       "<style scoped>\n",
       "    .dataframe tbody tr th:only-of-type {\n",
       "        vertical-align: middle;\n",
       "    }\n",
       "\n",
       "    .dataframe tbody tr th {\n",
       "        vertical-align: top;\n",
       "    }\n",
       "\n",
       "    .dataframe thead th {\n",
       "        text-align: right;\n",
       "    }\n",
       "</style>\n",
       "<table border=\"1\" class=\"dataframe\">\n",
       "  <thead>\n",
       "    <tr style=\"text-align: right;\">\n",
       "      <th></th>\n",
       "      <th>total_amount</th>\n",
       "      <th>speed</th>\n",
       "      <th>day</th>\n",
       "      <th>gender</th>\n",
       "      <th>age</th>\n",
       "      <th>previous_offenses</th>\n",
       "      <th>driving_experience</th>\n",
       "    </tr>\n",
       "  </thead>\n",
       "  <tbody>\n",
       "    <tr>\n",
       "      <th>0</th>\n",
       "      <td>1000</td>\n",
       "      <td>90</td>\n",
       "      <td>Saturday</td>\n",
       "      <td>Female</td>\n",
       "      <td>25</td>\n",
       "      <td>6</td>\n",
       "      <td>7</td>\n",
       "    </tr>\n",
       "    <tr>\n",
       "      <th>1</th>\n",
       "      <td>1500</td>\n",
       "      <td>100</td>\n",
       "      <td>Saturday</td>\n",
       "      <td>Male</td>\n",
       "      <td>21</td>\n",
       "      <td>8</td>\n",
       "      <td>3</td>\n",
       "    </tr>\n",
       "    <tr>\n",
       "      <th>2</th>\n",
       "      <td>500</td>\n",
       "      <td>60</td>\n",
       "      <td>Monday</td>\n",
       "      <td>Female</td>\n",
       "      <td>48</td>\n",
       "      <td>2</td>\n",
       "      <td>30</td>\n",
       "    </tr>\n",
       "    <tr>\n",
       "      <th>3</th>\n",
       "      <td>2500</td>\n",
       "      <td>125</td>\n",
       "      <td>Friday</td>\n",
       "      <td>Male</td>\n",
       "      <td>34</td>\n",
       "      <td>10</td>\n",
       "      <td>16</td>\n",
       "    </tr>\n",
       "    <tr>\n",
       "      <th>4</th>\n",
       "      <td>800</td>\n",
       "      <td>80</td>\n",
       "      <td>Monday</td>\n",
       "      <td>Female</td>\n",
       "      <td>35</td>\n",
       "      <td>10</td>\n",
       "      <td>17</td>\n",
       "    </tr>\n",
       "  </tbody>\n",
       "</table>\n",
       "</div>"
      ],
      "text/plain": [
       "   total_amount  speed       day  gender  age  previous_offenses  \\\n",
       "0          1000     90  Saturday  Female   25                  6   \n",
       "1          1500    100  Saturday    Male   21                  8   \n",
       "2           500     60    Monday  Female   48                  2   \n",
       "3          2500    125    Friday    Male   34                 10   \n",
       "4           800     80    Monday  Female   35                 10   \n",
       "\n",
       "   driving_experience  \n",
       "0                   7  \n",
       "1                   3  \n",
       "2                  30  \n",
       "3                  16  \n",
       "4                  17  "
      ]
     },
     "execution_count": 44,
     "metadata": {},
     "output_type": "execute_result"
    }
   ],
   "source": [
    "df = pd.read_csv('traffic.csv')\n",
    "df.head(5)"
   ]
  },
  {
   "cell_type": "code",
   "execution_count": 45,
   "id": "e6704b89",
   "metadata": {},
   "outputs": [
    {
     "data": {
      "text/plain": [
       "<AxesSubplot:xlabel='speed', ylabel='Count'>"
      ]
     },
     "execution_count": 45,
     "metadata": {},
     "output_type": "execute_result"
    },
    {
     "data": {
      "image/png": "[encoded data removed]",
      "text/plain": [
       "<Figure size 432x288 with 1 Axes>"
      ]
     },
     "metadata": {
      "needs_background": "light"
     },
     "output_type": "display_data"
    }
   ],
   "source": [
    "sns.histplot(df['speed'], kde = True, bins = 10)"
   ]
  },
  {
   "cell_type": "code",
   "execution_count": 46,
   "id": "f009cfc0",
   "metadata": {},
   "outputs": [
    {
     "data": {
      "text/plain": [
       "<AxesSubplot:xlabel='total_amount', ylabel='Count'>"
      ]
     },
     "execution_count": 46,
     "metadata": {},
     "output_type": "execute_result"
    },
    {
     "data": {
      "image/png": "[encoded data removed]",
      "text/plain": [
       "<Figure size 432x288 with 1 Axes>"
      ]
     },
     "metadata": {
      "needs_background": "light"
     },
     "output_type": "display_data"
    }
   ],
   "source": [
    "sns.histplot(df['total_amount'], kde = True, bins = 10)"
   ]
  },
  {
   "cell_type": "code",
   "execution_count": 47,
   "id": "de597cfc",
   "metadata": {},
   "outputs": [
    {
     "data": {
      "text/plain": [
       "<seaborn.axisgrid.FacetGrid at 0x7fedc9479880>"
      ]
     },
     "execution_count": 47,
     "metadata": {},
     "output_type": "execute_result"
    },
    {
     "data": {
      "image/png": "[encoded data removed]",
      "text/plain": [
       "<Figure size 360x360 with 1 Axes>"
      ]
     },
     "metadata": {
      "needs_background": "light"
     },
     "output_type": "display_data"
    }
   ],
   "source": [
    "sns.displot(df['speed'], kde = True, bins = 10)"
   ]
  },
  {
   "cell_type": "markdown",
   "id": "b061baa9",
   "metadata": {},
   "source": [
    "#### 3. Barplots"
   ]
  },
  {
   "cell_type": "code",
   "execution_count": 48,
   "id": "016d6a00",
   "metadata": {},
   "outputs": [],
   "source": [
    "import seaborn as sns"
   ]
  },
  {
   "cell_type": "code",
   "execution_count": 50,
   "id": "b9580da1",
   "metadata": {},
   "outputs": [
    {
     "data": {
      "text/html": [
       "<div>\n",
       "<style scoped>\n",
       "    .dataframe tbody tr th:only-of-type {\n",
       "        vertical-align: middle;\n",
       "    }\n",
       "\n",
       "    .dataframe tbody tr th {\n",
       "        vertical-align: top;\n",
       "    }\n",
       "\n",
       "    .dataframe thead th {\n",
       "        text-align: right;\n",
       "    }\n",
       "</style>\n",
       "<table border=\"1\" class=\"dataframe\">\n",
       "  <thead>\n",
       "    <tr style=\"text-align: right;\">\n",
       "      <th></th>\n",
       "      <th>total_amount</th>\n",
       "      <th>speed</th>\n",
       "      <th>day</th>\n",
       "      <th>gender</th>\n",
       "      <th>age</th>\n",
       "      <th>previous_offenses</th>\n",
       "      <th>driving_experience</th>\n",
       "    </tr>\n",
       "  </thead>\n",
       "  <tbody>\n",
       "    <tr>\n",
       "      <th>0</th>\n",
       "      <td>1000</td>\n",
       "      <td>90</td>\n",
       "      <td>Saturday</td>\n",
       "      <td>Female</td>\n",
       "      <td>25</td>\n",
       "      <td>6</td>\n",
       "      <td>7</td>\n",
       "    </tr>\n",
       "    <tr>\n",
       "      <th>1</th>\n",
       "      <td>1500</td>\n",
       "      <td>100</td>\n",
       "      <td>Saturday</td>\n",
       "      <td>Male</td>\n",
       "      <td>21</td>\n",
       "      <td>8</td>\n",
       "      <td>3</td>\n",
       "    </tr>\n",
       "    <tr>\n",
       "      <th>2</th>\n",
       "      <td>500</td>\n",
       "      <td>60</td>\n",
       "      <td>Monday</td>\n",
       "      <td>Female</td>\n",
       "      <td>48</td>\n",
       "      <td>2</td>\n",
       "      <td>30</td>\n",
       "    </tr>\n",
       "  </tbody>\n",
       "</table>\n",
       "</div>"
      ],
      "text/plain": [
       "   total_amount  speed       day  gender  age  previous_offenses  \\\n",
       "0          1000     90  Saturday  Female   25                  6   \n",
       "1          1500    100  Saturday    Male   21                  8   \n",
       "2           500     60    Monday  Female   48                  2   \n",
       "\n",
       "   driving_experience  \n",
       "0                   7  \n",
       "1                   3  \n",
       "2                  30  "
      ]
     },
     "execution_count": 50,
     "metadata": {},
     "output_type": "execute_result"
    }
   ],
   "source": [
    "df = pd.read_csv('traffic.csv')\n",
    "df.head(3)"
   ]
  },
  {
   "cell_type": "code",
   "execution_count": 51,
   "id": "ab3296e0",
   "metadata": {},
   "outputs": [
    {
     "data": {
      "text/plain": [
       "<AxesSubplot:xlabel='gender', ylabel='speed'>"
      ]
     },
     "execution_count": 51,
     "metadata": {},
     "output_type": "execute_result"
    },
    {
     "data": {
      "image/png": "[encoded data removed]",
      "text/plain": [
       "<Figure size 432x288 with 1 Axes>"
      ]
     },
     "metadata": {
      "needs_background": "light"
     },
     "output_type": "display_data"
    }
   ],
   "source": [
    "sns.barplot(x = 'gender', y = 'speed', data = df, palette = 'Set1')"
   ]
  },
  {
   "cell_type": "markdown",
   "id": "1cc912cd",
   "metadata": {},
   "source": [
    "#### 4. Boxplots"
   ]
  },
  {
   "cell_type": "code",
   "execution_count": 52,
   "id": "1f228583",
   "metadata": {},
   "outputs": [
    {
     "data": {
      "text/plain": [
       "<AxesSubplot:xlabel='day', ylabel='age'>"
      ]
     },
     "execution_count": 52,
     "metadata": {},
     "output_type": "execute_result"
    },
    {
     "data": {
      "image/png": "[encoded data removed]",
      "text/plain": [
       "<Figure size 432x288 with 1 Axes>"
      ]
     },
     "metadata": {
      "needs_background": "light"
     },
     "output_type": "display_data"
    }
   ],
   "source": [
    "sns.boxplot(x = 'day', y = 'age', data = df, hue = 'gender', palette = 'YlGnBu')"
   ]
  },
  {
   "cell_type": "markdown",
   "id": "5c281ef2",
   "metadata": {},
   "source": [
    "#### 5. Stripplots "
   ]
  },
  {
   "cell_type": "code",
   "execution_count": 55,
   "id": "30e47daa",
   "metadata": {},
   "outputs": [
    {
     "data": {
      "text/plain": [
       "<AxesSubplot:xlabel='day', ylabel='total_amount'>"
      ]
     },
     "execution_count": 55,
     "metadata": {},
     "output_type": "execute_result"
    },
    {
     "data": {
      "image/png": "[encoded data removed]",
      "text/plain": [
       "<Figure size 432x288 with 1 Axes>"
      ]
     },
     "metadata": {
      "needs_background": "light"
     },
     "output_type": "display_data"
    }
   ],
   "source": [
    "sns.stripplot(x = 'day', y = 'total_amount', data = df, hue = 'gender', palette = 'spring', dodge = True)"
   ]
  },
  {
   "cell_type": "markdown",
   "id": "ebfff53f",
   "metadata": {},
   "source": [
    "#### 6. Jointplots  "
   ]
  },
  {
   "cell_type": "code",
   "execution_count": 57,
   "id": "adc75db9",
   "metadata": {},
   "outputs": [],
   "source": [
    "import seaborn as sns"
   ]
  },
  {
   "cell_type": "code",
   "execution_count": 58,
   "id": "ae2eeffa",
   "metadata": {},
   "outputs": [
    {
     "data": {
      "text/html": [
       "<div>\n",
       "<style scoped>\n",
       "    .dataframe tbody tr th:only-of-type {\n",
       "        vertical-align: middle;\n",
       "    }\n",
       "\n",
       "    .dataframe tbody tr th {\n",
       "        vertical-align: top;\n",
       "    }\n",
       "\n",
       "    .dataframe thead th {\n",
       "        text-align: right;\n",
       "    }\n",
       "</style>\n",
       "<table border=\"1\" class=\"dataframe\">\n",
       "  <thead>\n",
       "    <tr style=\"text-align: right;\">\n",
       "      <th></th>\n",
       "      <th>total_amount</th>\n",
       "      <th>speed</th>\n",
       "      <th>day</th>\n",
       "      <th>gender</th>\n",
       "      <th>age</th>\n",
       "      <th>previous_offenses</th>\n",
       "      <th>driving_experience</th>\n",
       "    </tr>\n",
       "  </thead>\n",
       "  <tbody>\n",
       "    <tr>\n",
       "      <th>0</th>\n",
       "      <td>1000</td>\n",
       "      <td>90</td>\n",
       "      <td>Saturday</td>\n",
       "      <td>Female</td>\n",
       "      <td>25</td>\n",
       "      <td>6</td>\n",
       "      <td>7</td>\n",
       "    </tr>\n",
       "    <tr>\n",
       "      <th>1</th>\n",
       "      <td>1500</td>\n",
       "      <td>100</td>\n",
       "      <td>Saturday</td>\n",
       "      <td>Male</td>\n",
       "      <td>21</td>\n",
       "      <td>8</td>\n",
       "      <td>3</td>\n",
       "    </tr>\n",
       "    <tr>\n",
       "      <th>2</th>\n",
       "      <td>500</td>\n",
       "      <td>60</td>\n",
       "      <td>Monday</td>\n",
       "      <td>Female</td>\n",
       "      <td>48</td>\n",
       "      <td>2</td>\n",
       "      <td>30</td>\n",
       "    </tr>\n",
       "  </tbody>\n",
       "</table>\n",
       "</div>"
      ],
      "text/plain": [
       "   total_amount  speed       day  gender  age  previous_offenses  \\\n",
       "0          1000     90  Saturday  Female   25                  6   \n",
       "1          1500    100  Saturday    Male   21                  8   \n",
       "2           500     60    Monday  Female   48                  2   \n",
       "\n",
       "   driving_experience  \n",
       "0                   7  \n",
       "1                   3  \n",
       "2                  30  "
      ]
     },
     "execution_count": 58,
     "metadata": {},
     "output_type": "execute_result"
    }
   ],
   "source": [
    "df = pd.read_csv('traffic.csv')\n",
    "df.head(3)"
   ]
  },
  {
   "cell_type": "code",
   "execution_count": 60,
   "id": "a84848c2",
   "metadata": {},
   "outputs": [
    {
     "data": {
      "text/plain": [
       "<seaborn.axisgrid.JointGrid at 0x7fedc93aca90>"
      ]
     },
     "execution_count": 60,
     "metadata": {},
     "output_type": "execute_result"
    },
    {
     "data": {
      "image/png": "[encoded data removed]",
      "text/plain": [
       "<Figure size 432x432 with 3 Axes>"
      ]
     },
     "metadata": {
      "needs_background": "light"
     },
     "output_type": "display_data"
    }
   ],
   "source": [
    "sns.jointplot(x = 'total_amount', y = 'speed', data = df, kind = 'reg')"
   ]
  },
  {
   "cell_type": "code",
   "execution_count": 61,
   "id": "6cd0240a",
   "metadata": {},
   "outputs": [
    {
     "data": {
      "text/plain": [
       "<seaborn.axisgrid.JointGrid at 0x7fed98a14280>"
      ]
     },
     "execution_count": 61,
     "metadata": {},
     "output_type": "execute_result"
    },
    {
     "data": {
      "image/png": "[encoded data removed]",
      "text/plain": [
       "<Figure size 432x432 with 3 Axes>"
      ]
     },
     "metadata": {
      "needs_background": "light"
     },
     "output_type": "display_data"
    }
   ],
   "source": [
    "sns.jointplot(x = 'total_amount', y = 'speed', data = df, kind = 'kde')"
   ]
  },
  {
   "cell_type": "code",
   "execution_count": 62,
   "id": "1166d9c3",
   "metadata": {},
   "outputs": [
    {
     "data": {
      "text/plain": [
       "<seaborn.axisgrid.JointGrid at 0x7fedca0b7dc0>"
      ]
     },
     "execution_count": 62,
     "metadata": {},
     "output_type": "execute_result"
    },
    {
     "data": {
      "image/png": "[encoded data removed]",
      "text/plain": [
       "<Figure size 432x432 with 3 Axes>"
      ]
     },
     "metadata": {
      "needs_background": "light"
     },
     "output_type": "display_data"
    }
   ],
   "source": [
    "sns.jointplot(x = 'total_amount', y = 'speed', data = df, shade = True, kind = 'kde')"
   ]
  },
  {
   "cell_type": "code",
   "execution_count": 63,
   "id": "2cb0f7be",
   "metadata": {},
   "outputs": [
    {
     "data": {
      "text/plain": [
       "<seaborn.axisgrid.JointGrid at 0x7fedc9d1e8b0>"
      ]
     },
     "execution_count": 63,
     "metadata": {},
     "output_type": "execute_result"
    },
    {
     "data": {
      "image/png": "[encoded data removed]",
      "text/plain": [
       "<Figure size 432x432 with 3 Axes>"
      ]
     },
     "metadata": {
      "needs_background": "light"
     },
     "output_type": "display_data"
    }
   ],
   "source": [
    "sns.jointplot(x = 'total_amount', y = 'speed', shade = True, data = df, kind = 'kde', cmap = 'coolwarm')"
   ]
  },
  {
   "cell_type": "markdown",
   "id": "beaf97df",
   "metadata": {},
   "source": [
    "### Correlated "
   ]
  },
  {
   "cell_type": "code",
   "execution_count": 64,
   "id": "0153a1a3",
   "metadata": {},
   "outputs": [
    {
     "data": {
      "text/html": [
       "<div>\n",
       "<style scoped>\n",
       "    .dataframe tbody tr th:only-of-type {\n",
       "        vertical-align: middle;\n",
       "    }\n",
       "\n",
       "    .dataframe tbody tr th {\n",
       "        vertical-align: top;\n",
       "    }\n",
       "\n",
       "    .dataframe thead th {\n",
       "        text-align: right;\n",
       "    }\n",
       "</style>\n",
       "<table border=\"1\" class=\"dataframe\">\n",
       "  <thead>\n",
       "    <tr style=\"text-align: right;\">\n",
       "      <th></th>\n",
       "      <th>total_amount</th>\n",
       "      <th>speed</th>\n",
       "      <th>day</th>\n",
       "      <th>gender</th>\n",
       "      <th>age</th>\n",
       "      <th>previous_offenses</th>\n",
       "      <th>driving_experience</th>\n",
       "    </tr>\n",
       "  </thead>\n",
       "  <tbody>\n",
       "    <tr>\n",
       "      <th>0</th>\n",
       "      <td>1000</td>\n",
       "      <td>90</td>\n",
       "      <td>Saturday</td>\n",
       "      <td>Female</td>\n",
       "      <td>25</td>\n",
       "      <td>6</td>\n",
       "      <td>7</td>\n",
       "    </tr>\n",
       "    <tr>\n",
       "      <th>1</th>\n",
       "      <td>1500</td>\n",
       "      <td>100</td>\n",
       "      <td>Saturday</td>\n",
       "      <td>Male</td>\n",
       "      <td>21</td>\n",
       "      <td>8</td>\n",
       "      <td>3</td>\n",
       "    </tr>\n",
       "    <tr>\n",
       "      <th>2</th>\n",
       "      <td>500</td>\n",
       "      <td>60</td>\n",
       "      <td>Monday</td>\n",
       "      <td>Female</td>\n",
       "      <td>48</td>\n",
       "      <td>2</td>\n",
       "      <td>30</td>\n",
       "    </tr>\n",
       "    <tr>\n",
       "      <th>3</th>\n",
       "      <td>2500</td>\n",
       "      <td>125</td>\n",
       "      <td>Friday</td>\n",
       "      <td>Male</td>\n",
       "      <td>34</td>\n",
       "      <td>10</td>\n",
       "      <td>16</td>\n",
       "    </tr>\n",
       "  </tbody>\n",
       "</table>\n",
       "</div>"
      ],
      "text/plain": [
       "   total_amount  speed       day  gender  age  previous_offenses  \\\n",
       "0          1000     90  Saturday  Female   25                  6   \n",
       "1          1500    100  Saturday    Male   21                  8   \n",
       "2           500     60    Monday  Female   48                  2   \n",
       "3          2500    125    Friday    Male   34                 10   \n",
       "\n",
       "   driving_experience  \n",
       "0                   7  \n",
       "1                   3  \n",
       "2                  30  \n",
       "3                  16  "
      ]
     },
     "execution_count": 64,
     "metadata": {},
     "output_type": "execute_result"
    }
   ],
   "source": [
    "df.head(4)"
   ]
  },
  {
   "cell_type": "code",
   "execution_count": 65,
   "id": "fcac8d7b",
   "metadata": {},
   "outputs": [
    {
     "data": {
      "text/html": [
       "<div>\n",
       "<style scoped>\n",
       "    .dataframe tbody tr th:only-of-type {\n",
       "        vertical-align: middle;\n",
       "    }\n",
       "\n",
       "    .dataframe tbody tr th {\n",
       "        vertical-align: top;\n",
       "    }\n",
       "\n",
       "    .dataframe thead th {\n",
       "        text-align: right;\n",
       "    }\n",
       "</style>\n",
       "<table border=\"1\" class=\"dataframe\">\n",
       "  <thead>\n",
       "    <tr style=\"text-align: right;\">\n",
       "      <th></th>\n",
       "      <th>total_amount</th>\n",
       "      <th>speed</th>\n",
       "      <th>age</th>\n",
       "      <th>previous_offenses</th>\n",
       "      <th>driving_experience</th>\n",
       "    </tr>\n",
       "  </thead>\n",
       "  <tbody>\n",
       "    <tr>\n",
       "      <th>total_amount</th>\n",
       "      <td>1.000000</td>\n",
       "      <td>0.506967</td>\n",
       "      <td>-0.439930</td>\n",
       "      <td>0.370482</td>\n",
       "      <td>-0.439930</td>\n",
       "    </tr>\n",
       "    <tr>\n",
       "      <th>speed</th>\n",
       "      <td>0.506967</td>\n",
       "      <td>1.000000</td>\n",
       "      <td>-0.285019</td>\n",
       "      <td>0.649576</td>\n",
       "      <td>-0.285019</td>\n",
       "    </tr>\n",
       "    <tr>\n",
       "      <th>age</th>\n",
       "      <td>-0.439930</td>\n",
       "      <td>-0.285019</td>\n",
       "      <td>1.000000</td>\n",
       "      <td>-0.209010</td>\n",
       "      <td>1.000000</td>\n",
       "    </tr>\n",
       "    <tr>\n",
       "      <th>previous_offenses</th>\n",
       "      <td>0.370482</td>\n",
       "      <td>0.649576</td>\n",
       "      <td>-0.209010</td>\n",
       "      <td>1.000000</td>\n",
       "      <td>-0.209010</td>\n",
       "    </tr>\n",
       "    <tr>\n",
       "      <th>driving_experience</th>\n",
       "      <td>-0.439930</td>\n",
       "      <td>-0.285019</td>\n",
       "      <td>1.000000</td>\n",
       "      <td>-0.209010</td>\n",
       "      <td>1.000000</td>\n",
       "    </tr>\n",
       "  </tbody>\n",
       "</table>\n",
       "</div>"
      ],
      "text/plain": [
       "                    total_amount     speed       age  previous_offenses  \\\n",
       "total_amount            1.000000  0.506967 -0.439930           0.370482   \n",
       "speed                   0.506967  1.000000 -0.285019           0.649576   \n",
       "age                    -0.439930 -0.285019  1.000000          -0.209010   \n",
       "previous_offenses       0.370482  0.649576 -0.209010           1.000000   \n",
       "driving_experience     -0.439930 -0.285019  1.000000          -0.209010   \n",
       "\n",
       "                    driving_experience  \n",
       "total_amount                 -0.439930  \n",
       "speed                        -0.285019  \n",
       "age                           1.000000  \n",
       "previous_offenses            -0.209010  \n",
       "driving_experience            1.000000  "
      ]
     },
     "execution_count": 65,
     "metadata": {},
     "output_type": "execute_result"
    }
   ],
   "source": [
    "df.corr()"
   ]
  },
  {
   "cell_type": "code",
   "execution_count": 66,
   "id": "455dd8fc",
   "metadata": {},
   "outputs": [
    {
     "data": {
      "text/plain": [
       "<AxesSubplot:>"
      ]
     },
     "execution_count": 66,
     "metadata": {},
     "output_type": "execute_result"
    },
    {
     "data": {
      "image/png": "[encoded data removed]",
      "text/plain": [
       "<Figure size 432x288 with 2 Axes>"
      ]
     },
     "metadata": {
      "needs_background": "light"
     },
     "output_type": "display_data"
    }
   ],
   "source": [
    "sns.heatmap(df.corr(), annot = True, cmap = 'YlGnBu')"
   ]
  },
  {
   "cell_type": "code",
   "execution_count": 67,
   "id": "3b9b305f",
   "metadata": {},
   "outputs": [],
   "source": [
    "import numpy as np"
   ]
  },
  {
   "cell_type": "code",
   "execution_count": 68,
   "id": "9236ff66",
   "metadata": {},
   "outputs": [],
   "source": [
    "mask = np.triu(np.ones_like(df.corr()))"
   ]
  },
  {
   "cell_type": "code",
   "execution_count": null,
   "id": "0d86b7ed",
   "metadata": {},
   "outputs": [],
   "source": [
    "sns.heatmap(df.corr(), cmap = 'coolwarm', annot = True, mask = mak)"
   ]
  }
 ],
 "metadata": {
  "kernelspec": {
   "display_name": "Python 3 (ipykernel)",
   "language": "python",
   "name": "python3"
  },
  "language_info": {
   "codemirror_mode": {
    "name": "ipython",
    "version": 3
   },
   "file_extension": ".py",
   "mimetype": "text/x-python",
   "name": "python",
   "nbconvert_exporter": "python",
   "pygments_lexer": "ipython3",
   "version": "3.9.12"
  }
 },
 "nbformat": 4,
 "nbformat_minor": 5
}
