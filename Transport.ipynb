{
 "cells": [
  {
   "cell_type": "code",
   "execution_count": 27,
   "id": "521f5efb-9482-48e3-8d82-afb5923129f7",
   "metadata": {},
   "outputs": [],
   "source": [
    "import os\n",
    "import numpy as np\n",
    "import pandas as pd\n",
    "import matplotlib.pyplot as plt\n",
    "import seaborn as sns\n",
    "import statsmodels.api as sm"
   ]
  },
  {
   "cell_type": "code",
   "execution_count": 64,
   "id": "774178f7-d723-413c-8a73-a8c66a8653ca",
   "metadata": {
    "scrolled": true
   },
   "outputs": [
    {
     "data": {
      "text/html": [
       "<div>\n",
       "<style scoped>\n",
       "    .dataframe tbody tr th:only-of-type {\n",
       "        vertical-align: middle;\n",
       "    }\n",
       "\n",
       "    .dataframe tbody tr th {\n",
       "        vertical-align: top;\n",
       "    }\n",
       "\n",
       "    .dataframe thead th {\n",
       "        text-align: right;\n",
       "    }\n",
       "</style>\n",
       "<table border=\"1\" class=\"dataframe\">\n",
       "  <thead>\n",
       "    <tr style=\"text-align: right;\">\n",
       "      <th></th>\n",
       "      <th>zone</th>\n",
       "      <th>dwelling_unit_type</th>\n",
       "      <th>number_of_persons</th>\n",
       "      <th>number_of_vehicles</th>\n",
       "      <th>licensed_drivers</th>\n",
       "      <th>fulltime_workers</th>\n",
       "      <th>partime_workers</th>\n",
       "      <th>work_at_home_persons</th>\n",
       "      <th>number_of_students</th>\n",
       "      <th>number_of_females</th>\n",
       "      <th>number_of_males</th>\n",
       "      <th>number_of_children</th>\n",
       "      <th>number_of_adults</th>\n",
       "      <th>daily_work_trips</th>\n",
       "      <th>daily_non_work_trips</th>\n",
       "    </tr>\n",
       "  </thead>\n",
       "  <tbody>\n",
       "    <tr>\n",
       "      <th>0</th>\n",
       "      <td>29</td>\n",
       "      <td>2</td>\n",
       "      <td>3</td>\n",
       "      <td>1</td>\n",
       "      <td>3</td>\n",
       "      <td>1</td>\n",
       "      <td>1</td>\n",
       "      <td>0</td>\n",
       "      <td>1</td>\n",
       "      <td>2</td>\n",
       "      <td>1</td>\n",
       "      <td>0</td>\n",
       "      <td>0</td>\n",
       "      <td>2</td>\n",
       "      <td>9</td>\n",
       "    </tr>\n",
       "    <tr>\n",
       "      <th>1</th>\n",
       "      <td>6</td>\n",
       "      <td>2</td>\n",
       "      <td>2</td>\n",
       "      <td>1</td>\n",
       "      <td>2</td>\n",
       "      <td>2</td>\n",
       "      <td>0</td>\n",
       "      <td>0</td>\n",
       "      <td>0</td>\n",
       "      <td>1</td>\n",
       "      <td>1</td>\n",
       "      <td>0</td>\n",
       "      <td>0</td>\n",
       "      <td>3</td>\n",
       "      <td>7</td>\n",
       "    </tr>\n",
       "    <tr>\n",
       "      <th>2</th>\n",
       "      <td>11</td>\n",
       "      <td>2</td>\n",
       "      <td>1</td>\n",
       "      <td>0</td>\n",
       "      <td>0</td>\n",
       "      <td>0</td>\n",
       "      <td>0</td>\n",
       "      <td>0</td>\n",
       "      <td>0</td>\n",
       "      <td>1</td>\n",
       "      <td>0</td>\n",
       "      <td>0</td>\n",
       "      <td>1</td>\n",
       "      <td>0</td>\n",
       "      <td>0</td>\n",
       "    </tr>\n",
       "    <tr>\n",
       "      <th>3</th>\n",
       "      <td>14</td>\n",
       "      <td>2</td>\n",
       "      <td>1</td>\n",
       "      <td>0</td>\n",
       "      <td>1</td>\n",
       "      <td>0</td>\n",
       "      <td>1</td>\n",
       "      <td>0</td>\n",
       "      <td>1</td>\n",
       "      <td>1</td>\n",
       "      <td>0</td>\n",
       "      <td>0</td>\n",
       "      <td>0</td>\n",
       "      <td>0</td>\n",
       "      <td>3</td>\n",
       "    </tr>\n",
       "    <tr>\n",
       "      <th>4</th>\n",
       "      <td>24</td>\n",
       "      <td>2</td>\n",
       "      <td>2</td>\n",
       "      <td>0</td>\n",
       "      <td>0</td>\n",
       "      <td>0</td>\n",
       "      <td>0</td>\n",
       "      <td>0</td>\n",
       "      <td>2</td>\n",
       "      <td>1</td>\n",
       "      <td>1</td>\n",
       "      <td>0</td>\n",
       "      <td>0</td>\n",
       "      <td>0</td>\n",
       "      <td>4</td>\n",
       "    </tr>\n",
       "  </tbody>\n",
       "</table>\n",
       "</div>"
      ],
      "text/plain": [
       "   zone  dwelling_unit_type  number_of_persons  number_of_vehicles  \\\n",
       "0    29                   2                  3                   1   \n",
       "1     6                   2                  2                   1   \n",
       "2    11                   2                  1                   0   \n",
       "3    14                   2                  1                   0   \n",
       "4    24                   2                  2                   0   \n",
       "\n",
       "   licensed_drivers  fulltime_workers  partime_workers  work_at_home_persons  \\\n",
       "0                 3                 1                1                     0   \n",
       "1                 2                 2                0                     0   \n",
       "2                 0                 0                0                     0   \n",
       "3                 1                 0                1                     0   \n",
       "4                 0                 0                0                     0   \n",
       "\n",
       "   number_of_students  number_of_females  number_of_males  number_of_children  \\\n",
       "0                   1                  2                1                   0   \n",
       "1                   0                  1                1                   0   \n",
       "2                   0                  1                0                   0   \n",
       "3                   1                  1                0                   0   \n",
       "4                   2                  1                1                   0   \n",
       "\n",
       "   number_of_adults  daily_work_trips  daily_non_work_trips  \n",
       "0                 0                 2                     9  \n",
       "1                 0                 3                     7  \n",
       "2                 1                 0                     0  \n",
       "3                 0                 0                     3  \n",
       "4                 0                 0                     4  "
      ]
     },
     "execution_count": 64,
     "metadata": {},
     "output_type": "execute_result"
    }
   ],
   "source": [
    "data_path = os.path.join('data', 'trip_generation.csv')\n",
    "df = pd.read_csv(data_path)\n",
    "df.head(5)"
   ]
  },
  {
   "cell_type": "markdown",
   "id": "6f4d3f81-5df6-4d39-9af5-8c2f91c817a7",
   "metadata": {},
   "source": [
    "## Research Questions"
   ]
  },
  {
   "cell_type": "markdown",
   "id": "39c27f8e-3004-4d7a-b7f0-5334856e729f",
   "metadata": {},
   "source": [
    "1. What are the key determinants of daily work trip generations?\n",
    "\n",
    "2. What are the key determinants of daily non-work trip generations?\n",
    "\n",
    "3. What factors affect the daily trip-generation in a metropolitan area?"
   ]
  },
  {
   "cell_type": "code",
   "execution_count": 65,
   "id": "1498f220-d067-43bf-8f15-1acbcc5fdbd6",
   "metadata": {},
   "outputs": [
    {
     "data": {
      "text/plain": [
       "Index(['zone', 'dwelling_unit_type', 'number_of_persons', 'number_of_vehicles',\n",
       "       'licensed_drivers', 'fulltime_workers', 'partime_workers',\n",
       "       'work_at_home_persons', 'number_of_students', 'number_of_females',\n",
       "       'number_of_males', 'number_of_children', 'number_of_adults',\n",
       "       'daily_work_trips', 'daily_non_work_trips'],\n",
       "      dtype='object')"
      ]
     },
     "execution_count": 65,
     "metadata": {},
     "output_type": "execute_result"
    }
   ],
   "source": [
    "df.columns"
   ]
  },
  {
   "cell_type": "markdown",
   "id": "f20278fc-1d55-4dd2-9355-b86f202fb51c",
   "metadata": {},
   "source": [
    "### 1. What are the key determinants of daily work trip generations?\n",
    "#### Multiple Regression Model 1 - Daily Work Trips"
   ]
  },
  {
   "cell_type": "markdown",
   "id": "ebd8f5d2-59b1-4855-95c3-69e3078f5fa9",
   "metadata": {},
   "source": [
    "In this model, three variables were selected. \n",
    "\n",
    "The variables were the characteristics of the households that included the number of work at home persons, full-time and part-time workers. \n",
    "\n",
    "The rationale for selection of number of work at home persons was that it directly influence the amount of work trips. \n",
    "\n",
    "People who work remotely will not travel while those who commute to office generates at least two trips in a day. \n",
    "\n",
    "The same applies for the type of employment. \n",
    "\n",
    "Full time workers have to travel to office daily depending on whether they work remotely or not. \n",
    "\n",
    "However, part time workers travel less to their workplace even if the job has no remote option."
   ]
  },
  {
   "cell_type": "code",
   "execution_count": 66,
   "id": "29281725-0f3d-4701-bf3f-5bd8262f2e4f",
   "metadata": {},
   "outputs": [
    {
     "name": "stdout",
     "output_type": "stream",
     "text": [
      "                            OLS Regression Results                            \n",
      "==============================================================================\n",
      "Dep. Variable:       daily_work_trips   R-squared:                       0.481\n",
      "Model:                            OLS   Adj. R-squared:                  0.481\n",
      "Method:                 Least Squares   F-statistic:                     611.9\n",
      "Date:                Sat, 06 Jul 2024   Prob (F-statistic):          2.52e-281\n",
      "Time:                        09:37:34   Log-Likelihood:                -2188.8\n",
      "No. Observations:                1982   AIC:                             4386.\n",
      "Df Residuals:                    1978   BIC:                             4408.\n",
      "Df Model:                           3                                         \n",
      "Covariance Type:            nonrobust                                         \n",
      "========================================================================================\n",
      "                           coef    std err          t      P>|t|      [0.025      0.975]\n",
      "----------------------------------------------------------------------------------------\n",
      "const                    0.0512      0.029      1.763      0.078      -0.006       0.108\n",
      "fulltime_workers         0.8731      0.021     41.951      0.000       0.832       0.914\n",
      "partime_workers          0.6054      0.042     14.258      0.000       0.522       0.689\n",
      "work_at_home_persons     0.3095      0.072      4.303      0.000       0.168       0.451\n",
      "==============================================================================\n",
      "Omnibus:                      922.207   Durbin-Watson:                   1.897\n",
      "Prob(Omnibus):                  0.000   Jarque-Bera (JB):            17261.981\n",
      "Skew:                           1.724   Prob(JB):                         0.00\n",
      "Kurtosis:                      17.041   Cond. No.                         6.95\n",
      "==============================================================================\n",
      "\n",
      "Notes:\n",
      "[1] Standard Errors assume that the covariance matrix of the errors is correctly specified.\n"
     ]
    }
   ],
   "source": [
    "y = df['daily_work_trips']\n",
    "x = df[['fulltime_workers', 'partime_workers', 'work_at_home_persons']]\n",
    "x = sm.add_constant(x)\n",
    "model = sm.OLS(y, x)\n",
    "results = model.fit()\n",
    "print(results.summary())"
   ]
  },
  {
   "cell_type": "markdown",
   "id": "9d2c0397-a003-48e7-807e-e2cc3e829946",
   "metadata": {},
   "source": [
    "### 2. What are the key determinants of daily non-work trip generations?\n",
    "#### Multiple Regression Model 2 - Daily Non- Work Trips"
   ]
  },
  {
   "cell_type": "markdown",
   "id": "7836c9a4-7ee4-4f4a-91e4-53242160726b",
   "metadata": {},
   "source": [
    "The objective of this section was to create a model that can be used to estimate the total number of non-work trips. \n",
    "\n",
    "An assumption was made that students were the major contributors of non-work trips in a given household. Therefore, it was selected as the first variable. \n",
    "\n",
    "Secondly, the students have to be driven to school hence the number of licensed drivers in a household was considered as a vital variable in modelling the number of non-work trips. \n",
    "\n",
    "Additionally, the number of persons in a house was considered as the third variable in determining the amount of non-work trips. \n",
    "\n",
    "The choice of the variable was based on assumption that the more the people in a household, the higher the chances of having students and licensed drivers that directly affect the number of non-work trips. "
   ]
  },
  {
   "cell_type": "code",
   "execution_count": 40,
   "id": "bac021d3-7587-4cdf-a404-cfb00abaa97f",
   "metadata": {},
   "outputs": [
    {
     "data": {
      "text/plain": [
       "Index(['zone', 'dwelling_unit_type', 'number_of_persons', 'number_of_vehicles',\n",
       "       'licensed_drivers', 'fulltime_workers', 'partime_workers',\n",
       "       'work_at_home_persons', 'number_of_students', 'number_of_females',\n",
       "       'number_of_males', 'number_of_children', 'number_of_adults',\n",
       "       'daily_work_trips', 'daily_non_work_trips'],\n",
       "      dtype='object')"
      ]
     },
     "execution_count": 40,
     "metadata": {},
     "output_type": "execute_result"
    }
   ],
   "source": [
    "df.columns"
   ]
  },
  {
   "cell_type": "code",
   "execution_count": 43,
   "id": "55f86f2f-ed58-4cca-aa57-d87dda6f3a23",
   "metadata": {},
   "outputs": [
    {
     "name": "stdout",
     "output_type": "stream",
     "text": [
      "                             OLS Regression Results                             \n",
      "================================================================================\n",
      "Dep. Variable:     daily_non_work_trips   R-squared:                       0.335\n",
      "Model:                              OLS   Adj. R-squared:                  0.334\n",
      "Method:                   Least Squares   F-statistic:                     332.1\n",
      "Date:                  Fri, 05 Jul 2024   Prob (F-statistic):          1.26e-174\n",
      "Time:                          20:34:47   Log-Likelihood:                -4125.3\n",
      "No. Observations:                  1982   AIC:                             8259.\n",
      "Df Residuals:                      1978   BIC:                             8281.\n",
      "Df Model:                             3                                         \n",
      "Covariance Type:              nonrobust                                         \n",
      "======================================================================================\n",
      "                         coef    std err          t      P>|t|      [0.025      0.975]\n",
      "--------------------------------------------------------------------------------------\n",
      "const                  0.6556      0.095      6.901      0.000       0.469       0.842\n",
      "number_of_persons      0.4907      0.055      8.927      0.000       0.383       0.598\n",
      "licensed_drivers       0.6419      0.060     10.694      0.000       0.524       0.760\n",
      "number_of_students     1.0916      0.082     13.321      0.000       0.931       1.252\n",
      "==============================================================================\n",
      "Omnibus:                      569.952   Durbin-Watson:                   1.607\n",
      "Prob(Omnibus):                  0.000   Jarque-Bera (JB):             2035.004\n",
      "Skew:                           1.391   Prob(JB):                         0.00\n",
      "Kurtosis:                       7.112   Cond. No.                         6.71\n",
      "==============================================================================\n",
      "\n",
      "Notes:\n",
      "[1] Standard Errors assume that the covariance matrix of the errors is correctly specified.\n"
     ]
    }
   ],
   "source": [
    "y = df['daily_non_work_trips']\n",
    "x = df[['number_of_persons', 'licensed_drivers', 'number_of_students']]\n",
    "x = sm.add_constant(x)\n",
    "model = sm.OLS(y, x)\n",
    "results = model.fit()\n",
    "print(results.summary())"
   ]
  },
  {
   "cell_type": "markdown",
   "id": "13be8ebd-96c2-428d-8379-9aba63e72164",
   "metadata": {},
   "source": [
    "### 3. What factors affect the daily trip-generation in a metropolitan area?\n",
    "#### Multiple Regression Model 3 - Total Trips"
   ]
  },
  {
   "cell_type": "markdown",
   "id": "a6a74525-61e4-4b4f-80dc-452d49936fc9",
   "metadata": {},
   "source": [
    "The trip generation model takes into account both the first two models (work and non-work trip). \n",
    "\n",
    "Consequently, it is based on a combination of variable that affect work and non-work trips generated by each household. \n",
    "\n",
    "To generate the model, the variables from each of the models were combined and the five with the highest t-test values were selected and used in the final model. \n",
    "\n",
    "Therefore, the five variables selected were the number of licensed drivers, number of work at home persons, number of part and full-time workers and the students in each of the households. \n",
    "\n",
    "The number of work at home persons and full-time workers affects the work trips while the number of students directly affect the amount of non-work trips. \n",
    "\n",
    "The number of licensed drivers affect both the two models since the driver has to be licensed irrespective of whether they are making work or non-work trip. "
   ]
  },
  {
   "cell_type": "code",
   "execution_count": 112,
   "id": "6f404f6f-f7bb-4e90-b4d6-f3760af2b65d",
   "metadata": {},
   "outputs": [
    {
     "name": "stdout",
     "output_type": "stream",
     "text": [
      "                            OLS Regression Results                            \n",
      "==============================================================================\n",
      "Dep. Variable:       daily_work_trips   R-squared:                       0.483\n",
      "Model:                            OLS   Adj. R-squared:                  0.482\n",
      "Method:                 Least Squares   F-statistic:                     369.6\n",
      "Date:                Sat, 06 Jul 2024   Prob (F-statistic):          4.00e-280\n",
      "Time:                        10:09:44   Log-Likelihood:                -2185.2\n",
      "No. Observations:                1982   AIC:                             4382.\n",
      "Df Residuals:                    1976   BIC:                             4416.\n",
      "Df Model:                           5                                         \n",
      "Covariance Type:            nonrobust                                         \n",
      "========================================================================================\n",
      "                           coef    std err          t      P>|t|      [0.025      0.975]\n",
      "----------------------------------------------------------------------------------------\n",
      "const                    0.0507      0.031      1.614      0.107      -0.011       0.112\n",
      "fulltime_workers         0.8567      0.025     34.636      0.000       0.808       0.905\n",
      "partime_workers          0.6301      0.045     13.910      0.000       0.541       0.719\n",
      "work_at_home_persons     0.3003      0.073      4.107      0.000       0.157       0.444\n",
      "licensed_drivers         0.0308      0.024      1.268      0.205      -0.017       0.078\n",
      "number_of_students      -0.0675      0.026     -2.553      0.011      -0.119      -0.016\n",
      "==============================================================================\n",
      "Omnibus:                      912.028   Durbin-Watson:                   1.889\n",
      "Prob(Omnibus):                  0.000   Jarque-Bera (JB):            16914.165\n",
      "Skew:                           1.700   Prob(JB):                         0.00\n",
      "Kurtosis:                      16.901   Cond. No.                         9.27\n",
      "==============================================================================\n",
      "\n",
      "Notes:\n",
      "[1] Standard Errors assume that the covariance matrix of the errors is correctly specified.\n"
     ]
    }
   ],
   "source": [
    "y = df['daily_work_trips']\n",
    "x = df[['fulltime_workers', 'partime_workers','work_at_home_persons' \n",
    "        'licensed_drivers', 'number_of_students']]\n",
    "x = sm.add_constant(x)\n",
    "model = sm.OLS(y, x)\n",
    "results = model.fit()\n",
    "print(results.summary())"
   ]
  },
  {
   "cell_type": "code",
   "execution_count": null,
   "id": "ff2c41a1-6238-435d-848e-1636b3722819",
   "metadata": {},
   "outputs": [],
   "source": []
  },
  {
   "cell_type": "code",
   "execution_count": 83,
   "id": "412d07bb-288f-4cc9-86b5-c9a9c6b5b528",
   "metadata": {},
   "outputs": [],
   "source": [
    "df['total_trips'] = ''"
   ]
  },
  {
   "cell_type": "code",
   "execution_count": 84,
   "id": "ecf9a5b7-8ac7-42db-9cb1-022c181403c9",
   "metadata": {},
   "outputs": [],
   "source": [
    "df['total_trips'] = df['daily_work_trips'] + df['daily_non_work_trips']"
   ]
  },
  {
   "cell_type": "code",
   "execution_count": 85,
   "id": "d43336d8-6875-45cf-8c69-7e37a74e1698",
   "metadata": {},
   "outputs": [
    {
     "data": {
      "text/html": [
       "<div>\n",
       "<style scoped>\n",
       "    .dataframe tbody tr th:only-of-type {\n",
       "        vertical-align: middle;\n",
       "    }\n",
       "\n",
       "    .dataframe tbody tr th {\n",
       "        vertical-align: top;\n",
       "    }\n",
       "\n",
       "    .dataframe thead th {\n",
       "        text-align: right;\n",
       "    }\n",
       "</style>\n",
       "<table border=\"1\" class=\"dataframe\">\n",
       "  <thead>\n",
       "    <tr style=\"text-align: right;\">\n",
       "      <th></th>\n",
       "      <th>zone</th>\n",
       "      <th>dwelling_unit_type</th>\n",
       "      <th>number_of_persons</th>\n",
       "      <th>number_of_vehicles</th>\n",
       "      <th>licensed_drivers</th>\n",
       "      <th>fulltime_workers</th>\n",
       "      <th>partime_workers</th>\n",
       "      <th>work_at_home_persons</th>\n",
       "      <th>number_of_students</th>\n",
       "      <th>number_of_females</th>\n",
       "      <th>number_of_males</th>\n",
       "      <th>number_of_children</th>\n",
       "      <th>number_of_adults</th>\n",
       "      <th>daily_work_trips</th>\n",
       "      <th>daily_non_work_trips</th>\n",
       "      <th>total_trips</th>\n",
       "    </tr>\n",
       "  </thead>\n",
       "  <tbody>\n",
       "    <tr>\n",
       "      <th>0</th>\n",
       "      <td>29</td>\n",
       "      <td>2</td>\n",
       "      <td>3</td>\n",
       "      <td>1</td>\n",
       "      <td>3</td>\n",
       "      <td>1</td>\n",
       "      <td>1</td>\n",
       "      <td>0</td>\n",
       "      <td>1</td>\n",
       "      <td>2</td>\n",
       "      <td>1</td>\n",
       "      <td>0</td>\n",
       "      <td>0</td>\n",
       "      <td>2</td>\n",
       "      <td>9</td>\n",
       "      <td>11</td>\n",
       "    </tr>\n",
       "    <tr>\n",
       "      <th>1</th>\n",
       "      <td>6</td>\n",
       "      <td>2</td>\n",
       "      <td>2</td>\n",
       "      <td>1</td>\n",
       "      <td>2</td>\n",
       "      <td>2</td>\n",
       "      <td>0</td>\n",
       "      <td>0</td>\n",
       "      <td>0</td>\n",
       "      <td>1</td>\n",
       "      <td>1</td>\n",
       "      <td>0</td>\n",
       "      <td>0</td>\n",
       "      <td>3</td>\n",
       "      <td>7</td>\n",
       "      <td>10</td>\n",
       "    </tr>\n",
       "    <tr>\n",
       "      <th>2</th>\n",
       "      <td>11</td>\n",
       "      <td>2</td>\n",
       "      <td>1</td>\n",
       "      <td>0</td>\n",
       "      <td>0</td>\n",
       "      <td>0</td>\n",
       "      <td>0</td>\n",
       "      <td>0</td>\n",
       "      <td>0</td>\n",
       "      <td>1</td>\n",
       "      <td>0</td>\n",
       "      <td>0</td>\n",
       "      <td>1</td>\n",
       "      <td>0</td>\n",
       "      <td>0</td>\n",
       "      <td>0</td>\n",
       "    </tr>\n",
       "    <tr>\n",
       "      <th>3</th>\n",
       "      <td>14</td>\n",
       "      <td>2</td>\n",
       "      <td>1</td>\n",
       "      <td>0</td>\n",
       "      <td>1</td>\n",
       "      <td>0</td>\n",
       "      <td>1</td>\n",
       "      <td>0</td>\n",
       "      <td>1</td>\n",
       "      <td>1</td>\n",
       "      <td>0</td>\n",
       "      <td>0</td>\n",
       "      <td>0</td>\n",
       "      <td>0</td>\n",
       "      <td>3</td>\n",
       "      <td>3</td>\n",
       "    </tr>\n",
       "    <tr>\n",
       "      <th>4</th>\n",
       "      <td>24</td>\n",
       "      <td>2</td>\n",
       "      <td>2</td>\n",
       "      <td>0</td>\n",
       "      <td>0</td>\n",
       "      <td>0</td>\n",
       "      <td>0</td>\n",
       "      <td>0</td>\n",
       "      <td>2</td>\n",
       "      <td>1</td>\n",
       "      <td>1</td>\n",
       "      <td>0</td>\n",
       "      <td>0</td>\n",
       "      <td>0</td>\n",
       "      <td>4</td>\n",
       "      <td>4</td>\n",
       "    </tr>\n",
       "  </tbody>\n",
       "</table>\n",
       "</div>"
      ],
      "text/plain": [
       "   zone  dwelling_unit_type  number_of_persons  number_of_vehicles  \\\n",
       "0    29                   2                  3                   1   \n",
       "1     6                   2                  2                   1   \n",
       "2    11                   2                  1                   0   \n",
       "3    14                   2                  1                   0   \n",
       "4    24                   2                  2                   0   \n",
       "\n",
       "   licensed_drivers  fulltime_workers  partime_workers  work_at_home_persons  \\\n",
       "0                 3                 1                1                     0   \n",
       "1                 2                 2                0                     0   \n",
       "2                 0                 0                0                     0   \n",
       "3                 1                 0                1                     0   \n",
       "4                 0                 0                0                     0   \n",
       "\n",
       "   number_of_students  number_of_females  number_of_males  number_of_children  \\\n",
       "0                   1                  2                1                   0   \n",
       "1                   0                  1                1                   0   \n",
       "2                   0                  1                0                   0   \n",
       "3                   1                  1                0                   0   \n",
       "4                   2                  1                1                   0   \n",
       "\n",
       "   number_of_adults  daily_work_trips  daily_non_work_trips  total_trips  \n",
       "0                 0                 2                     9           11  \n",
       "1                 0                 3                     7           10  \n",
       "2                 1                 0                     0            0  \n",
       "3                 0                 0                     3            3  \n",
       "4                 0                 0                     4            4  "
      ]
     },
     "execution_count": 85,
     "metadata": {},
     "output_type": "execute_result"
    }
   ],
   "source": [
    "df.head(5)"
   ]
  },
  {
   "cell_type": "markdown",
   "id": "8f5fda4a-77b9-46f8-9f6c-fc18a61852fd",
   "metadata": {},
   "source": [
    "#### Non Work Daily Trips"
   ]
  },
  {
   "cell_type": "code",
   "execution_count": 101,
   "id": "ba41bd6f-9722-4721-91e9-f2ff5a17d8b2",
   "metadata": {},
   "outputs": [
    {
     "name": "stdout",
     "output_type": "stream",
     "text": [
      "                            OLS Regression Results                            \n",
      "==============================================================================\n",
      "Dep. Variable:            total_trips   R-squared:                       0.935\n",
      "Model:                            OLS   Adj. R-squared:                  0.935\n",
      "Method:                 Least Squares   F-statistic:                     5732.\n",
      "Date:                Sat, 06 Jul 2024   Prob (F-statistic):               0.00\n",
      "Time:                        10:02:22   Log-Likelihood:                -2179.1\n",
      "No. Observations:                1982   AIC:                             4370.\n",
      "Df Residuals:                    1976   BIC:                             4404.\n",
      "Df Model:                           5                                         \n",
      "Covariance Type:            nonrobust                                         \n",
      "========================================================================================\n",
      "                           coef    std err          t      P>|t|      [0.025      0.975]\n",
      "----------------------------------------------------------------------------------------\n",
      "const                    0.0169      0.032      0.530      0.596      -0.046       0.079\n",
      "licensed_drivers         0.0053      0.024      0.219      0.827      -0.042       0.053\n",
      "fulltime_workers         0.8194      0.024     33.848      0.000       0.772       0.867\n",
      "partime_workers          0.5287      0.044     12.002      0.000       0.442       0.615\n",
      "daily_non_work_trips     1.0464      0.008    132.154      0.000       1.031       1.062\n",
      "number_of_children      -0.0836      0.033     -2.537      0.011      -0.148      -0.019\n",
      "==============================================================================\n",
      "Omnibus:                      930.820   Durbin-Watson:                   1.923\n",
      "Prob(Omnibus):                  0.000   Jarque-Bera (JB):            16752.777\n",
      "Skew:                           1.758   Prob(JB):                         0.00\n",
      "Kurtosis:                      16.802   Cond. No.                         10.9\n",
      "==============================================================================\n",
      "\n",
      "Notes:\n",
      "[1] Standard Errors assume that the covariance matrix of the errors is correctly specified.\n"
     ]
    }
   ],
   "source": [
    "y = df['total_trips']\n",
    "x = df[['licensed_drivers', 'fulltime_workers', 'partime_workers', \n",
    "        'daily_non_work_trips', 'number_of_children']]\n",
    "x = sm.add_constant(x)\n",
    "model = sm.OLS(y, x)\n",
    "results = model.fit()\n",
    "print(results.summary())"
   ]
  },
  {
   "cell_type": "markdown",
   "id": "a0a9322b-0df2-496a-8995-5e897762e6c6",
   "metadata": {},
   "source": [
    "#### Work Daily Trips"
   ]
  },
  {
   "cell_type": "code",
   "execution_count": 107,
   "id": "f79cc727-e095-4a15-877b-f0f41baeee97",
   "metadata": {},
   "outputs": [
    {
     "name": "stdout",
     "output_type": "stream",
     "text": [
      "                            OLS Regression Results                            \n",
      "==============================================================================\n",
      "Dep. Variable:            total_trips   R-squared:                       0.558\n",
      "Model:                            OLS   Adj. R-squared:                  0.557\n",
      "Method:                 Least Squares   F-statistic:                     356.5\n",
      "Date:                Sat, 06 Jul 2024   Prob (F-statistic):               0.00\n",
      "Time:                        10:04:08   Log-Likelihood:                -4085.6\n",
      "No. Observations:                1982   AIC:                             8187.\n",
      "Df Residuals:                    1974   BIC:                             8232.\n",
      "Df Model:                           7                                         \n",
      "Covariance Type:            nonrobust                                         \n",
      "========================================================================================\n",
      "                           coef    std err          t      P>|t|      [0.025      0.975]\n",
      "----------------------------------------------------------------------------------------\n",
      "const                    0.7782      0.082      9.480      0.000       0.617       0.939\n",
      "licensed_drivers         0.5140      0.064      8.070      0.000       0.389       0.639\n",
      "fulltime_workers         0.2794      0.082      3.397      0.001       0.118       0.441\n",
      "partime_workers          0.3425      0.124      2.754      0.006       0.099       0.586\n",
      "number_of_students       1.4428      0.083     17.416      0.000       1.280       1.605\n",
      "daily_work_trips         1.3990      0.059     23.826      0.000       1.284       1.514\n",
      "number_of_children       0.1828      0.100      1.825      0.068      -0.014       0.379\n",
      "work_at_home_persons     0.8220      0.194      4.242      0.000       0.442       1.202\n",
      "==============================================================================\n",
      "Omnibus:                      635.915   Durbin-Watson:                   1.645\n",
      "Prob(Omnibus):                  0.000   Jarque-Bera (JB):             2297.105\n",
      "Skew:                           1.559   Prob(JB):                         0.00\n",
      "Kurtosis:                       7.253   Cond. No.                         11.3\n",
      "==============================================================================\n",
      "\n",
      "Notes:\n",
      "[1] Standard Errors assume that the covariance matrix of the errors is correctly specified.\n"
     ]
    }
   ],
   "source": [
    "y = df['total_trips']\n",
    "x = df[['licensed_drivers', 'fulltime_workers', 'partime_workers', 'number_of_students', \n",
    "        'daily_work_trips', 'number_of_children', 'work_at_home_persons']]\n",
    "x = sm.add_constant(x)\n",
    "model = sm.OLS(y, x)\n",
    "results = model.fit()\n",
    "print(results.summary())"
   ]
  },
  {
   "cell_type": "code",
   "execution_count": null,
   "id": "12f60aa9-6dee-43ca-ae7c-dccc7ce712ef",
   "metadata": {},
   "outputs": [],
   "source": []
  }
 ],
 "metadata": {
  "kernelspec": {
   "display_name": "Python 3 (ipykernel)",
   "language": "python",
   "name": "python3"
  },
  "language_info": {
   "codemirror_mode": {
    "name": "ipython",
    "version": 3
   },
   "file_extension": ".py",
   "mimetype": "text/x-python",
   "name": "python",
   "nbconvert_exporter": "python",
   "pygments_lexer": "ipython3",
   "version": "3.12.2"
  }
 },
 "nbformat": 4,
 "nbformat_minor": 5
}
