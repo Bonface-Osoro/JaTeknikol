{
 "cells": [
  {
   "cell_type": "markdown",
   "id": "0d7793b4",
   "metadata": {},
   "source": [
    "Lets import the necessary libraries to help in this analysis"
   ]
  },
  {
   "cell_type": "code",
   "execution_count": 22,
   "id": "0c4328a2",
   "metadata": {},
   "outputs": [],
   "source": [
    "import os\n",
    "import warnings\n",
    "import pandas as pd\n",
    "import matplotlib.pyplot as plt\n",
    "import seaborn as sns\n",
    "warnings.filterwarnings('ignore')"
   ]
  },
  {
   "cell_type": "markdown",
   "id": "55ab1d63",
   "metadata": {},
   "source": [
    "We need to import the data, but first there are several files that we need to work. The data is separated in terms of decade. Therefore, we write a script that looks for all the files containing the data, read and combine them together into a single dataframe that we can work on."
   ]
  },
  {
   "cell_type": "code",
   "execution_count": 4,
   "id": "7f645b91",
   "metadata": {},
   "outputs": [],
   "source": [
    "# Get the current working directory\n",
    "cwd = os.getcwd()"
   ]
  },
  {
   "cell_type": "code",
   "execution_count": 9,
   "id": "43a425b1",
   "metadata": {},
   "outputs": [
    {
     "data": {
      "text/plain": [
       "(667, 14)"
      ]
     },
     "execution_count": 9,
     "metadata": {},
     "output_type": "execute_result"
    }
   ],
   "source": [
    "files = os.listdir(cwd)\n",
    "\n",
    "dfs = []\n",
    "\n",
    "for file in files:\n",
    "    \n",
    "    if file.endswith('.csv'):\n",
    "        \n",
    "        df = pd.read_csv(file)\n",
    "        dfs.append(df)\n",
    "        \n",
    "df = pd.concat(dfs, ignore_index = True)\n",
    "df.shape"
   ]
  },
  {
   "cell_type": "markdown",
   "id": "016fbc2c",
   "metadata": {},
   "source": [
    "### Data overview "
   ]
  },
  {
   "cell_type": "markdown",
   "id": "6adbfcc9",
   "metadata": {},
   "source": [
    "Let us have an overview of the dataset"
   ]
  },
  {
   "cell_type": "code",
   "execution_count": 10,
   "id": "aa3a472a",
   "metadata": {},
   "outputs": [
    {
     "data": {
      "text/html": [
       "<div>\n",
       "<style scoped>\n",
       "    .dataframe tbody tr th:only-of-type {\n",
       "        vertical-align: middle;\n",
       "    }\n",
       "\n",
       "    .dataframe tbody tr th {\n",
       "        vertical-align: top;\n",
       "    }\n",
       "\n",
       "    .dataframe thead th {\n",
       "        text-align: right;\n",
       "    }\n",
       "</style>\n",
       "<table border=\"1\" class=\"dataframe\">\n",
       "  <thead>\n",
       "    <tr style=\"text-align: right;\">\n",
       "      <th></th>\n",
       "      <th>title</th>\n",
       "      <th>artist</th>\n",
       "      <th>top_genre</th>\n",
       "      <th>year</th>\n",
       "      <th>bpm</th>\n",
       "      <th>nrgy</th>\n",
       "      <th>dnce</th>\n",
       "      <th>dB</th>\n",
       "      <th>live</th>\n",
       "      <th>val</th>\n",
       "      <th>dur</th>\n",
       "      <th>acous</th>\n",
       "      <th>spch</th>\n",
       "      <th>pop</th>\n",
       "    </tr>\n",
       "  </thead>\n",
       "  <tbody>\n",
       "    <tr>\n",
       "      <th>0</th>\n",
       "      <td>No Scrubs</td>\n",
       "      <td>TLC</td>\n",
       "      <td>atl hip hop</td>\n",
       "      <td>1999</td>\n",
       "      <td>93</td>\n",
       "      <td>68</td>\n",
       "      <td>74</td>\n",
       "      <td>-4</td>\n",
       "      <td>7</td>\n",
       "      <td>59</td>\n",
       "      <td>214</td>\n",
       "      <td>3</td>\n",
       "      <td>10</td>\n",
       "      <td>79</td>\n",
       "    </tr>\n",
       "    <tr>\n",
       "      <th>1</th>\n",
       "      <td>I Want It That Way</td>\n",
       "      <td>Backstreet Boys</td>\n",
       "      <td>boy band</td>\n",
       "      <td>2001</td>\n",
       "      <td>99</td>\n",
       "      <td>70</td>\n",
       "      <td>69</td>\n",
       "      <td>-6</td>\n",
       "      <td>16</td>\n",
       "      <td>48</td>\n",
       "      <td>214</td>\n",
       "      <td>22</td>\n",
       "      <td>3</td>\n",
       "      <td>76</td>\n",
       "    </tr>\n",
       "    <tr>\n",
       "      <th>2</th>\n",
       "      <td>It Wasn't Me</td>\n",
       "      <td>Shaggy</td>\n",
       "      <td>dance pop</td>\n",
       "      <td>2000</td>\n",
       "      <td>95</td>\n",
       "      <td>61</td>\n",
       "      <td>85</td>\n",
       "      <td>-5</td>\n",
       "      <td>31</td>\n",
       "      <td>65</td>\n",
       "      <td>228</td>\n",
       "      <td>6</td>\n",
       "      <td>7</td>\n",
       "      <td>76</td>\n",
       "    </tr>\n",
       "    <tr>\n",
       "      <th>3</th>\n",
       "      <td>Because You Loved Me (Theme from \"Up Close and...</td>\n",
       "      <td>CÃ©line Dion</td>\n",
       "      <td>canadian pop</td>\n",
       "      <td>1996</td>\n",
       "      <td>120</td>\n",
       "      <td>47</td>\n",
       "      <td>61</td>\n",
       "      <td>-10</td>\n",
       "      <td>10</td>\n",
       "      <td>18</td>\n",
       "      <td>274</td>\n",
       "      <td>31</td>\n",
       "      <td>3</td>\n",
       "      <td>74</td>\n",
       "    </tr>\n",
       "  </tbody>\n",
       "</table>\n",
       "</div>"
      ],
      "text/plain": [
       "                                               title           artist  \\\n",
       "0                                          No Scrubs              TLC   \n",
       "1                                 I Want It That Way  Backstreet Boys   \n",
       "2                                       It Wasn't Me           Shaggy   \n",
       "3  Because You Loved Me (Theme from \"Up Close and...     CÃ©line Dion   \n",
       "\n",
       "      top_genre  year  bpm  nrgy  dnce  dB  live  val  dur  acous  spch  pop  \n",
       "0   atl hip hop  1999   93    68    74  -4     7   59  214      3    10   79  \n",
       "1      boy band  2001   99    70    69  -6    16   48  214     22     3   76  \n",
       "2     dance pop  2000   95    61    85  -5    31   65  228      6     7   76  \n",
       "3  canadian pop  1996  120    47    61 -10    10   18  274     31     3   74  "
      ]
     },
     "execution_count": 10,
     "metadata": {},
     "output_type": "execute_result"
    }
   ],
   "source": [
    "df.head(4)"
   ]
  },
  {
   "cell_type": "code",
   "execution_count": 11,
   "id": "29c81299",
   "metadata": {},
   "outputs": [
    {
     "data": {
      "text/plain": [
       "Index(['title', 'artist', 'top_genre', 'year', 'bpm', 'nrgy', 'dnce', 'dB',\n",
       "       'live', 'val', 'dur', 'acous', 'spch', 'pop'],\n",
       "      dtype='object')"
      ]
     },
     "execution_count": 11,
     "metadata": {},
     "output_type": "execute_result"
    }
   ],
   "source": [
    "df.columns"
   ]
  },
  {
   "cell_type": "markdown",
   "id": "bd419f01",
   "metadata": {},
   "source": [
    "1. top genre: genre of the song\n",
    "\n",
    "2. year: year of the song (due to re-releases, the year might not correspond to the release year of the original song)\n",
    "\n",
    "3. bpm(beats per minute): beats per minute\n",
    "\n",
    "4. nrgy(energy): energy of a song, the higher the value the more energetic the song is\n",
    "\n",
    "5. dnce(danceability): the higher the value, the easier it is to dance to this song.\n",
    "\n",
    "6. dB(loudness): the higher the value, the louder the song.\n",
    "\n",
    "7. live(liveness): the higher the value, the more likely the song is a live recording.\n",
    "\n",
    "8. val(valence): the higher the value, the more positive mood for the song.\n",
    "\n",
    "9. dur(duration): the duration of the song.\n",
    "\n",
    "10. acous(acousticness): the higher the value the more acoustic the song is.\n",
    "\n",
    "11. spch(speechiness): the higher the value the more spoken word the song contains.\n",
    "\n",
    "12. pop(popularity): the higher the value the more popular the song is."
   ]
  },
  {
   "cell_type": "markdown",
   "id": "6f85f487",
   "metadata": {},
   "source": [
    "##### Business Question "
   ]
  },
  {
   "cell_type": "markdown",
   "id": "df862931",
   "metadata": {},
   "source": [
    "Now let us formulate a business question for this project\n",
    "\n",
    "1. What was the most popular genre in each decade?\n",
    "2. Who was the most listened to artist in each decade?\n",
    "2. What was the average danceability score of most recommended songs in every decade? \n",
    "3. What was the average bpm score of most recommended songs in every decade? \n",
    "4. What is the secret behind a popular song on online streaming platforms?"
   ]
  },
  {
   "cell_type": "markdown",
   "id": "9d5359f7",
   "metadata": {},
   "source": [
    "### Data Cleaning "
   ]
  },
  {
   "cell_type": "markdown",
   "id": "39d3f40a",
   "metadata": {},
   "source": [
    "Let us drop unnecessary columns"
   ]
  },
  {
   "cell_type": "code",
   "execution_count": 12,
   "id": "d53f054b",
   "metadata": {},
   "outputs": [
    {
     "data": {
      "text/html": [
       "<div>\n",
       "<style scoped>\n",
       "    .dataframe tbody tr th:only-of-type {\n",
       "        vertical-align: middle;\n",
       "    }\n",
       "\n",
       "    .dataframe tbody tr th {\n",
       "        vertical-align: top;\n",
       "    }\n",
       "\n",
       "    .dataframe thead th {\n",
       "        text-align: right;\n",
       "    }\n",
       "</style>\n",
       "<table border=\"1\" class=\"dataframe\">\n",
       "  <thead>\n",
       "    <tr style=\"text-align: right;\">\n",
       "      <th></th>\n",
       "      <th>artist</th>\n",
       "      <th>top_genre</th>\n",
       "      <th>bpm</th>\n",
       "      <th>nrgy</th>\n",
       "      <th>dnce</th>\n",
       "      <th>dB</th>\n",
       "      <th>live</th>\n",
       "      <th>val</th>\n",
       "      <th>dur</th>\n",
       "      <th>acous</th>\n",
       "      <th>spch</th>\n",
       "      <th>pop</th>\n",
       "    </tr>\n",
       "  </thead>\n",
       "  <tbody>\n",
       "    <tr>\n",
       "      <th>0</th>\n",
       "      <td>TLC</td>\n",
       "      <td>atl hip hop</td>\n",
       "      <td>93</td>\n",
       "      <td>68</td>\n",
       "      <td>74</td>\n",
       "      <td>-4</td>\n",
       "      <td>7</td>\n",
       "      <td>59</td>\n",
       "      <td>214</td>\n",
       "      <td>3</td>\n",
       "      <td>10</td>\n",
       "      <td>79</td>\n",
       "    </tr>\n",
       "    <tr>\n",
       "      <th>1</th>\n",
       "      <td>Backstreet Boys</td>\n",
       "      <td>boy band</td>\n",
       "      <td>99</td>\n",
       "      <td>70</td>\n",
       "      <td>69</td>\n",
       "      <td>-6</td>\n",
       "      <td>16</td>\n",
       "      <td>48</td>\n",
       "      <td>214</td>\n",
       "      <td>22</td>\n",
       "      <td>3</td>\n",
       "      <td>76</td>\n",
       "    </tr>\n",
       "    <tr>\n",
       "      <th>2</th>\n",
       "      <td>Shaggy</td>\n",
       "      <td>dance pop</td>\n",
       "      <td>95</td>\n",
       "      <td>61</td>\n",
       "      <td>85</td>\n",
       "      <td>-5</td>\n",
       "      <td>31</td>\n",
       "      <td>65</td>\n",
       "      <td>228</td>\n",
       "      <td>6</td>\n",
       "      <td>7</td>\n",
       "      <td>76</td>\n",
       "    </tr>\n",
       "    <tr>\n",
       "      <th>3</th>\n",
       "      <td>CÃ©line Dion</td>\n",
       "      <td>canadian pop</td>\n",
       "      <td>120</td>\n",
       "      <td>47</td>\n",
       "      <td>61</td>\n",
       "      <td>-10</td>\n",
       "      <td>10</td>\n",
       "      <td>18</td>\n",
       "      <td>274</td>\n",
       "      <td>31</td>\n",
       "      <td>3</td>\n",
       "      <td>74</td>\n",
       "    </tr>\n",
       "  </tbody>\n",
       "</table>\n",
       "</div>"
      ],
      "text/plain": [
       "            artist     top_genre  bpm  nrgy  dnce  dB  live  val  dur  acous  \\\n",
       "0              TLC   atl hip hop   93    68    74  -4     7   59  214      3   \n",
       "1  Backstreet Boys      boy band   99    70    69  -6    16   48  214     22   \n",
       "2           Shaggy     dance pop   95    61    85  -5    31   65  228      6   \n",
       "3     CÃ©line Dion  canadian pop  120    47    61 -10    10   18  274     31   \n",
       "\n",
       "   spch  pop  \n",
       "0    10   79  \n",
       "1     3   76  \n",
       "2     7   76  \n",
       "3     3   74  "
      ]
     },
     "execution_count": 12,
     "metadata": {},
     "output_type": "execute_result"
    }
   ],
   "source": [
    "df = df.drop(['year', 'title'], axis = 1)\n",
    "df.head(4)"
   ]
  },
  {
   "cell_type": "markdown",
   "id": "e829e0b6",
   "metadata": {},
   "source": [
    "Let us check for missing datapoints"
   ]
  },
  {
   "cell_type": "code",
   "execution_count": 13,
   "id": "0de5b677",
   "metadata": {},
   "outputs": [],
   "source": [
    "attributes = ['artist', 'top_genre', 'bpm', 'nrgy', 'dnce', 'dB',\n",
    "       'live', 'val', 'dur', 'acous', 'spch', 'pop']"
   ]
  },
  {
   "cell_type": "code",
   "execution_count": null,
   "id": "3f19351d",
   "metadata": {},
   "outputs": [],
   "source": [
    "for attribute in attributes:\n",
    "    \n",
    "    null_check = pd.isnull(df[attribute])\n",
    "    print(df[null_check])"
   ]
  },
  {
   "cell_type": "markdown",
   "id": "cf72eed2",
   "metadata": {},
   "source": [
    "We can see that the 'top_genre' column has several missing values. We can drop them"
   ]
  },
  {
   "cell_type": "markdown",
   "id": "369e240d",
   "metadata": {},
   "source": [
    "<div class=\"alert alert-block alert-warning\">\n",
    "\n",
    "<b>!! WARNING !!</b> This is a small dataset and dropping some can hugely compromise the integrity of the analytical results.\n",
    "\n",
    "</div>"
   ]
  },
  {
   "cell_type": "markdown",
   "id": "ddc7c696",
   "metadata": {},
   "source": [
    "So we are gping to use a different technique to fill the missing values. We fill any missing values with the most popular value in the corresponding column"
   ]
  },
  {
   "cell_type": "markdown",
   "id": "ddb34a2e",
   "metadata": {},
   "source": [
    "Let us iterate through the columns, find the common value and then fill it where there is any missing value."
   ]
  },
  {
   "cell_type": "code",
   "execution_count": 15,
   "id": "fdd5b89f",
   "metadata": {},
   "outputs": [],
   "source": [
    "for column in df.columns:\n",
    "    \n",
    "    mode_value = df[column].mode()[0]\n",
    "    df[column].fillna(mode_value, inplace = True)"
   ]
  },
  {
   "cell_type": "markdown",
   "id": "afc28a64",
   "metadata": {},
   "source": [
    "Let us confirm that all the missing values have been replaced"
   ]
  },
  {
   "cell_type": "code",
   "execution_count": 16,
   "id": "23588999",
   "metadata": {},
   "outputs": [],
   "source": [
    "attributes = ['top_genre']"
   ]
  },
  {
   "cell_type": "code",
   "execution_count": 17,
   "id": "fad86fbd",
   "metadata": {},
   "outputs": [
    {
     "name": "stdout",
     "output_type": "stream",
     "text": [
      "Empty DataFrame\n",
      "Columns: [artist, top_genre, bpm, nrgy, dnce, dB, live, val, dur, acous, spch, pop]\n",
      "Index: []\n"
     ]
    }
   ],
   "source": [
    "for attribute in attributes:\n",
    "    \n",
    "    null_check = pd.isnull(df[attribute])\n",
    "    print(df[null_check])"
   ]
  },
  {
   "cell_type": "markdown",
   "id": "6e226c56",
   "metadata": {},
   "source": [
    "We do not have any missing values hence the loop worked successfully. So let us answer the business questions."
   ]
  },
  {
   "cell_type": "markdown",
   "id": "81d92d05",
   "metadata": {},
   "source": [
    "###### 1. What was the most popular genre in each decade?"
   ]
  },
  {
   "cell_type": "code",
   "execution_count": 23,
   "id": "6a2b82d9",
   "metadata": {},
   "outputs": [
    {
     "data": {
      "text/html": [
       "<div>\n",
       "<style scoped>\n",
       "    .dataframe tbody tr th:only-of-type {\n",
       "        vertical-align: middle;\n",
       "    }\n",
       "\n",
       "    .dataframe tbody tr th {\n",
       "        vertical-align: top;\n",
       "    }\n",
       "\n",
       "    .dataframe thead th {\n",
       "        text-align: right;\n",
       "    }\n",
       "</style>\n",
       "<table border=\"1\" class=\"dataframe\">\n",
       "  <thead>\n",
       "    <tr style=\"text-align: right;\">\n",
       "      <th></th>\n",
       "      <th>title</th>\n",
       "      <th>artist</th>\n",
       "      <th>top_genre</th>\n",
       "      <th>year</th>\n",
       "      <th>bpm</th>\n",
       "      <th>nrgy</th>\n",
       "      <th>dnce</th>\n",
       "      <th>dB</th>\n",
       "      <th>live</th>\n",
       "      <th>val</th>\n",
       "      <th>dur</th>\n",
       "      <th>acous</th>\n",
       "      <th>spch</th>\n",
       "      <th>pop</th>\n",
       "      <th>decade</th>\n",
       "    </tr>\n",
       "  </thead>\n",
       "  <tbody>\n",
       "    <tr>\n",
       "      <th>0</th>\n",
       "      <td>No Scrubs</td>\n",
       "      <td>TLC</td>\n",
       "      <td>atl hip hop</td>\n",
       "      <td>1999</td>\n",
       "      <td>93</td>\n",
       "      <td>68</td>\n",
       "      <td>74</td>\n",
       "      <td>-4</td>\n",
       "      <td>7</td>\n",
       "      <td>59</td>\n",
       "      <td>214</td>\n",
       "      <td>3</td>\n",
       "      <td>10</td>\n",
       "      <td>79</td>\n",
       "      <td>1990</td>\n",
       "    </tr>\n",
       "    <tr>\n",
       "      <th>1</th>\n",
       "      <td>I Want It That Way</td>\n",
       "      <td>Backstreet Boys</td>\n",
       "      <td>boy band</td>\n",
       "      <td>2001</td>\n",
       "      <td>99</td>\n",
       "      <td>70</td>\n",
       "      <td>69</td>\n",
       "      <td>-6</td>\n",
       "      <td>16</td>\n",
       "      <td>48</td>\n",
       "      <td>214</td>\n",
       "      <td>22</td>\n",
       "      <td>3</td>\n",
       "      <td>76</td>\n",
       "      <td>1990</td>\n",
       "    </tr>\n",
       "    <tr>\n",
       "      <th>2</th>\n",
       "      <td>It Wasn't Me</td>\n",
       "      <td>Shaggy</td>\n",
       "      <td>dance pop</td>\n",
       "      <td>2000</td>\n",
       "      <td>95</td>\n",
       "      <td>61</td>\n",
       "      <td>85</td>\n",
       "      <td>-5</td>\n",
       "      <td>31</td>\n",
       "      <td>65</td>\n",
       "      <td>228</td>\n",
       "      <td>6</td>\n",
       "      <td>7</td>\n",
       "      <td>76</td>\n",
       "      <td>1990</td>\n",
       "    </tr>\n",
       "    <tr>\n",
       "      <th>3</th>\n",
       "      <td>Because You Loved Me (Theme from \"Up Close and...</td>\n",
       "      <td>CÃ©line Dion</td>\n",
       "      <td>canadian pop</td>\n",
       "      <td>1996</td>\n",
       "      <td>120</td>\n",
       "      <td>47</td>\n",
       "      <td>61</td>\n",
       "      <td>-10</td>\n",
       "      <td>10</td>\n",
       "      <td>18</td>\n",
       "      <td>274</td>\n",
       "      <td>31</td>\n",
       "      <td>3</td>\n",
       "      <td>74</td>\n",
       "      <td>1990</td>\n",
       "    </tr>\n",
       "  </tbody>\n",
       "</table>\n",
       "</div>"
      ],
      "text/plain": [
       "                                               title           artist  \\\n",
       "0                                          No Scrubs              TLC   \n",
       "1                                 I Want It That Way  Backstreet Boys   \n",
       "2                                       It Wasn't Me           Shaggy   \n",
       "3  Because You Loved Me (Theme from \"Up Close and...     CÃ©line Dion   \n",
       "\n",
       "      top_genre  year  bpm  nrgy  dnce  dB  live  val  dur  acous  spch  pop  \\\n",
       "0   atl hip hop  1999   93    68    74  -4     7   59  214      3    10   79   \n",
       "1      boy band  2001   99    70    69  -6    16   48  214     22     3   76   \n",
       "2     dance pop  2000   95    61    85  -5    31   65  228      6     7   76   \n",
       "3  canadian pop  1996  120    47    61 -10    10   18  274     31     3   74   \n",
       "\n",
       "  decade  \n",
       "0   1990  \n",
       "1   1990  \n",
       "2   1990  \n",
       "3   1990  "
      ]
     },
     "execution_count": 23,
     "metadata": {},
     "output_type": "execute_result"
    }
   ],
   "source": [
    "dfs = []\n",
    "years = ['1950', '1960', '1970', '1980', '1990', '2000', '2010']\n",
    "\n",
    "for file in files:\n",
    "    \n",
    "    if file.endswith('.csv'):\n",
    "        \n",
    "        df = pd.read_csv(file)\n",
    "        df['decade'] = ''\n",
    "        \n",
    "        for i in range(len(df)):\n",
    "            \n",
    "            for year in years:\n",
    "                \n",
    "                if year in file:\n",
    "                    \n",
    "                    df['decade'].loc[i] = year\n",
    "                    \n",
    "        dfs.append(df)\n",
    "df = pd.concat(dfs, ignore_index = True)\n",
    "df.head(4)"
   ]
  },
  {
   "cell_type": "markdown",
   "id": "976c25c0",
   "metadata": {},
   "source": [
    "Let us confirm if the decade is an integer or a string using the following loop."
   ]
  },
  {
   "cell_type": "code",
   "execution_count": null,
   "id": "b87df4b5",
   "metadata": {},
   "outputs": [],
   "source": [
    "for i in range(len(df)):\n",
    "    \n",
    "    print(type(df['decade'].loc[i]))"
   ]
  },
  {
   "cell_type": "markdown",
   "id": "3ed8596b",
   "metadata": {},
   "source": [
    "Let us convert the string values to integers using the code below"
   ]
  },
  {
   "cell_type": "code",
   "execution_count": 25,
   "id": "0d4c9743",
   "metadata": {},
   "outputs": [],
   "source": [
    "df['decade'] = df['decade'].astype(int)"
   ]
  },
  {
   "cell_type": "markdown",
   "id": "d5b5aa29",
   "metadata": {},
   "source": [
    "Let us confirm if the decades are now integers"
   ]
  },
  {
   "cell_type": "code",
   "execution_count": null,
   "id": "79be39c2",
   "metadata": {},
   "outputs": [],
   "source": [
    "for i in range(len(df)):\n",
    "    \n",
    "    print(type(df['decade'].loc[i]))"
   ]
  },
  {
   "cell_type": "markdown",
   "id": "c64f132e",
   "metadata": {},
   "source": [
    "Let us check the available genres in our dataset"
   ]
  },
  {
   "cell_type": "code",
   "execution_count": null,
   "id": "c2d7cb01",
   "metadata": {},
   "outputs": [],
   "source": [
    "df['top_genre'].unique()"
   ]
  },
  {
   "cell_type": "code",
   "execution_count": 30,
   "id": "f53b8692",
   "metadata": {},
   "outputs": [
    {
     "data": {
      "text/html": [
       "<div>\n",
       "<style scoped>\n",
       "    .dataframe tbody tr th:only-of-type {\n",
       "        vertical-align: middle;\n",
       "    }\n",
       "\n",
       "    .dataframe tbody tr th {\n",
       "        vertical-align: top;\n",
       "    }\n",
       "\n",
       "    .dataframe thead th {\n",
       "        text-align: right;\n",
       "    }\n",
       "</style>\n",
       "<table border=\"1\" class=\"dataframe\">\n",
       "  <thead>\n",
       "    <tr style=\"text-align: right;\">\n",
       "      <th></th>\n",
       "      <th>decade</th>\n",
       "      <th>Genre</th>\n",
       "    </tr>\n",
       "  </thead>\n",
       "  <tbody>\n",
       "    <tr>\n",
       "      <th>0</th>\n",
       "      <td>1950</td>\n",
       "      <td>adult standards</td>\n",
       "    </tr>\n",
       "    <tr>\n",
       "      <th>1</th>\n",
       "      <td>1960</td>\n",
       "      <td>adult standards</td>\n",
       "    </tr>\n",
       "    <tr>\n",
       "      <th>2</th>\n",
       "      <td>1970</td>\n",
       "      <td>album rock</td>\n",
       "    </tr>\n",
       "    <tr>\n",
       "      <th>3</th>\n",
       "      <td>1980</td>\n",
       "      <td>album rock</td>\n",
       "    </tr>\n",
       "    <tr>\n",
       "      <th>4</th>\n",
       "      <td>1990</td>\n",
       "      <td>dance pop</td>\n",
       "    </tr>\n",
       "    <tr>\n",
       "      <th>5</th>\n",
       "      <td>2000</td>\n",
       "      <td>dance pop</td>\n",
       "    </tr>\n",
       "    <tr>\n",
       "      <th>6</th>\n",
       "      <td>2010</td>\n",
       "      <td>dance pop</td>\n",
       "    </tr>\n",
       "  </tbody>\n",
       "</table>\n",
       "</div>"
      ],
      "text/plain": [
       "   decade            Genre\n",
       "0    1950  adult standards\n",
       "1    1960  adult standards\n",
       "2    1970       album rock\n",
       "3    1980       album rock\n",
       "4    1990        dance pop\n",
       "5    2000        dance pop\n",
       "6    2010        dance pop"
      ]
     },
     "execution_count": 30,
     "metadata": {},
     "output_type": "execute_result"
    }
   ],
   "source": [
    "df.groupby('decade').top_genre.agg(pd.Series.mode).reset_index(name = 'Genre')"
   ]
  },
  {
   "cell_type": "markdown",
   "id": "4d36058a",
   "metadata": {},
   "source": [
    "##### 2. Who was the most listened to artist in each decade? "
   ]
  },
  {
   "cell_type": "code",
   "execution_count": 31,
   "id": "484cf2eb",
   "metadata": {},
   "outputs": [
    {
     "data": {
      "text/html": [
       "<div>\n",
       "<style scoped>\n",
       "    .dataframe tbody tr th:only-of-type {\n",
       "        vertical-align: middle;\n",
       "    }\n",
       "\n",
       "    .dataframe tbody tr th {\n",
       "        vertical-align: top;\n",
       "    }\n",
       "\n",
       "    .dataframe thead th {\n",
       "        text-align: right;\n",
       "    }\n",
       "</style>\n",
       "<table border=\"1\" class=\"dataframe\">\n",
       "  <thead>\n",
       "    <tr style=\"text-align: right;\">\n",
       "      <th></th>\n",
       "      <th>decade</th>\n",
       "      <th>Artist</th>\n",
       "    </tr>\n",
       "  </thead>\n",
       "  <tbody>\n",
       "    <tr>\n",
       "      <th>0</th>\n",
       "      <td>1950</td>\n",
       "      <td>[Craig Douglas, Dean Martin, The Fleetwoods]</td>\n",
       "    </tr>\n",
       "    <tr>\n",
       "      <th>1</th>\n",
       "      <td>1960</td>\n",
       "      <td>The Beatles</td>\n",
       "    </tr>\n",
       "    <tr>\n",
       "      <th>2</th>\n",
       "      <td>1970</td>\n",
       "      <td>[Elton John, Queen]</td>\n",
       "    </tr>\n",
       "    <tr>\n",
       "      <th>3</th>\n",
       "      <td>1980</td>\n",
       "      <td>Madonna</td>\n",
       "    </tr>\n",
       "    <tr>\n",
       "      <th>4</th>\n",
       "      <td>1990</td>\n",
       "      <td>Mariah Carey</td>\n",
       "    </tr>\n",
       "    <tr>\n",
       "      <th>5</th>\n",
       "      <td>2000</td>\n",
       "      <td>Rihanna</td>\n",
       "    </tr>\n",
       "    <tr>\n",
       "      <th>6</th>\n",
       "      <td>2010</td>\n",
       "      <td>Post Malone</td>\n",
       "    </tr>\n",
       "  </tbody>\n",
       "</table>\n",
       "</div>"
      ],
      "text/plain": [
       "   decade                                        Artist\n",
       "0    1950  [Craig Douglas, Dean Martin, The Fleetwoods]\n",
       "1    1960                                   The Beatles\n",
       "2    1970                           [Elton John, Queen]\n",
       "3    1980                                       Madonna\n",
       "4    1990                                  Mariah Carey\n",
       "5    2000                                       Rihanna\n",
       "6    2010                                   Post Malone"
      ]
     },
     "execution_count": 31,
     "metadata": {},
     "output_type": "execute_result"
    }
   ],
   "source": [
    "df.groupby('decade').artist.agg(pd.Series.mode).reset_index(name = 'Artist')"
   ]
  },
  {
   "cell_type": "markdown",
   "id": "4d9429a5",
   "metadata": {},
   "source": [
    "##### 3. What was the average danceability score of most recommended songs in every decade? "
   ]
  },
  {
   "cell_type": "code",
   "execution_count": 32,
   "id": "063d77a3",
   "metadata": {},
   "outputs": [
    {
     "data": {
      "text/html": [
       "<div>\n",
       "<style scoped>\n",
       "    .dataframe tbody tr th:only-of-type {\n",
       "        vertical-align: middle;\n",
       "    }\n",
       "\n",
       "    .dataframe tbody tr th {\n",
       "        vertical-align: top;\n",
       "    }\n",
       "\n",
       "    .dataframe thead th {\n",
       "        text-align: right;\n",
       "    }\n",
       "</style>\n",
       "<table border=\"1\" class=\"dataframe\">\n",
       "  <thead>\n",
       "    <tr style=\"text-align: right;\">\n",
       "      <th></th>\n",
       "      <th>count</th>\n",
       "      <th>mean</th>\n",
       "    </tr>\n",
       "    <tr>\n",
       "      <th>decade</th>\n",
       "      <th></th>\n",
       "      <th></th>\n",
       "    </tr>\n",
       "  </thead>\n",
       "  <tbody>\n",
       "    <tr>\n",
       "      <th>1950</th>\n",
       "      <td>73</td>\n",
       "      <td>51.027397</td>\n",
       "    </tr>\n",
       "    <tr>\n",
       "      <th>1960</th>\n",
       "      <td>97</td>\n",
       "      <td>51.175258</td>\n",
       "    </tr>\n",
       "    <tr>\n",
       "      <th>1970</th>\n",
       "      <td>104</td>\n",
       "      <td>56.596154</td>\n",
       "    </tr>\n",
       "    <tr>\n",
       "      <th>1980</th>\n",
       "      <td>105</td>\n",
       "      <td>62.276190</td>\n",
       "    </tr>\n",
       "    <tr>\n",
       "      <th>1990</th>\n",
       "      <td>88</td>\n",
       "      <td>65.147727</td>\n",
       "    </tr>\n",
       "    <tr>\n",
       "      <th>2000</th>\n",
       "      <td>100</td>\n",
       "      <td>68.530000</td>\n",
       "    </tr>\n",
       "    <tr>\n",
       "      <th>2010</th>\n",
       "      <td>100</td>\n",
       "      <td>65.370000</td>\n",
       "    </tr>\n",
       "  </tbody>\n",
       "</table>\n",
       "</div>"
      ],
      "text/plain": [
       "        count       mean\n",
       "decade                  \n",
       "1950       73  51.027397\n",
       "1960       97  51.175258\n",
       "1970      104  56.596154\n",
       "1980      105  62.276190\n",
       "1990       88  65.147727\n",
       "2000      100  68.530000\n",
       "2010      100  65.370000"
      ]
     },
     "execution_count": 32,
     "metadata": {},
     "output_type": "execute_result"
    }
   ],
   "source": [
    "df.groupby('decade').dnce.agg(['count', 'mean'])"
   ]
  }
 ],
 "metadata": {
  "kernelspec": {
   "display_name": "Python 3 (ipykernel)",
   "language": "python",
   "name": "python3"
  },
  "language_info": {
   "codemirror_mode": {
    "name": "ipython",
    "version": 3
   },
   "file_extension": ".py",
   "mimetype": "text/x-python",
   "name": "python",
   "nbconvert_exporter": "python",
   "pygments_lexer": "ipython3",
   "version": "3.9.12"
  }
 },
 "nbformat": 4,
 "nbformat_minor": 5
}
